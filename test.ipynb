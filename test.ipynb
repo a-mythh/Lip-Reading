{
 "cells": [
  {
   "cell_type": "markdown",
   "metadata": {},
   "source": [
    "#### Load libraries"
   ]
  },
  {
   "cell_type": "code",
   "execution_count": 1,
   "metadata": {},
   "outputs": [],
   "source": [
    "import os\n",
    "import cv2\n",
    "import tensorflow as tf\n",
    "import matplotlib.pyplot as plt\n",
    "import imageio\n",
    "import numpy as np\n",
    "from typing import List"
   ]
  },
  {
   "cell_type": "markdown",
   "metadata": {},
   "source": [
    "**Check and limit GPU usage**"
   ]
  },
  {
   "cell_type": "code",
   "execution_count": 2,
   "metadata": {},
   "outputs": [],
   "source": [
    "physical_devices = tf.config.list_physical_devices('GPU')\n",
    "try:\n",
    "  tf.config.experimental.set_memory_growth(physical_devices[0], True)\n",
    "except:\n",
    "  pass"
   ]
  },
  {
   "cell_type": "code",
   "execution_count": 3,
   "metadata": {},
   "outputs": [
    {
     "data": {
      "text/plain": [
       "[PhysicalDevice(name='/physical_device:GPU:0', device_type='GPU')]"
      ]
     },
     "execution_count": 3,
     "metadata": {},
     "output_type": "execute_result"
    }
   ],
   "source": [
    "physical_devices"
   ]
  },
  {
   "cell_type": "markdown",
   "metadata": {},
   "source": [
    "#### 1. Build Data Loading Functions"
   ]
  },
  {
   "cell_type": "code",
   "execution_count": 4,
   "metadata": {},
   "outputs": [],
   "source": [
    "import gdown"
   ]
  },
  {
   "cell_type": "code",
   "execution_count": null,
   "metadata": {},
   "outputs": [],
   "source": [
    "url = 'https://drive.google.com/uc?id=1YlvpDLix3S-U8fd-gqRwPcWXAXm8JwjL'\n",
    "output = 'data.zip'\n",
    "gdown.download(url=url, output=output, quiet=False)\n",
    "gdown.extractall(output)"
   ]
  },
  {
   "cell_type": "markdown",
   "metadata": {},
   "source": [
    "**Data Loading Function**"
   ]
  },
  {
   "cell_type": "code",
   "execution_count": 5,
   "metadata": {},
   "outputs": [],
   "source": [
    "def load_video(path:str) -> List[float]:\n",
    "  cap = cv2.VideoCapture(path)\n",
    "  frames = []\n",
    "\n",
    "  for _ in range(int(cap.get(cv2.CAP_PROP_FRAME_COUNT))):\n",
    "    ret, frame = cap.read()\n",
    "    frame = tf.image.rgb_to_grayscale(frame)\n",
    "    \n",
    "    # isolate mouth region\n",
    "    frames.append(frame[190:236, 80:220, :])\n",
    "  cap.release()\n",
    "\n",
    "  # scaling data\n",
    "  mean = tf.math.reduce_mean(frames)\n",
    "  std = tf.math.reduce_std(tf.cast(frames, tf.float32))\n",
    "  return tf.cast((frames - mean), tf.float32) / std"
   ]
  },
  {
   "cell_type": "code",
   "execution_count": 6,
   "metadata": {},
   "outputs": [],
   "source": [
    "# vocabulary for lip reading\n",
    "vocab = [x for x in \"abcdefghijklmnopqrstuvwxyz'?!123456789 \"]"
   ]
  },
  {
   "cell_type": "code",
   "execution_count": 7,
   "metadata": {},
   "outputs": [
    {
     "name": "stdout",
     "output_type": "stream",
     "text": [
      "The vocabulary is: ['', 'a', 'b', 'c', 'd', 'e', 'f', 'g', 'h', 'i', 'j', 'k', 'l', 'm', 'n', 'o', 'p', 'q', 'r', 's', 't', 'u', 'v', 'w', 'x', 'y', 'z', \"'\", '?', '!', '1', '2', '3', '4', '5', '6', '7', '8', '9', ' '] (size =40)\n"
     ]
    }
   ],
   "source": [
    "char_to_num = tf.keras.layers.StringLookup(vocabulary=vocab, oov_token=\"\")\n",
    "num_to_char = tf.keras.layers.StringLookup(\n",
    "    vocabulary=char_to_num.get_vocabulary(), oov_token=\"\", invert=True\n",
    ")\n",
    "\n",
    "print(\n",
    "    f\"The vocabulary is: {char_to_num.get_vocabulary()} \"\n",
    "    f\"(size ={char_to_num.vocabulary_size()})\"\n",
    ")"
   ]
  },
  {
   "cell_type": "markdown",
   "metadata": {},
   "source": [
    "***Kind of encoding the letters and numbers***"
   ]
  },
  {
   "cell_type": "code",
   "execution_count": 8,
   "metadata": {},
   "outputs": [
    {
     "data": {
      "text/plain": [
       "<tf.Tensor: shape=(4,), dtype=int64, numpy=array([ 1, 13,  9, 20], dtype=int64)>"
      ]
     },
     "execution_count": 8,
     "metadata": {},
     "output_type": "execute_result"
    }
   ],
   "source": [
    "char_to_num(['a', 'm', 'i', 't'])"
   ]
  },
  {
   "cell_type": "code",
   "execution_count": 9,
   "metadata": {},
   "outputs": [
    {
     "data": {
      "text/plain": [
       "<tf.Tensor: shape=(4,), dtype=string, numpy=array([b'a', b'm', b'i', b't'], dtype=object)>"
      ]
     },
     "execution_count": 9,
     "metadata": {},
     "output_type": "execute_result"
    }
   ],
   "source": [
    "num_to_char([ 1, 13,  9, 20])"
   ]
  },
  {
   "cell_type": "markdown",
   "metadata": {},
   "source": [
    "**Load alignments (labels)**"
   ]
  },
  {
   "cell_type": "code",
   "execution_count": 10,
   "metadata": {},
   "outputs": [],
   "source": [
    "def load_alignments(path:str) -> List[str]:\n",
    "  with open(path, 'r') as f:\n",
    "    lines = f.readlines()\n",
    "  \n",
    "  tokens = []\n",
    "  for line in lines:\n",
    "    line = line.split()\n",
    "\n",
    "    # ignore lines with silence\n",
    "    if line[2] != 'sil':\n",
    "      tokens = [*tokens, ' ', line[2]]\n",
    "  \n",
    "  return char_to_num(tf.reshape(tf.strings.unicode_split(tokens, input_encoding='UTF-8'), (-1)))[1:]"
   ]
  },
  {
   "cell_type": "markdown",
   "metadata": {},
   "source": [
    "**Load video and alignments together**"
   ]
  },
  {
   "cell_type": "code",
   "execution_count": 11,
   "metadata": {},
   "outputs": [],
   "source": [
    "def load_data(path:str):\n",
    "  path = bytes.decode(path.numpy())\n",
    "\n",
    "  file_name = path.split('\\\\')[-1].split('.')[0]\n",
    "  video_path = os.path.join('data', 's1', f'{file_name}.mpg')\n",
    "  alignment_path = os.path.join('data', 'alignments', 's1', f'{file_name}.align')\n",
    "  frames = load_video(video_path)\n",
    "  alignments = load_alignments(alignment_path)\n",
    "\n",
    "  return frames, alignments"
   ]
  },
  {
   "cell_type": "markdown",
   "metadata": {},
   "source": [
    "***Let's use a test sample***"
   ]
  },
  {
   "cell_type": "code",
   "execution_count": 12,
   "metadata": {},
   "outputs": [],
   "source": [
    "test_sample = '.\\\\data\\\\s1\\\\bbaf2n.mpg'"
   ]
  },
  {
   "cell_type": "code",
   "execution_count": null,
   "metadata": {},
   "outputs": [
    {
     "data": {
      "text/plain": [
       "'bbaf2n'"
      ]
     },
     "execution_count": 27,
     "metadata": {},
     "output_type": "execute_result"
    }
   ],
   "source": [
    "tf.convert_to_tensor(test_sample).numpy().decode().split('\\\\')[-1].split('.')[0]"
   ]
  },
  {
   "cell_type": "code",
   "execution_count": 13,
   "metadata": {},
   "outputs": [
    {
     "data": {
      "text/plain": [
       "(<tf.Tensor: shape=(75, 46, 140, 1), dtype=float32, numpy=\n",
       " array([[[[1.4991663 ],\n",
       "          [1.4991663 ],\n",
       "          [1.4616871 ],\n",
       "          ...,\n",
       "          [0.41227072],\n",
       "          [0.41227072],\n",
       "          [0.41227072]],\n",
       " \n",
       "         [[1.4991663 ],\n",
       "          [1.4991663 ],\n",
       "          [1.4616871 ],\n",
       "          ...,\n",
       "          [0.41227072],\n",
       "          [0.41227072],\n",
       "          [0.41227072]],\n",
       " \n",
       "         [[1.4616871 ],\n",
       "          [1.4616871 ],\n",
       "          [1.4991663 ],\n",
       "          ...,\n",
       "          [0.3373124 ],\n",
       "          [0.3373124 ],\n",
       "          [0.3373124 ]],\n",
       " \n",
       "         ...,\n",
       " \n",
       "         [[1.0494163 ],\n",
       "          [1.0494163 ],\n",
       "          [1.0119373 ],\n",
       "          ...,\n",
       "          [0.11243746],\n",
       "          [0.11243746],\n",
       "          [0.07495831]],\n",
       " \n",
       "         [[1.0494163 ],\n",
       "          [1.0494163 ],\n",
       "          [1.0119373 ],\n",
       "          ...,\n",
       "          [0.11243746],\n",
       "          [0.07495831],\n",
       "          [0.07495831]],\n",
       " \n",
       "         [[1.0494163 ],\n",
       "          [1.0494163 ],\n",
       "          [1.0119373 ],\n",
       "          ...,\n",
       "          [0.07495831],\n",
       "          [0.07495831],\n",
       "          [0.03747915]]],\n",
       " \n",
       " \n",
       "        [[[1.4242079 ],\n",
       "          [1.4242079 ],\n",
       "          [1.4242079 ],\n",
       "          ...,\n",
       "          [0.3373124 ],\n",
       "          [0.3373124 ],\n",
       "          [0.3373124 ]],\n",
       " \n",
       "         [[1.4242079 ],\n",
       "          [1.4242079 ],\n",
       "          [1.4242079 ],\n",
       "          ...,\n",
       "          [0.3373124 ],\n",
       "          [0.3373124 ],\n",
       "          [0.3373124 ]],\n",
       " \n",
       "         [[1.4242079 ],\n",
       "          [1.4242079 ],\n",
       "          [1.4242079 ],\n",
       "          ...,\n",
       "          [0.29983324],\n",
       "          [0.29983324],\n",
       "          [0.29983324]],\n",
       " \n",
       "         ...,\n",
       " \n",
       "         [[1.0494163 ],\n",
       "          [1.0494163 ],\n",
       "          [1.0119373 ],\n",
       "          ...,\n",
       "          [0.11243746],\n",
       "          [0.11243746],\n",
       "          [0.07495831]],\n",
       " \n",
       "         [[1.0494163 ],\n",
       "          [1.0494163 ],\n",
       "          [1.0119373 ],\n",
       "          ...,\n",
       "          [0.11243746],\n",
       "          [0.07495831],\n",
       "          [0.07495831]],\n",
       " \n",
       "         [[1.0494163 ],\n",
       "          [1.0494163 ],\n",
       "          [1.0119373 ],\n",
       "          ...,\n",
       "          [0.07495831],\n",
       "          [0.07495831],\n",
       "          [0.03747915]]],\n",
       " \n",
       " \n",
       "        [[[1.3492496 ],\n",
       "          [1.3492496 ],\n",
       "          [1.3492496 ],\n",
       "          ...,\n",
       "          [0.3373124 ],\n",
       "          [0.3373124 ],\n",
       "          [0.3373124 ]],\n",
       " \n",
       "         [[1.3492496 ],\n",
       "          [1.3492496 ],\n",
       "          [1.3492496 ],\n",
       "          ...,\n",
       "          [0.3373124 ],\n",
       "          [0.3373124 ],\n",
       "          [0.3373124 ]],\n",
       " \n",
       "         [[1.4242079 ],\n",
       "          [1.4242079 ],\n",
       "          [1.3867288 ],\n",
       "          ...,\n",
       "          [0.26235408],\n",
       "          [0.29983324],\n",
       "          [0.29983324]],\n",
       " \n",
       "         ...,\n",
       " \n",
       "         [[0.97445804],\n",
       "          [0.97445804],\n",
       "          [0.9369789 ],\n",
       "          ...,\n",
       "          [0.11243746],\n",
       "          [0.11243746],\n",
       "          [0.07495831]],\n",
       " \n",
       "         [[0.97445804],\n",
       "          [0.97445804],\n",
       "          [0.9369789 ],\n",
       "          ...,\n",
       "          [0.11243746],\n",
       "          [0.07495831],\n",
       "          [0.07495831]],\n",
       " \n",
       "         [[0.97445804],\n",
       "          [0.97445804],\n",
       "          [0.9369789 ],\n",
       "          ...,\n",
       "          [0.07495831],\n",
       "          [0.07495831],\n",
       "          [0.03747915]]],\n",
       " \n",
       " \n",
       "        ...,\n",
       " \n",
       " \n",
       "        [[[1.4991663 ],\n",
       "          [1.4991663 ],\n",
       "          [1.4991663 ],\n",
       "          ...,\n",
       "          [0.29983324],\n",
       "          [0.29983324],\n",
       "          [0.29983324]],\n",
       " \n",
       "         [[1.4242079 ],\n",
       "          [1.4242079 ],\n",
       "          [1.4242079 ],\n",
       "          ...,\n",
       "          [0.29983324],\n",
       "          [0.29983324],\n",
       "          [0.29983324]],\n",
       " \n",
       "         [[1.4616871 ],\n",
       "          [1.4616871 ],\n",
       "          [1.4242079 ],\n",
       "          ...,\n",
       "          [0.29983324],\n",
       "          [0.26235408],\n",
       "          [0.26235408]],\n",
       " \n",
       "         ...,\n",
       " \n",
       "         [[1.0868955 ],\n",
       "          [1.0494163 ],\n",
       "          [1.0494163 ],\n",
       "          ...,\n",
       "          [0.07495831],\n",
       "          [0.07495831],\n",
       "          [0.07495831]],\n",
       " \n",
       "         [[1.0494163 ],\n",
       "          [1.0494163 ],\n",
       "          [1.0494163 ],\n",
       "          ...,\n",
       "          [0.07495831],\n",
       "          [0.07495831],\n",
       "          [0.07495831]],\n",
       " \n",
       "         [[1.0494163 ],\n",
       "          [1.0494163 ],\n",
       "          [1.0494163 ],\n",
       "          ...,\n",
       "          [0.07495831],\n",
       "          [0.07495831],\n",
       "          [0.03747915]]],\n",
       " \n",
       " \n",
       "        [[[1.4991663 ],\n",
       "          [1.4991663 ],\n",
       "          [1.5366454 ],\n",
       "          ...,\n",
       "          [0.3373124 ],\n",
       "          [0.29983324],\n",
       "          [0.29983324]],\n",
       " \n",
       "         [[1.4242079 ],\n",
       "          [1.4242079 ],\n",
       "          [1.4616871 ],\n",
       "          ...,\n",
       "          [0.3373124 ],\n",
       "          [0.29983324],\n",
       "          [0.29983324]],\n",
       " \n",
       "         [[1.4616871 ],\n",
       "          [1.4616871 ],\n",
       "          [1.4242079 ],\n",
       "          ...,\n",
       "          [0.26235408],\n",
       "          [0.29983324],\n",
       "          [0.29983324]],\n",
       " \n",
       "         ...,\n",
       " \n",
       "         [[1.0494163 ],\n",
       "          [1.0119373 ],\n",
       "          [1.0119373 ],\n",
       "          ...,\n",
       "          [0.03747915],\n",
       "          [0.03747915],\n",
       "          [0.03747915]],\n",
       " \n",
       "         [[1.0494163 ],\n",
       "          [1.0119373 ],\n",
       "          [1.0119373 ],\n",
       "          ...,\n",
       "          [0.03747915],\n",
       "          [0.03747915],\n",
       "          [0.03747915]],\n",
       " \n",
       "         [[1.0119373 ],\n",
       "          [1.0119373 ],\n",
       "          [0.97445804],\n",
       "          ...,\n",
       "          [0.03747915],\n",
       "          [0.03747915],\n",
       "          [0.        ]]],\n",
       " \n",
       " \n",
       "        [[[1.4616871 ],\n",
       "          [1.4616871 ],\n",
       "          [1.4616871 ],\n",
       "          ...,\n",
       "          [0.29983324],\n",
       "          [0.29983324],\n",
       "          [0.29983324]],\n",
       " \n",
       "         [[1.4616871 ],\n",
       "          [1.4616871 ],\n",
       "          [1.4616871 ],\n",
       "          ...,\n",
       "          [0.29983324],\n",
       "          [0.29983324],\n",
       "          [0.29983324]],\n",
       " \n",
       "         [[1.4242079 ],\n",
       "          [1.4242079 ],\n",
       "          [1.3867288 ],\n",
       "          ...,\n",
       "          [0.29983324],\n",
       "          [0.29983324],\n",
       "          [0.29983324]],\n",
       " \n",
       "         ...,\n",
       " \n",
       "         [[1.0494163 ],\n",
       "          [1.0119373 ],\n",
       "          [1.0119373 ],\n",
       "          ...,\n",
       "          [0.03747915],\n",
       "          [0.03747915],\n",
       "          [0.03747915]],\n",
       " \n",
       "         [[0.97445804],\n",
       "          [0.9369789 ],\n",
       "          [0.97445804],\n",
       "          ...,\n",
       "          [0.03747915],\n",
       "          [0.03747915],\n",
       "          [0.03747915]],\n",
       " \n",
       "         [[0.97445804],\n",
       "          [0.9369789 ],\n",
       "          [0.97445804],\n",
       "          ...,\n",
       "          [0.03747915],\n",
       "          [0.03747915],\n",
       "          [0.        ]]]], dtype=float32)>,\n",
       " <tf.Tensor: shape=(21,), dtype=int64, numpy=\n",
       " array([ 2,  9, 14, 39,  2, 12, 21,  5, 39,  1, 20, 39,  6, 39, 20, 23, 15,\n",
       "        39, 14, 15, 23], dtype=int64)>)"
      ]
     },
     "execution_count": 13,
     "metadata": {},
     "output_type": "execute_result"
    }
   ],
   "source": [
    "test_sample_process = load_data(tf.convert_to_tensor(test_sample))\n",
    "test_sample_process"
   ]
  },
  {
   "cell_type": "code",
   "execution_count": 14,
   "metadata": {},
   "outputs": [
    {
     "name": "stdout",
     "output_type": "stream",
     "text": [
      "No. of frames: 75\n",
      "Dimensions of frame: (46, 140)\n",
      "No. of channels: 1\n"
     ]
    }
   ],
   "source": [
    "num_of_frames, height, width, num_of_channels = test_sample_process[0].shape\n",
    "\n",
    "print(f\"No. of frames: {num_of_frames}\\n\"\n",
    "      f\"Dimensions of frame: {(height, width)}\\n\"\n",
    "      f\"No. of channels: {num_of_channels}\")"
   ]
  },
  {
   "cell_type": "code",
   "execution_count": 15,
   "metadata": {},
   "outputs": [],
   "source": [
    "frames, alignments = test_sample_process"
   ]
  },
  {
   "cell_type": "code",
   "execution_count": 16,
   "metadata": {},
   "outputs": [
    {
     "data": {
      "text/plain": [
       "<tf.Tensor: shape=(21,), dtype=int64, numpy=\n",
       "array([ 2,  9, 14, 39,  2, 12, 21,  5, 39,  1, 20, 39,  6, 39, 20, 23, 15,\n",
       "       39, 14, 15, 23], dtype=int64)>"
      ]
     },
     "execution_count": 16,
     "metadata": {},
     "output_type": "execute_result"
    }
   ],
   "source": [
    "alignments"
   ]
  },
  {
   "cell_type": "markdown",
   "metadata": {},
   "source": [
    "***Check test frame***"
   ]
  },
  {
   "cell_type": "code",
   "execution_count": 17,
   "metadata": {},
   "outputs": [
    {
     "data": {
      "image/png": "[encoded data removed]",
      "text/plain": [
       "<Figure size 640x480 with 1 Axes>"
      ]
     },
     "metadata": {},
     "output_type": "display_data"
    }
   ],
   "source": [
    "plt.axis('off')\n",
    "plt.imshow(frames[21])\n",
    "plt.show()"
   ]
  },
  {
   "cell_type": "markdown",
   "metadata": {},
   "source": [
    "***Check test alignment***"
   ]
  },
  {
   "cell_type": "code",
   "execution_count": 18,
   "metadata": {},
   "outputs": [
    {
     "data": {
      "text/plain": [
       "'bin blue at f two now'"
      ]
     },
     "execution_count": 18,
     "metadata": {},
     "output_type": "execute_result"
    }
   ],
   "source": [
    "test_alignments = [bytes.decode(x) for x in num_to_char(alignments).numpy()]\n",
    "tf.strings.reduce_join(test_alignments).numpy().decode()"
   ]
  },
  {
   "cell_type": "code",
   "execution_count": 19,
   "metadata": {},
   "outputs": [],
   "source": [
    "def mappable_function(path:str) -> List[str]:\n",
    "  result = tf.py_function(load_data, [path], (tf.float32, tf.int64))\n",
    "  return result"
   ]
  },
  {
   "cell_type": "markdown",
   "metadata": {},
   "source": [
    "#### 2. Build Data Pipeline"
   ]
  },
  {
   "cell_type": "code",
   "execution_count": 20,
   "metadata": {},
   "outputs": [],
   "source": [
    "data = tf.data.Dataset.list_files('./data/s1/*.mpg')\n",
    "data = data.shuffle(500)\n",
    "data = data.map(mappable_function)\n",
    "data = data.padded_batch(2, padded_shapes = ([75, None, None, None], [40]))\n",
    "data = data.prefetch(tf.data.AUTOTUNE)\n",
    "\n",
    "train = data.take(450)\n",
    "test = data.skip(450)"
   ]
  },
  {
   "cell_type": "code",
   "execution_count": 21,
   "metadata": {},
   "outputs": [
    {
     "data": {
      "text/plain": [
       "450"
      ]
     },
     "execution_count": 21,
     "metadata": {},
     "output_type": "execute_result"
    }
   ],
   "source": [
    "len(train)"
   ]
  },
  {
   "cell_type": "code",
   "execution_count": 22,
   "metadata": {},
   "outputs": [
    {
     "data": {
      "text/plain": [
       "50"
      ]
     },
     "execution_count": 22,
     "metadata": {},
     "output_type": "execute_result"
    }
   ],
   "source": [
    "len(test)"
   ]
  },
  {
   "cell_type": "markdown",
   "metadata": {},
   "source": [
    "*After loading with list_files*"
   ]
  },
  {
   "cell_type": "code",
   "execution_count": 23,
   "metadata": {},
   "outputs": [
    {
     "data": {
      "text/plain": [
       "(array([[[[[ 1.4919944 ],\n",
       "           [ 1.4919944 ],\n",
       "           [ 1.3772255 ],\n",
       "           ...,\n",
       "           [ 0.30605012],\n",
       "           [ 0.26779386],\n",
       "           [ 0.26779386]],\n",
       " \n",
       "          [[ 1.5685068 ],\n",
       "           [ 1.4919944 ],\n",
       "           [ 1.3007131 ],\n",
       "           ...,\n",
       "           [ 0.30605012],\n",
       "           [ 0.26779386],\n",
       "           [ 0.26779386]],\n",
       " \n",
       "          [[ 1.5302507 ],\n",
       "           [ 1.5302507 ],\n",
       "           [ 1.4919944 ],\n",
       "           ...,\n",
       "           [ 0.34430638],\n",
       "           [ 0.30605012],\n",
       "           [ 0.30605012]],\n",
       " \n",
       "          ...,\n",
       " \n",
       "          [[ 1.0711755 ],\n",
       "           [ 1.0711755 ],\n",
       "           [ 1.0711755 ],\n",
       "           ...,\n",
       "           [ 0.        ],\n",
       "           [ 0.        ],\n",
       "           [ 0.        ]],\n",
       " \n",
       "          [[ 1.0329192 ],\n",
       "           [ 1.0329192 ],\n",
       "           [ 1.0329192 ],\n",
       "           ...,\n",
       "           [ 0.        ],\n",
       "           [ 0.        ],\n",
       "           [ 0.        ]],\n",
       " \n",
       "          [[ 1.0329192 ],\n",
       "           [ 1.0329192 ],\n",
       "           [ 1.0329192 ],\n",
       "           ...,\n",
       "           [ 0.        ],\n",
       "           [ 0.        ],\n",
       "           [ 9.755347  ]]],\n",
       " \n",
       " \n",
       "         [[[ 1.5685068 ],\n",
       "           [ 1.5302507 ],\n",
       "           [ 1.3772255 ],\n",
       "           ...,\n",
       "           [ 0.34430638],\n",
       "           [ 0.30605012],\n",
       "           [ 0.30605012]],\n",
       " \n",
       "          [[ 1.5685068 ],\n",
       "           [ 1.3772255 ],\n",
       "           [ 1.3772255 ],\n",
       "           ...,\n",
       "           [ 0.34430638],\n",
       "           [ 0.30605012],\n",
       "           [ 0.30605012]],\n",
       " \n",
       "          [[ 1.4919944 ],\n",
       "           [ 1.4919944 ],\n",
       "           [ 1.4537381 ],\n",
       "           ...,\n",
       "           [ 0.34430638],\n",
       "           [ 0.30605012],\n",
       "           [ 0.30605012]],\n",
       " \n",
       "          ...,\n",
       " \n",
       "          [[ 1.0711755 ],\n",
       "           [ 1.0711755 ],\n",
       "           [ 1.0711755 ],\n",
       "           ...,\n",
       "           [ 0.        ],\n",
       "           [ 0.        ],\n",
       "           [ 0.        ]],\n",
       " \n",
       "          [[ 1.0329192 ],\n",
       "           [ 1.0329192 ],\n",
       "           [ 1.0329192 ],\n",
       "           ...,\n",
       "           [ 0.        ],\n",
       "           [ 0.        ],\n",
       "           [ 0.        ]],\n",
       " \n",
       "          [[ 1.0329192 ],\n",
       "           [ 1.0329192 ],\n",
       "           [ 1.0329192 ],\n",
       "           ...,\n",
       "           [ 0.        ],\n",
       "           [ 0.        ],\n",
       "           [ 9.755347  ]]],\n",
       " \n",
       " \n",
       "         [[[ 1.5685068 ],\n",
       "           [ 1.4919944 ],\n",
       "           [ 1.4537381 ],\n",
       "           ...,\n",
       "           [ 0.30605012],\n",
       "           [ 0.26779386],\n",
       "           [ 0.26779386]],\n",
       " \n",
       "          [[ 1.5302507 ],\n",
       "           [ 1.4537381 ],\n",
       "           [ 1.3007131 ],\n",
       "           ...,\n",
       "           [ 0.30605012],\n",
       "           [ 0.26779386],\n",
       "           [ 0.26779386]],\n",
       " \n",
       "          [[ 1.5302507 ],\n",
       "           [ 1.5302507 ],\n",
       "           [ 1.4919944 ],\n",
       "           ...,\n",
       "           [ 0.34430638],\n",
       "           [ 0.30605012],\n",
       "           [ 0.30605012]],\n",
       " \n",
       "          ...,\n",
       " \n",
       "          [[ 1.0711755 ],\n",
       "           [ 1.0711755 ],\n",
       "           [ 1.0711755 ],\n",
       "           ...,\n",
       "           [ 0.        ],\n",
       "           [ 0.        ],\n",
       "           [ 0.        ]],\n",
       " \n",
       "          [[ 1.0329192 ],\n",
       "           [ 1.0329192 ],\n",
       "           [ 1.0329192 ],\n",
       "           ...,\n",
       "           [ 0.        ],\n",
       "           [ 0.        ],\n",
       "           [ 0.        ]],\n",
       " \n",
       "          [[ 1.0329192 ],\n",
       "           [ 1.0329192 ],\n",
       "           [ 1.0329192 ],\n",
       "           ...,\n",
       "           [ 0.        ],\n",
       "           [ 0.        ],\n",
       "           [ 9.755347  ]]],\n",
       " \n",
       " \n",
       "         ...,\n",
       " \n",
       " \n",
       "         [[[ 1.4154818 ],\n",
       "           [ 1.3772255 ],\n",
       "           [ 1.1859442 ],\n",
       "           ...,\n",
       "           [ 0.22953759],\n",
       "           [ 0.22953759],\n",
       "           [ 0.22953759]],\n",
       " \n",
       "          [[ 1.3772255 ],\n",
       "           [ 1.4537381 ],\n",
       "           [ 1.2624568 ],\n",
       "           ...,\n",
       "           [ 0.22953759],\n",
       "           [ 0.22953759],\n",
       "           [ 0.22953759]],\n",
       " \n",
       "          [[ 1.5302507 ],\n",
       "           [ 1.5302507 ],\n",
       "           [ 1.4537381 ],\n",
       "           ...,\n",
       "           [ 0.34430638],\n",
       "           [ 0.30605012],\n",
       "           [ 0.26779386]],\n",
       " \n",
       "          ...,\n",
       " \n",
       "          [[ 1.0711755 ],\n",
       "           [ 1.0711755 ],\n",
       "           [ 1.0329192 ],\n",
       "           ...,\n",
       "           [ 9.755347  ],\n",
       "           [ 9.755347  ],\n",
       "           [ 9.755347  ]],\n",
       " \n",
       "          [[ 1.0329192 ],\n",
       "           [ 1.0329192 ],\n",
       "           [ 1.0329192 ],\n",
       "           ...,\n",
       "           [ 9.755347  ],\n",
       "           [ 9.755347  ],\n",
       "           [ 9.755347  ]],\n",
       " \n",
       "          [[ 1.0329192 ],\n",
       "           [ 1.0329192 ],\n",
       "           [ 1.0329192 ],\n",
       "           ...,\n",
       "           [ 9.755347  ],\n",
       "           [ 9.755347  ],\n",
       "           [ 9.755347  ]]],\n",
       " \n",
       " \n",
       "         [[[ 1.4537381 ],\n",
       "           [ 1.4154818 ],\n",
       "           [ 1.2242005 ],\n",
       "           ...,\n",
       "           [ 0.26779386],\n",
       "           [ 0.26779386],\n",
       "           [ 0.26779386]],\n",
       " \n",
       "          [[ 1.4537381 ],\n",
       "           [ 1.5302507 ],\n",
       "           [ 1.3007131 ],\n",
       "           ...,\n",
       "           [ 0.30605012],\n",
       "           [ 0.30605012],\n",
       "           [ 0.26779386]],\n",
       " \n",
       "          [[ 1.6450194 ],\n",
       "           [ 1.5685068 ],\n",
       "           [ 1.4537381 ],\n",
       "           ...,\n",
       "           [ 0.26779386],\n",
       "           [ 0.30605012],\n",
       "           [ 0.26779386]],\n",
       " \n",
       "          ...,\n",
       " \n",
       "          [[ 1.0329192 ],\n",
       "           [ 1.0711755 ],\n",
       "           [ 1.0329192 ],\n",
       "           ...,\n",
       "           [ 0.        ],\n",
       "           [ 9.755347  ],\n",
       "           [ 0.        ]],\n",
       " \n",
       "          [[ 0.9946629 ],\n",
       "           [ 1.0329192 ],\n",
       "           [ 1.0329192 ],\n",
       "           ...,\n",
       "           [ 0.        ],\n",
       "           [ 9.755347  ],\n",
       "           [ 9.755347  ]],\n",
       " \n",
       "          [[ 0.9946629 ],\n",
       "           [ 1.0329192 ],\n",
       "           [ 1.0329192 ],\n",
       "           ...,\n",
       "           [ 0.        ],\n",
       "           [ 9.755347  ],\n",
       "           [ 9.755347  ]]],\n",
       " \n",
       " \n",
       "         [[[ 1.4919944 ],\n",
       "           [ 1.4537381 ],\n",
       "           [ 1.0711755 ],\n",
       "           ...,\n",
       "           [ 0.30605012],\n",
       "           [ 0.26779386],\n",
       "           [ 0.26779386]],\n",
       " \n",
       "          [[ 1.5302507 ],\n",
       "           [ 1.5302507 ],\n",
       "           [ 1.2242005 ],\n",
       "           ...,\n",
       "           [ 0.34430638],\n",
       "           [ 0.30605012],\n",
       "           [ 0.26779386]],\n",
       " \n",
       "          [[ 1.4919944 ],\n",
       "           [ 1.3772255 ],\n",
       "           [ 1.3772255 ],\n",
       "           ...,\n",
       "           [ 0.30605012],\n",
       "           [ 0.26779386],\n",
       "           [ 0.26779386]],\n",
       " \n",
       "          ...,\n",
       " \n",
       "          [[ 1.0711755 ],\n",
       "           [ 1.0711755 ],\n",
       "           [ 1.0711755 ],\n",
       "           ...,\n",
       "           [ 0.        ],\n",
       "           [ 9.755347  ],\n",
       "           [ 0.        ]],\n",
       " \n",
       "          [[ 1.0711755 ],\n",
       "           [ 1.0329192 ],\n",
       "           [ 1.0329192 ],\n",
       "           ...,\n",
       "           [ 0.        ],\n",
       "           [ 9.755347  ],\n",
       "           [ 9.755347  ]],\n",
       " \n",
       "          [[ 1.0711755 ],\n",
       "           [ 1.0329192 ],\n",
       "           [ 1.0329192 ],\n",
       "           ...,\n",
       "           [ 0.        ],\n",
       "           [ 9.755347  ],\n",
       "           [ 9.755347  ]]]],\n",
       " \n",
       " \n",
       " \n",
       "        [[[[ 1.4323858 ],\n",
       "           [ 1.4323858 ],\n",
       "           [ 1.4323858 ],\n",
       "           ...,\n",
       "           [ 0.27851945],\n",
       "           [ 0.19894247],\n",
       "           [ 0.19894247]],\n",
       " \n",
       "          [[ 1.4323858 ],\n",
       "           [ 1.4323858 ],\n",
       "           [ 1.4323858 ],\n",
       "           ...,\n",
       "           [ 0.27851945],\n",
       "           [ 0.19894247],\n",
       "           [ 0.19894247]],\n",
       " \n",
       "          [[ 1.4323858 ],\n",
       "           [ 1.4323858 ],\n",
       "           [ 1.4323858 ],\n",
       "           ...,\n",
       "           [ 0.23873095],\n",
       "           [ 0.15915397],\n",
       "           [ 0.15915397]],\n",
       " \n",
       "          ...,\n",
       " \n",
       "          [[ 0.9549238 ],\n",
       "           [ 0.9549238 ],\n",
       "           [ 0.9549238 ],\n",
       "           ...,\n",
       "           [10.146066  ],\n",
       "           [10.146066  ],\n",
       "           [10.146066  ]],\n",
       " \n",
       "          [[ 0.9549238 ],\n",
       "           [ 0.9549238 ],\n",
       "           [ 0.9549238 ],\n",
       "           ...,\n",
       "           [10.066489  ],\n",
       "           [10.066489  ],\n",
       "           [10.066489  ]],\n",
       " \n",
       "          [[ 0.9549238 ],\n",
       "           [ 0.9549238 ],\n",
       "           [ 0.9549238 ],\n",
       "           ...,\n",
       "           [10.066489  ],\n",
       "           [10.066489  ],\n",
       "           [10.066489  ]]],\n",
       " \n",
       " \n",
       "         [[[ 1.3925973 ],\n",
       "           [ 1.3925973 ],\n",
       "           [ 1.3925973 ],\n",
       "           ...,\n",
       "           [ 0.27851945],\n",
       "           [ 0.15915397],\n",
       "           [ 0.15915397]],\n",
       " \n",
       "          [[ 1.3925973 ],\n",
       "           [ 1.3925973 ],\n",
       "           [ 1.3925973 ],\n",
       "           ...,\n",
       "           [ 0.27851945],\n",
       "           [ 0.15915397],\n",
       "           [ 0.15915397]],\n",
       " \n",
       "          [[ 1.4323858 ],\n",
       "           [ 1.4323858 ],\n",
       "           [ 1.4323858 ],\n",
       "           ...,\n",
       "           [ 0.27851945],\n",
       "           [ 0.15915397],\n",
       "           [ 0.15915397]],\n",
       " \n",
       "          ...,\n",
       " \n",
       "          [[ 0.9151353 ],\n",
       "           [ 0.9151353 ],\n",
       "           [ 0.9151353 ],\n",
       "           ...,\n",
       "           [10.106277  ],\n",
       "           [10.106277  ],\n",
       "           [10.106277  ]],\n",
       " \n",
       "          [[ 0.9151353 ],\n",
       "           [ 0.9151353 ],\n",
       "           [ 0.9151353 ],\n",
       "           ...,\n",
       "           [10.066489  ],\n",
       "           [10.066489  ],\n",
       "           [10.066489  ]],\n",
       " \n",
       "          [[ 0.9151353 ],\n",
       "           [ 0.9151353 ],\n",
       "           [ 0.9151353 ],\n",
       "           ...,\n",
       "           [10.066489  ],\n",
       "           [10.066489  ],\n",
       "           [10.066489  ]]],\n",
       " \n",
       " \n",
       "         [[[ 1.3925973 ],\n",
       "           [ 1.3925973 ],\n",
       "           [ 1.3925973 ],\n",
       "           ...,\n",
       "           [ 0.27851945],\n",
       "           [ 0.11936548],\n",
       "           [ 0.11936548]],\n",
       " \n",
       "          [[ 1.3925973 ],\n",
       "           [ 1.3925973 ],\n",
       "           [ 1.3925973 ],\n",
       "           ...,\n",
       "           [ 0.27851945],\n",
       "           [ 0.11936548],\n",
       "           [ 0.11936548]],\n",
       " \n",
       "          [[ 1.3925973 ],\n",
       "           [ 1.3925973 ],\n",
       "           [ 1.3925973 ],\n",
       "           ...,\n",
       "           [ 0.27851945],\n",
       "           [ 0.27851945],\n",
       "           [ 0.19894247]],\n",
       " \n",
       "          ...,\n",
       " \n",
       "          [[ 0.9549238 ],\n",
       "           [ 0.9549238 ],\n",
       "           [ 0.9549238 ],\n",
       "           ...,\n",
       "           [10.146066  ],\n",
       "           [10.146066  ],\n",
       "           [10.106277  ]],\n",
       " \n",
       "          [[ 0.9549238 ],\n",
       "           [ 0.9151353 ],\n",
       "           [ 0.9151353 ],\n",
       "           ...,\n",
       "           [10.106277  ],\n",
       "           [10.066489  ],\n",
       "           [10.066489  ]],\n",
       " \n",
       "          [[ 0.9151353 ],\n",
       "           [ 0.9151353 ],\n",
       "           [ 0.9151353 ],\n",
       "           ...,\n",
       "           [10.066489  ],\n",
       "           [10.066489  ],\n",
       "           [10.066489  ]]],\n",
       " \n",
       " \n",
       "         ...,\n",
       " \n",
       " \n",
       "         [[[ 1.3528087 ],\n",
       "           [ 1.3528087 ],\n",
       "           [ 1.3925973 ],\n",
       "           ...,\n",
       "           [ 0.11936548],\n",
       "           [ 0.15915397],\n",
       "           [ 0.15915397]],\n",
       " \n",
       "          [[ 1.3528087 ],\n",
       "           [ 1.3528087 ],\n",
       "           [ 1.3925973 ],\n",
       "           ...,\n",
       "           [ 0.11936548],\n",
       "           [ 0.15915397],\n",
       "           [ 0.15915397]],\n",
       " \n",
       "          [[ 1.3925973 ],\n",
       "           [ 1.3925973 ],\n",
       "           [ 1.3925973 ],\n",
       "           ...,\n",
       "           [ 0.15915397],\n",
       "           [ 0.15915397],\n",
       "           [ 0.15915397]],\n",
       " \n",
       "          ...,\n",
       " \n",
       "          [[ 0.99471235],\n",
       "           [ 0.9549238 ],\n",
       "           [ 0.9151353 ],\n",
       "           ...,\n",
       "           [10.106277  ],\n",
       "           [10.106277  ],\n",
       "           [10.106277  ]],\n",
       " \n",
       "          [[ 0.9549238 ],\n",
       "           [ 0.9549238 ],\n",
       "           [ 0.9151353 ],\n",
       "           ...,\n",
       "           [10.106277  ],\n",
       "           [10.106277  ],\n",
       "           [10.106277  ]],\n",
       " \n",
       "          [[ 0.9549238 ],\n",
       "           [ 0.9549238 ],\n",
       "           [ 0.9151353 ],\n",
       "           ...,\n",
       "           [10.106277  ],\n",
       "           [10.106277  ],\n",
       "           [10.066489  ]]],\n",
       " \n",
       " \n",
       "         [[[ 1.3528087 ],\n",
       "           [ 1.3528087 ],\n",
       "           [ 1.4323858 ],\n",
       "           ...,\n",
       "           [ 0.11936548],\n",
       "           [ 0.23873095],\n",
       "           [ 0.23873095]],\n",
       " \n",
       "          [[ 1.3528087 ],\n",
       "           [ 1.3528087 ],\n",
       "           [ 1.4323858 ],\n",
       "           ...,\n",
       "           [ 0.11936548],\n",
       "           [ 0.23873095],\n",
       "           [ 0.23873095]],\n",
       " \n",
       "          [[ 1.4323858 ],\n",
       "           [ 1.4323858 ],\n",
       "           [ 1.3528087 ],\n",
       "           ...,\n",
       "           [ 0.23873095],\n",
       "           [ 0.15915397],\n",
       "           [ 0.15915397]],\n",
       " \n",
       "          ...,\n",
       " \n",
       "          [[ 0.99471235],\n",
       "           [ 0.99471235],\n",
       "           [ 0.9151353 ],\n",
       "           ...,\n",
       "           [10.106277  ],\n",
       "           [10.106277  ],\n",
       "           [10.106277  ]],\n",
       " \n",
       "          [[ 0.99471235],\n",
       "           [ 0.9549238 ],\n",
       "           [ 0.9151353 ],\n",
       "           ...,\n",
       "           [10.106277  ],\n",
       "           [10.106277  ],\n",
       "           [10.106277  ]],\n",
       " \n",
       "          [[ 0.9549238 ],\n",
       "           [ 0.9549238 ],\n",
       "           [ 0.9151353 ],\n",
       "           ...,\n",
       "           [10.106277  ],\n",
       "           [10.106277  ],\n",
       "           [10.066489  ]]],\n",
       " \n",
       " \n",
       "         [[[ 1.3925973 ],\n",
       "           [ 1.3925973 ],\n",
       "           [ 1.4721743 ],\n",
       "           ...,\n",
       "           [ 0.15915397],\n",
       "           [ 0.15915397],\n",
       "           [ 0.15915397]],\n",
       " \n",
       "          [[ 1.3925973 ],\n",
       "           [ 1.3925973 ],\n",
       "           [ 1.4721743 ],\n",
       "           ...,\n",
       "           [ 0.15915397],\n",
       "           [ 0.15915397],\n",
       "           [ 0.15915397]],\n",
       " \n",
       "          [[ 1.4323858 ],\n",
       "           [ 1.4323858 ],\n",
       "           [ 1.3528087 ],\n",
       "           ...,\n",
       "           [ 0.27851945],\n",
       "           [ 0.19894247],\n",
       "           [ 0.27851945]],\n",
       " \n",
       "          ...,\n",
       " \n",
       "          [[ 0.99471235],\n",
       "           [ 0.99471235],\n",
       "           [ 0.9549238 ],\n",
       "           ...,\n",
       "           [10.146066  ],\n",
       "           [10.146066  ],\n",
       "           [10.146066  ]],\n",
       " \n",
       "          [[ 0.99471235],\n",
       "           [ 0.9549238 ],\n",
       "           [ 0.9549238 ],\n",
       "           ...,\n",
       "           [10.106277  ],\n",
       "           [10.106277  ],\n",
       "           [10.106277  ]],\n",
       " \n",
       "          [[ 0.9549238 ],\n",
       "           [ 0.9549238 ],\n",
       "           [ 0.9549238 ],\n",
       "           ...,\n",
       "           [10.106277  ],\n",
       "           [10.106277  ],\n",
       "           [10.066489  ]]]]], dtype=float32),\n",
       " array([[16, 12,  1,  3,  5, 39, 18,  5,  4, 39, 23,  9, 20,  8, 39, 17,\n",
       "         39, 20, 23, 15, 39, 14, 15, 23,  0,  0,  0,  0,  0,  0,  0,  0,\n",
       "          0,  0,  0,  0,  0,  0,  0,  0],\n",
       "        [19,  5, 20, 39, 23,  8,  9, 20,  5, 39,  9, 14, 39,  8, 39, 19,\n",
       "          9, 24, 39, 14, 15, 23,  0,  0,  0,  0,  0,  0,  0,  0,  0,  0,\n",
       "          0,  0,  0,  0,  0,  0,  0,  0]], dtype=int64))"
      ]
     },
     "execution_count": 23,
     "metadata": {},
     "output_type": "execute_result"
    }
   ],
   "source": [
    "data.as_numpy_iterator().next()"
   ]
  },
  {
   "cell_type": "markdown",
   "metadata": {},
   "source": [
    "*After mapping the data*"
   ]
  },
  {
   "cell_type": "code",
   "execution_count": null,
   "metadata": {},
   "outputs": [],
   "source": [
    "frames, alignments = data.as_numpy_iterator().next()\n",
    "test_alignments = [bytes.decode(x) for x in num_to_char(alignments).numpy()]\n",
    "print(tf.strings.reduce_join(test_alignments).numpy().decode())\n",
    "plt.imshow(frames[0])\n",
    "plt.show()"
   ]
  },
  {
   "cell_type": "markdown",
   "metadata": {},
   "source": [
    "*After padding -> if few sentences are of different length 0 will be added to make all uniform*"
   ]
  },
  {
   "cell_type": "code",
   "execution_count": 29,
   "metadata": {},
   "outputs": [
    {
     "data": {
      "text/plain": [
       "array([[19,  5, 20, 40,  7, 18,  5,  5, 14, 40,  9, 14, 40,  9, 40, 20,\n",
       "        23, 15, 40, 14, 15, 23,  0,  0,  0,  0,  0,  0,  0,  0,  0,  0,\n",
       "         0,  0,  0,  0,  0,  0,  0,  0],\n",
       "       [ 2,  9, 14, 40, 18,  5,  4, 40, 23,  9, 20,  8, 40,  7, 40, 19,\n",
       "         5, 22,  5, 14, 40, 19, 15, 15, 14,  0,  0,  0,  0,  0,  0,  0,\n",
       "         0,  0,  0,  0,  0,  0,  0,  0]], dtype=int64)"
      ]
     },
     "execution_count": 29,
     "metadata": {},
     "output_type": "execute_result"
    }
   ],
   "source": [
    "frames, alignments = data.as_numpy_iterator().next()\n",
    "alignments"
   ]
  },
  {
   "cell_type": "code",
   "execution_count": 30,
   "metadata": {},
   "outputs": [
    {
     "data": {
      "text/plain": [
       "2"
      ]
     },
     "execution_count": 30,
     "metadata": {},
     "output_type": "execute_result"
    }
   ],
   "source": [
    "len(frames)"
   ]
  },
  {
   "cell_type": "markdown",
   "metadata": {},
   "source": [
    "***Let's visualize***"
   ]
  },
  {
   "cell_type": "code",
   "execution_count": 31,
   "metadata": {},
   "outputs": [
    {
     "data": {
      "image/png": "[encoded data removed]",
      "text/plain": [
       "<Figure size 640x480 with 1 Axes>"
      ]
     },
     "metadata": {},
     "output_type": "display_data"
    }
   ],
   "source": [
    "test_sample = data.as_numpy_iterator()\n",
    "val = test_sample.next()\n",
    "plt.imshow(val[0][1][0])\n",
    "plt.show()"
   ]
  },
  {
   "cell_type": "markdown",
   "metadata": {},
   "source": [
    "*Make a gif out of the video frames*"
   ]
  },
  {
   "cell_type": "code",
   "execution_count": 32,
   "metadata": {},
   "outputs": [
    {
     "name": "stderr",
     "output_type": "stream",
     "text": [
      "Lossy conversion from float32 to uint8. Range [0.0, 9.66237735748291]. Convert image to uint8 prior to saving to suppress this warning.\n",
      "Lossy conversion from float32 to uint8. Range [0.0, 9.66237735748291]. Convert image to uint8 prior to saving to suppress this warning.\n",
      "Lossy conversion from float32 to uint8. Range [0.0, 9.66237735748291]. Convert image to uint8 prior to saving to suppress this warning.\n",
      "Lossy conversion from float32 to uint8. Range [0.0, 9.66237735748291]. Convert image to uint8 prior to saving to suppress this warning.\n",
      "Lossy conversion from float32 to uint8. Range [0.0, 9.66237735748291]. Convert image to uint8 prior to saving to suppress this warning.\n",
      "Lossy conversion from float32 to uint8. Range [0.0, 9.66237735748291]. Convert image to uint8 prior to saving to suppress this warning.\n",
      "Lossy conversion from float32 to uint8. Range [0.0, 9.66237735748291]. Convert image to uint8 prior to saving to suppress this warning.\n",
      "Lossy conversion from float32 to uint8. Range [0.0, 9.66237735748291]. Convert image to uint8 prior to saving to suppress this warning.\n",
      "Lossy conversion from float32 to uint8. Range [0.0, 9.66237735748291]. Convert image to uint8 prior to saving to suppress this warning.\n",
      "Lossy conversion from float32 to uint8. Range [0.0, 9.66237735748291]. Convert image to uint8 prior to saving to suppress this warning.\n",
      "Lossy conversion from float32 to uint8. Range [0.0, 9.66237735748291]. Convert image to uint8 prior to saving to suppress this warning.\n",
      "Lossy conversion from float32 to uint8. Range [0.0, 9.66237735748291]. Convert image to uint8 prior to saving to suppress this warning.\n",
      "Lossy conversion from float32 to uint8. Range [0.0, 9.66237735748291]. Convert image to uint8 prior to saving to suppress this warning.\n",
      "Lossy conversion from float32 to uint8. Range [0.0, 9.66237735748291]. Convert image to uint8 prior to saving to suppress this warning.\n",
      "Lossy conversion from float32 to uint8. Range [0.0, 9.66237735748291]. Convert image to uint8 prior to saving to suppress this warning.\n",
      "Lossy conversion from float32 to uint8. Range [0.0, 9.66237735748291]. Convert image to uint8 prior to saving to suppress this warning.\n",
      "Lossy conversion from float32 to uint8. Range [0.0, 9.66237735748291]. Convert image to uint8 prior to saving to suppress this warning.\n",
      "Lossy conversion from float32 to uint8. Range [0.0, 9.66237735748291]. Convert image to uint8 prior to saving to suppress this warning.\n",
      "Lossy conversion from float32 to uint8. Range [0.0, 9.66237735748291]. Convert image to uint8 prior to saving to suppress this warning.\n",
      "Lossy conversion from float32 to uint8. Range [0.0, 9.66237735748291]. Convert image to uint8 prior to saving to suppress this warning.\n",
      "Lossy conversion from float32 to uint8. Range [0.0, 9.66237735748291]. Convert image to uint8 prior to saving to suppress this warning.\n",
      "Lossy conversion from float32 to uint8. Range [0.0, 9.66237735748291]. Convert image to uint8 prior to saving to suppress this warning.\n",
      "Lossy conversion from float32 to uint8. Range [0.0, 9.66237735748291]. Convert image to uint8 prior to saving to suppress this warning.\n",
      "Lossy conversion from float32 to uint8. Range [0.0, 9.66237735748291]. Convert image to uint8 prior to saving to suppress this warning.\n",
      "Lossy conversion from float32 to uint8. Range [0.0, 9.66237735748291]. Convert image to uint8 prior to saving to suppress this warning.\n",
      "Lossy conversion from float32 to uint8. Range [0.0, 9.66237735748291]. Convert image to uint8 prior to saving to suppress this warning.\n",
      "Lossy conversion from float32 to uint8. Range [0.0, 9.66237735748291]. Convert image to uint8 prior to saving to suppress this warning.\n",
      "Lossy conversion from float32 to uint8. Range [0.0, 9.66237735748291]. Convert image to uint8 prior to saving to suppress this warning.\n",
      "Lossy conversion from float32 to uint8. Range [0.0, 9.66237735748291]. Convert image to uint8 prior to saving to suppress this warning.\n",
      "Lossy conversion from float32 to uint8. Range [0.0, 9.66237735748291]. Convert image to uint8 prior to saving to suppress this warning.\n",
      "Lossy conversion from float32 to uint8. Range [0.0, 9.66237735748291]. Convert image to uint8 prior to saving to suppress this warning.\n",
      "Lossy conversion from float32 to uint8. Range [0.0, 9.66237735748291]. Convert image to uint8 prior to saving to suppress this warning.\n",
      "Lossy conversion from float32 to uint8. Range [0.0, 9.66237735748291]. Convert image to uint8 prior to saving to suppress this warning.\n",
      "Lossy conversion from float32 to uint8. Range [0.0, 9.66237735748291]. Convert image to uint8 prior to saving to suppress this warning.\n",
      "Lossy conversion from float32 to uint8. Range [0.0, 9.66237735748291]. Convert image to uint8 prior to saving to suppress this warning.\n",
      "Lossy conversion from float32 to uint8. Range [0.0, 9.66237735748291]. Convert image to uint8 prior to saving to suppress this warning.\n",
      "Lossy conversion from float32 to uint8. Range [0.0, 9.66237735748291]. Convert image to uint8 prior to saving to suppress this warning.\n",
      "Lossy conversion from float32 to uint8. Range [0.0, 9.66237735748291]. Convert image to uint8 prior to saving to suppress this warning.\n",
      "Lossy conversion from float32 to uint8. Range [0.0, 9.66237735748291]. Convert image to uint8 prior to saving to suppress this warning.\n",
      "Lossy conversion from float32 to uint8. Range [0.0, 9.66237735748291]. Convert image to uint8 prior to saving to suppress this warning.\n",
      "Lossy conversion from float32 to uint8. Range [0.0, 9.66237735748291]. Convert image to uint8 prior to saving to suppress this warning.\n",
      "Lossy conversion from float32 to uint8. Range [0.0, 9.66237735748291]. Convert image to uint8 prior to saving to suppress this warning.\n",
      "Lossy conversion from float32 to uint8. Range [0.0, 9.66237735748291]. Convert image to uint8 prior to saving to suppress this warning.\n",
      "Lossy conversion from float32 to uint8. Range [0.0, 9.66237735748291]. Convert image to uint8 prior to saving to suppress this warning.\n",
      "Lossy conversion from float32 to uint8. Range [0.0, 9.66237735748291]. Convert image to uint8 prior to saving to suppress this warning.\n",
      "Lossy conversion from float32 to uint8. Range [0.0, 9.66237735748291]. Convert image to uint8 prior to saving to suppress this warning.\n",
      "Lossy conversion from float32 to uint8. Range [0.0, 9.66237735748291]. Convert image to uint8 prior to saving to suppress this warning.\n",
      "Lossy conversion from float32 to uint8. Range [0.0, 9.66237735748291]. Convert image to uint8 prior to saving to suppress this warning.\n",
      "Lossy conversion from float32 to uint8. Range [0.0, 9.66237735748291]. Convert image to uint8 prior to saving to suppress this warning.\n",
      "Lossy conversion from float32 to uint8. Range [0.0, 9.66237735748291]. Convert image to uint8 prior to saving to suppress this warning.\n",
      "Lossy conversion from float32 to uint8. Range [0.0, 9.66237735748291]. Convert image to uint8 prior to saving to suppress this warning.\n",
      "Lossy conversion from float32 to uint8. Range [0.0, 9.66237735748291]. Convert image to uint8 prior to saving to suppress this warning.\n",
      "Lossy conversion from float32 to uint8. Range [0.0, 9.66237735748291]. Convert image to uint8 prior to saving to suppress this warning.\n",
      "Lossy conversion from float32 to uint8. Range [0.0, 9.66237735748291]. Convert image to uint8 prior to saving to suppress this warning.\n",
      "Lossy conversion from float32 to uint8. Range [0.0, 9.66237735748291]. Convert image to uint8 prior to saving to suppress this warning.\n",
      "Lossy conversion from float32 to uint8. Range [0.0, 9.66237735748291]. Convert image to uint8 prior to saving to suppress this warning.\n",
      "Lossy conversion from float32 to uint8. Range [0.0, 9.66237735748291]. Convert image to uint8 prior to saving to suppress this warning.\n",
      "Lossy conversion from float32 to uint8. Range [0.0, 9.66237735748291]. Convert image to uint8 prior to saving to suppress this warning.\n",
      "Lossy conversion from float32 to uint8. Range [0.0, 9.66237735748291]. Convert image to uint8 prior to saving to suppress this warning.\n",
      "Lossy conversion from float32 to uint8. Range [0.0, 9.66237735748291]. Convert image to uint8 prior to saving to suppress this warning.\n",
      "Lossy conversion from float32 to uint8. Range [0.0, 9.66237735748291]. Convert image to uint8 prior to saving to suppress this warning.\n",
      "Lossy conversion from float32 to uint8. Range [0.0, 9.66237735748291]. Convert image to uint8 prior to saving to suppress this warning.\n",
      "Lossy conversion from float32 to uint8. Range [0.0, 9.66237735748291]. Convert image to uint8 prior to saving to suppress this warning.\n",
      "Lossy conversion from float32 to uint8. Range [0.0, 9.66237735748291]. Convert image to uint8 prior to saving to suppress this warning.\n",
      "Lossy conversion from float32 to uint8. Range [0.0, 9.66237735748291]. Convert image to uint8 prior to saving to suppress this warning.\n",
      "Lossy conversion from float32 to uint8. Range [0.0, 9.66237735748291]. Convert image to uint8 prior to saving to suppress this warning.\n",
      "Lossy conversion from float32 to uint8. Range [0.0, 9.66237735748291]. Convert image to uint8 prior to saving to suppress this warning.\n",
      "Lossy conversion from float32 to uint8. Range [0.0, 9.66237735748291]. Convert image to uint8 prior to saving to suppress this warning.\n",
      "Lossy conversion from float32 to uint8. Range [0.0, 9.66237735748291]. Convert image to uint8 prior to saving to suppress this warning.\n",
      "Lossy conversion from float32 to uint8. Range [0.0, 9.66237735748291]. Convert image to uint8 prior to saving to suppress this warning.\n",
      "Lossy conversion from float32 to uint8. Range [0.0, 9.66237735748291]. Convert image to uint8 prior to saving to suppress this warning.\n",
      "Lossy conversion from float32 to uint8. Range [0.0, 9.66237735748291]. Convert image to uint8 prior to saving to suppress this warning.\n",
      "Lossy conversion from float32 to uint8. Range [0.0, 9.66237735748291]. Convert image to uint8 prior to saving to suppress this warning.\n",
      "Lossy conversion from float32 to uint8. Range [0.0, 9.66237735748291]. Convert image to uint8 prior to saving to suppress this warning.\n",
      "Lossy conversion from float32 to uint8. Range [0.0, 9.66237735748291]. Convert image to uint8 prior to saving to suppress this warning.\n"
     ]
    }
   ],
   "source": [
    "imageio.mimsave('./animation.gif', val[0][1])"
   ]
  },
  {
   "cell_type": "markdown",
   "metadata": {},
   "source": [
    "#### 3. Design the Deep Learning Model"
   ]
  },
  {
   "cell_type": "markdown",
   "metadata": {},
   "source": [
    "**Import dependencies**"
   ]
  },
  {
   "cell_type": "code",
   "execution_count": 32,
   "metadata": {},
   "outputs": [],
   "source": [
    "from tensorflow.keras.models import Sequential\n",
    "from tensorflow.keras.layers import Conv3D, LSTM, Dense, Dropout, Bidirectional, MaxPool3D, Activation, Reshape, SpatialDropout3D, BatchNormalization, TimeDistributed, Flatten\n",
    "from tensorflow.keras.optimizers import Adam\n",
    "from tensorflow.keras.callbacks import ModelCheckpoint, LearningRateScheduler"
   ]
  },
  {
   "cell_type": "code",
   "execution_count": 33,
   "metadata": {},
   "outputs": [
    {
     "data": {
      "text/plain": [
       "(2, 75, 46, 140, 1)"
      ]
     },
     "execution_count": 33,
     "metadata": {},
     "output_type": "execute_result"
    }
   ],
   "source": [
    "data.as_numpy_iterator().next()[0].shape"
   ]
  },
  {
   "cell_type": "code",
   "execution_count": 34,
   "metadata": {},
   "outputs": [],
   "source": [
    "model = Sequential()\n",
    "model.add(Conv3D(128, 3, input_shape=(75, 46, 140, 1), padding = 'same'))\n",
    "model.add(Activation('relu'))\n",
    "model.add(MaxPool3D((1, 2, 2)))\n",
    "\n",
    "model.add(Conv3D(256, 3, padding = 'same'))\n",
    "model.add(Activation('relu'))\n",
    "model.add(MaxPool3D((1, 2, 2)))\n",
    "\n",
    "model.add(Conv3D(75, 3, padding = 'same'))\n",
    "model.add(Activation('relu'))\n",
    "model.add(MaxPool3D((1, 2, 2)))\n",
    "\n",
    "model.add(TimeDistributed(Flatten()))\n",
    "\n",
    "model.add(Bidirectional(LSTM(128, kernel_initializer='Orthogonal', return_sequences=True)))\n",
    "model.add(Dropout(0.5))\n",
    "\n",
    "model.add(Bidirectional(LSTM(128, kernel_initializer='Orthogonal', return_sequences=True)))\n",
    "model.add(Dropout(0.5))\n",
    "\n",
    "model.add(Dense(char_to_num.vocabulary_size()+1, kernel_initializer='he_normal', activation='softmax'))"
   ]
  },
  {
   "cell_type": "code",
   "execution_count": 35,
   "metadata": {},
   "outputs": [
    {
     "name": "stdout",
     "output_type": "stream",
     "text": [
      "Model: \"sequential\"\n",
      "_________________________________________________________________\n",
      " Layer (type)                Output Shape              Param #   \n",
      "=================================================================\n",
      " conv3d (Conv3D)             (None, 75, 46, 140, 128)  3584      \n",
      "                                                                 \n",
      " activation (Activation)     (None, 75, 46, 140, 128)  0         \n",
      "                                                                 \n",
      " max_pooling3d (MaxPooling3D  (None, 75, 23, 70, 128)  0         \n",
      " )                                                               \n",
      "                                                                 \n",
      " conv3d_1 (Conv3D)           (None, 75, 23, 70, 256)   884992    \n",
      "                                                                 \n",
      " activation_1 (Activation)   (None, 75, 23, 70, 256)   0         \n",
      "                                                                 \n",
      " max_pooling3d_1 (MaxPooling  (None, 75, 11, 35, 256)  0         \n",
      " 3D)                                                             \n",
      "                                                                 \n",
      " conv3d_2 (Conv3D)           (None, 75, 11, 35, 75)    518475    \n",
      "                                                                 \n",
      " activation_2 (Activation)   (None, 75, 11, 35, 75)    0         \n",
      "                                                                 \n",
      " max_pooling3d_2 (MaxPooling  (None, 75, 5, 17, 75)    0         \n",
      " 3D)                                                             \n",
      "                                                                 \n",
      " time_distributed (TimeDistr  (None, 75, 6375)         0         \n",
      " ibuted)                                                         \n",
      "                                                                 \n",
      " bidirectional (Bidirectiona  (None, 75, 256)          6660096   \n",
      " l)                                                              \n",
      "                                                                 \n",
      " dropout (Dropout)           (None, 75, 256)           0         \n",
      "                                                                 \n",
      " bidirectional_1 (Bidirectio  (None, 75, 256)          394240    \n",
      " nal)                                                            \n",
      "                                                                 \n",
      " dropout_1 (Dropout)         (None, 75, 256)           0         \n",
      "                                                                 \n",
      " dense (Dense)               (None, 75, 41)            10537     \n",
      "                                                                 \n",
      "=================================================================\n",
      "Total params: 8,471,924\n",
      "Trainable params: 8,471,924\n",
      "Non-trainable params: 0\n",
      "_________________________________________________________________\n"
     ]
    }
   ],
   "source": [
    "model.summary()"
   ]
  },
  {
   "cell_type": "markdown",
   "metadata": {},
   "source": [
    "*Let's test our model for once*"
   ]
  },
  {
   "cell_type": "code",
   "execution_count": 36,
   "metadata": {},
   "outputs": [
    {
     "name": "stdout",
     "output_type": "stream",
     "text": [
      "1/1 [==============================] - 11s 11s/step\n"
     ]
    }
   ],
   "source": [
    "yhat = model.predict(val[0])"
   ]
  },
  {
   "cell_type": "code",
   "execution_count": 37,
   "metadata": {},
   "outputs": [
    {
     "data": {
      "text/plain": [
       "<tf.Tensor: shape=(75,), dtype=int64, numpy=\n",
       "array([10, 10, 10, 10, 10, 10, 10, 10, 10, 10, 10, 10, 10, 24, 24, 24, 24,\n",
       "       24, 24, 24, 24, 24, 24, 24, 24, 24, 24, 24, 24, 24, 24, 24, 24, 24,\n",
       "       24, 24, 24, 24, 24, 24, 24, 24, 24, 24, 24, 24, 24, 24, 24, 24, 24,\n",
       "       24, 24, 24, 24, 24, 24, 24, 24, 24, 24, 24, 24, 24, 10, 10, 10, 10,\n",
       "       10, 10, 10, 10, 10, 10, 10], dtype=int64)>"
      ]
     },
     "execution_count": 37,
     "metadata": {},
     "output_type": "execute_result"
    }
   ],
   "source": [
    "tf.argmax(yhat[0], axis = 1)"
   ]
  },
  {
   "cell_type": "code",
   "execution_count": 38,
   "metadata": {},
   "outputs": [
    {
     "data": {
      "text/plain": [
       "'jjjjjjjjjjjjjjjjjjjjjjjjjjjjjjjjjjjjjjjjjjjjjjjjjjjjjjjjjjjjjjjjjjjjjjjjjjj'"
      ]
     },
     "execution_count": 38,
     "metadata": {},
     "output_type": "execute_result"
    }
   ],
   "source": [
    "tf.strings.reduce_join([num_to_char(tf.argmax(x)) for x in yhat[1]]).numpy().decode()"
   ]
  },
  {
   "cell_type": "code",
   "execution_count": 39,
   "metadata": {},
   "outputs": [
    {
     "data": {
      "text/plain": [
       "(None, 75, 46, 140, 1)"
      ]
     },
     "execution_count": 39,
     "metadata": {},
     "output_type": "execute_result"
    }
   ],
   "source": [
    "model.input_shape"
   ]
  },
  {
   "cell_type": "code",
   "execution_count": 40,
   "metadata": {},
   "outputs": [
    {
     "data": {
      "text/plain": [
       "(None, 75, 41)"
      ]
     },
     "execution_count": 40,
     "metadata": {},
     "output_type": "execute_result"
    }
   ],
   "source": [
    "model.output_shape"
   ]
  },
  {
   "cell_type": "markdown",
   "metadata": {},
   "source": [
    "#### 4. Setup Training Options and Train"
   ]
  },
  {
   "cell_type": "code",
   "execution_count": 41,
   "metadata": {},
   "outputs": [],
   "source": [
    "def scheduler(epoch, lr):\n",
    "  if epoch < 30:\n",
    "    return lr\n",
    "  else:\n",
    "    return lr * tf.math.exp(-0.1)"
   ]
  },
  {
   "cell_type": "code",
   "execution_count": 42,
   "metadata": {},
   "outputs": [],
   "source": [
    "def CTCLoss(y_true, y_pred):\n",
    "  batch_len = tf.cast(tf.shape(y_true)[0], dtype=\"int64\")\n",
    "  input_length = tf.cast(tf.shape(y_pred)[1], dtype=\"int64\")\n",
    "  label_length = tf.cast(tf.shape(y_true)[1], dtype=\"int64\")\n",
    "\n",
    "  input_length = input_length * tf.ones(shape=(batch_len, 1), dtype=\"int64\")\n",
    "  label_length = label_length * tf.ones(shape=(batch_len, 1), dtype=\"int64\")\n",
    "\n",
    "  loss = tf.keras.backend.ctc_batch_cost(y_true, y_pred, input_length, label_length)\n",
    "  return loss"
   ]
  },
  {
   "cell_type": "code",
   "execution_count": 43,
   "metadata": {},
   "outputs": [],
   "source": [
    "class ProduceExample(tf.keras.callbacks.Callback): \n",
    "    def __init__(self, dataset) -> None: \n",
    "        self.dataset = dataset.as_numpy_iterator()\n",
    "    \n",
    "    def on_epoch_end(self, epoch, logs=None) -> None:\n",
    "        data = self.dataset.next()\n",
    "        yhat = self.model.predict(data[0])\n",
    "        decoded = tf.keras.backend.ctc_decode(yhat, [75,75], greedy=False)[0][0].numpy()\n",
    "        for x in range(len(yhat)):           \n",
    "            print('Original:', tf.strings.reduce_join(num_to_char(data[1][x])).numpy().decode('utf-8'))\n",
    "            print('Prediction:', tf.strings.reduce_join(num_to_char(decoded[x])).numpy().decode('utf-8'))\n",
    "            print('~'*100)\n"
   ]
  },
  {
   "cell_type": "code",
   "execution_count": 44,
   "metadata": {},
   "outputs": [],
   "source": [
    "model.compile(optimizer=Adam(learning_rate=0.0001), loss=CTCLoss)"
   ]
  },
  {
   "cell_type": "code",
   "execution_count": 45,
   "metadata": {},
   "outputs": [],
   "source": [
    "checkpoint_callback = ModelCheckpoint(os.path.join('models', 'checkpoint'), monitor='loss', save_weights_only=True)"
   ]
  },
  {
   "cell_type": "code",
   "execution_count": 46,
   "metadata": {},
   "outputs": [],
   "source": [
    "schedule_callback = LearningRateScheduler(scheduler)"
   ]
  },
  {
   "cell_type": "code",
   "execution_count": 47,
   "metadata": {},
   "outputs": [],
   "source": [
    "example_callback = ProduceExample(data)"
   ]
  },
  {
   "cell_type": "code",
   "execution_count": 48,
   "metadata": {},
   "outputs": [
    {
     "name": "stdout",
     "output_type": "stream",
     "text": [
      "Epoch 1/10\n"
     ]
    },
    {
     "ename": "ResourceExhaustedError",
     "evalue": "Graph execution error:\n\nDetected at node 'gradient_tape/sequential/max_pooling3d_1/MaxPool3D/MaxPool3DGrad' defined at (most recent call last):\n    File \"c:\\Users\\dasam\\AppData\\Local\\Programs\\Python\\Python310\\lib\\runpy.py\", line 196, in _run_module_as_main\n      return _run_code(code, main_globals, None,\n    File \"c:\\Users\\dasam\\AppData\\Local\\Programs\\Python\\Python310\\lib\\runpy.py\", line 86, in _run_code\n      exec(code, run_globals)\n    File \"c:\\Users\\dasam\\AppData\\Local\\Programs\\Python\\Python310\\lib\\site-packages\\ipykernel_launcher.py\", line 17, in <module>\n      app.launch_new_instance()\n    File \"c:\\Users\\dasam\\AppData\\Local\\Programs\\Python\\Python310\\lib\\site-packages\\traitlets\\config\\application.py\", line 1043, in launch_instance\n      app.start()\n    File \"c:\\Users\\dasam\\AppData\\Local\\Programs\\Python\\Python310\\lib\\site-packages\\ipykernel\\kernelapp.py\", line 736, in start\n      self.io_loop.start()\n    File \"c:\\Users\\dasam\\AppData\\Local\\Programs\\Python\\Python310\\lib\\site-packages\\tornado\\platform\\asyncio.py\", line 195, in start\n      self.asyncio_loop.run_forever()\n    File \"c:\\Users\\dasam\\AppData\\Local\\Programs\\Python\\Python310\\lib\\asyncio\\base_events.py\", line 603, in run_forever\n      self._run_once()\n    File \"c:\\Users\\dasam\\AppData\\Local\\Programs\\Python\\Python310\\lib\\asyncio\\base_events.py\", line 1909, in _run_once\n      handle._run()\n    File \"c:\\Users\\dasam\\AppData\\Local\\Programs\\Python\\Python310\\lib\\asyncio\\events.py\", line 80, in _run\n      self._context.run(self._callback, *self._args)\n    File \"c:\\Users\\dasam\\AppData\\Local\\Programs\\Python\\Python310\\lib\\site-packages\\ipykernel\\kernelbase.py\", line 516, in dispatch_queue\n      await self.process_one()\n    File \"c:\\Users\\dasam\\AppData\\Local\\Programs\\Python\\Python310\\lib\\site-packages\\ipykernel\\kernelbase.py\", line 505, in process_one\n      await dispatch(*args)\n    File \"c:\\Users\\dasam\\AppData\\Local\\Programs\\Python\\Python310\\lib\\site-packages\\ipykernel\\kernelbase.py\", line 412, in dispatch_shell\n      await result\n    File \"c:\\Users\\dasam\\AppData\\Local\\Programs\\Python\\Python310\\lib\\site-packages\\ipykernel\\kernelbase.py\", line 740, in execute_request\n      reply_content = await reply_content\n    File \"c:\\Users\\dasam\\AppData\\Local\\Programs\\Python\\Python310\\lib\\site-packages\\ipykernel\\ipkernel.py\", line 422, in do_execute\n      res = shell.run_cell(\n    File \"c:\\Users\\dasam\\AppData\\Local\\Programs\\Python\\Python310\\lib\\site-packages\\ipykernel\\zmqshell.py\", line 546, in run_cell\n      return super().run_cell(*args, **kwargs)\n    File \"c:\\Users\\dasam\\AppData\\Local\\Programs\\Python\\Python310\\lib\\site-packages\\IPython\\core\\interactiveshell.py\", line 3024, in run_cell\n      result = self._run_cell(\n    File \"c:\\Users\\dasam\\AppData\\Local\\Programs\\Python\\Python310\\lib\\site-packages\\IPython\\core\\interactiveshell.py\", line 3079, in _run_cell\n      result = runner(coro)\n    File \"c:\\Users\\dasam\\AppData\\Local\\Programs\\Python\\Python310\\lib\\site-packages\\IPython\\core\\async_helpers.py\", line 129, in _pseudo_sync_runner\n      coro.send(None)\n    File \"c:\\Users\\dasam\\AppData\\Local\\Programs\\Python\\Python310\\lib\\site-packages\\IPython\\core\\interactiveshell.py\", line 3284, in run_cell_async\n      has_raised = await self.run_ast_nodes(code_ast.body, cell_name,\n    File \"c:\\Users\\dasam\\AppData\\Local\\Programs\\Python\\Python310\\lib\\site-packages\\IPython\\core\\interactiveshell.py\", line 3466, in run_ast_nodes\n      if await self.run_code(code, result, async_=asy):\n    File \"c:\\Users\\dasam\\AppData\\Local\\Programs\\Python\\Python310\\lib\\site-packages\\IPython\\core\\interactiveshell.py\", line 3526, in run_code\n      exec(code_obj, self.user_global_ns, self.user_ns)\n    File \"C:\\Users\\dasam\\AppData\\Local\\Temp\\ipykernel_8932\\2848841378.py\", line 1, in <module>\n      model.fit(data, epochs=10, callbacks=[checkpoint_callback, schedule_callback, example_callback])\n    File \"c:\\Users\\dasam\\AppData\\Local\\Programs\\Python\\Python310\\lib\\site-packages\\keras\\utils\\traceback_utils.py\", line 65, in error_handler\n      return fn(*args, **kwargs)\n    File \"c:\\Users\\dasam\\AppData\\Local\\Programs\\Python\\Python310\\lib\\site-packages\\keras\\engine\\training.py\", line 1564, in fit\n      tmp_logs = self.train_function(iterator)\n    File \"c:\\Users\\dasam\\AppData\\Local\\Programs\\Python\\Python310\\lib\\site-packages\\keras\\engine\\training.py\", line 1160, in train_function\n      return step_function(self, iterator)\n    File \"c:\\Users\\dasam\\AppData\\Local\\Programs\\Python\\Python310\\lib\\site-packages\\keras\\engine\\training.py\", line 1146, in step_function\n      outputs = model.distribute_strategy.run(run_step, args=(data,))\n    File \"c:\\Users\\dasam\\AppData\\Local\\Programs\\Python\\Python310\\lib\\site-packages\\keras\\engine\\training.py\", line 1135, in run_step\n      outputs = model.train_step(data)\n    File \"c:\\Users\\dasam\\AppData\\Local\\Programs\\Python\\Python310\\lib\\site-packages\\keras\\engine\\training.py\", line 997, in train_step\n      self.optimizer.minimize(loss, self.trainable_variables, tape=tape)\n    File \"c:\\Users\\dasam\\AppData\\Local\\Programs\\Python\\Python310\\lib\\site-packages\\keras\\optimizers\\optimizer_v2\\optimizer_v2.py\", line 576, in minimize\n      grads_and_vars = self._compute_gradients(\n    File \"c:\\Users\\dasam\\AppData\\Local\\Programs\\Python\\Python310\\lib\\site-packages\\keras\\optimizers\\optimizer_v2\\optimizer_v2.py\", line 634, in _compute_gradients\n      grads_and_vars = self._get_gradients(\n    File \"c:\\Users\\dasam\\AppData\\Local\\Programs\\Python\\Python310\\lib\\site-packages\\keras\\optimizers\\optimizer_v2\\optimizer_v2.py\", line 510, in _get_gradients\n      grads = tape.gradient(loss, var_list, grad_loss)\nNode: 'gradient_tape/sequential/max_pooling3d_1/MaxPool3D/MaxPool3DGrad'\nOOM when allocating tensor with shape[2,256,75,23,70] and type float on /job:localhost/replica:0/task:0/device:GPU:0 by allocator GPU_0_bfc\n\t [[{{node gradient_tape/sequential/max_pooling3d_1/MaxPool3D/MaxPool3DGrad}}]]\nHint: If you want to see a list of allocated tensors when OOM happens, add report_tensor_allocations_upon_oom to RunOptions for current allocation info. This isn't available when running in Eager mode.\n [Op:__inference_train_function_61492]",
     "output_type": "error",
     "traceback": [
      "\u001b[1;31m---------------------------------------------------------------------------\u001b[0m",
      "\u001b[1;31mResourceExhaustedError\u001b[0m                    Traceback (most recent call last)",
      "Cell \u001b[1;32mIn[48], line 1\u001b[0m\n\u001b[1;32m----> 1\u001b[0m \u001b[43mmodel\u001b[49m\u001b[38;5;241;43m.\u001b[39;49m\u001b[43mfit\u001b[49m\u001b[43m(\u001b[49m\u001b[43mdata\u001b[49m\u001b[43m,\u001b[49m\u001b[43m \u001b[49m\u001b[43mepochs\u001b[49m\u001b[38;5;241;43m=\u001b[39;49m\u001b[38;5;241;43m10\u001b[39;49m\u001b[43m,\u001b[49m\u001b[43m \u001b[49m\u001b[43mcallbacks\u001b[49m\u001b[38;5;241;43m=\u001b[39;49m\u001b[43m[\u001b[49m\u001b[43mcheckpoint_callback\u001b[49m\u001b[43m,\u001b[49m\u001b[43m \u001b[49m\u001b[43mschedule_callback\u001b[49m\u001b[43m,\u001b[49m\u001b[43m \u001b[49m\u001b[43mexample_callback\u001b[49m\u001b[43m]\u001b[49m\u001b[43m)\u001b[49m\n",
      "File \u001b[1;32mc:\\Users\\dasam\\AppData\\Local\\Programs\\Python\\Python310\\lib\\site-packages\\keras\\utils\\traceback_utils.py:70\u001b[0m, in \u001b[0;36mfilter_traceback.<locals>.error_handler\u001b[1;34m(*args, **kwargs)\u001b[0m\n\u001b[0;32m     67\u001b[0m     filtered_tb \u001b[38;5;241m=\u001b[39m _process_traceback_frames(e\u001b[38;5;241m.\u001b[39m__traceback__)\n\u001b[0;32m     68\u001b[0m     \u001b[38;5;66;03m# To get the full stack trace, call:\u001b[39;00m\n\u001b[0;32m     69\u001b[0m     \u001b[38;5;66;03m# `tf.debugging.disable_traceback_filtering()`\u001b[39;00m\n\u001b[1;32m---> 70\u001b[0m     \u001b[38;5;28;01mraise\u001b[39;00m e\u001b[38;5;241m.\u001b[39mwith_traceback(filtered_tb) \u001b[38;5;28;01mfrom\u001b[39;00m \u001b[38;5;28;01mNone\u001b[39;00m\n\u001b[0;32m     71\u001b[0m \u001b[38;5;28;01mfinally\u001b[39;00m:\n\u001b[0;32m     72\u001b[0m     \u001b[38;5;28;01mdel\u001b[39;00m filtered_tb\n",
      "File \u001b[1;32mc:\\Users\\dasam\\AppData\\Local\\Programs\\Python\\Python310\\lib\\site-packages\\tensorflow\\python\\eager\\execute.py:54\u001b[0m, in \u001b[0;36mquick_execute\u001b[1;34m(op_name, num_outputs, inputs, attrs, ctx, name)\u001b[0m\n\u001b[0;32m     52\u001b[0m \u001b[38;5;28;01mtry\u001b[39;00m:\n\u001b[0;32m     53\u001b[0m   ctx\u001b[38;5;241m.\u001b[39mensure_initialized()\n\u001b[1;32m---> 54\u001b[0m   tensors \u001b[38;5;241m=\u001b[39m pywrap_tfe\u001b[38;5;241m.\u001b[39mTFE_Py_Execute(ctx\u001b[38;5;241m.\u001b[39m_handle, device_name, op_name,\n\u001b[0;32m     55\u001b[0m                                       inputs, attrs, num_outputs)\n\u001b[0;32m     56\u001b[0m \u001b[38;5;28;01mexcept\u001b[39;00m core\u001b[38;5;241m.\u001b[39m_NotOkStatusException \u001b[38;5;28;01mas\u001b[39;00m e:\n\u001b[0;32m     57\u001b[0m   \u001b[38;5;28;01mif\u001b[39;00m name \u001b[38;5;129;01mis\u001b[39;00m \u001b[38;5;129;01mnot\u001b[39;00m \u001b[38;5;28;01mNone\u001b[39;00m:\n",
      "\u001b[1;31mResourceExhaustedError\u001b[0m: Graph execution error:\n\nDetected at node 'gradient_tape/sequential/max_pooling3d_1/MaxPool3D/MaxPool3DGrad' defined at (most recent call last):\n    File \"c:\\Users\\dasam\\AppData\\Local\\Programs\\Python\\Python310\\lib\\runpy.py\", line 196, in _run_module_as_main\n      return _run_code(code, main_globals, None,\n    File \"c:\\Users\\dasam\\AppData\\Local\\Programs\\Python\\Python310\\lib\\runpy.py\", line 86, in _run_code\n      exec(code, run_globals)\n    File \"c:\\Users\\dasam\\AppData\\Local\\Programs\\Python\\Python310\\lib\\site-packages\\ipykernel_launcher.py\", line 17, in <module>\n      app.launch_new_instance()\n    File \"c:\\Users\\dasam\\AppData\\Local\\Programs\\Python\\Python310\\lib\\site-packages\\traitlets\\config\\application.py\", line 1043, in launch_instance\n      app.start()\n    File \"c:\\Users\\dasam\\AppData\\Local\\Programs\\Python\\Python310\\lib\\site-packages\\ipykernel\\kernelapp.py\", line 736, in start\n      self.io_loop.start()\n    File \"c:\\Users\\dasam\\AppData\\Local\\Programs\\Python\\Python310\\lib\\site-packages\\tornado\\platform\\asyncio.py\", line 195, in start\n      self.asyncio_loop.run_forever()\n    File \"c:\\Users\\dasam\\AppData\\Local\\Programs\\Python\\Python310\\lib\\asyncio\\base_events.py\", line 603, in run_forever\n      self._run_once()\n    File \"c:\\Users\\dasam\\AppData\\Local\\Programs\\Python\\Python310\\lib\\asyncio\\base_events.py\", line 1909, in _run_once\n      handle._run()\n    File \"c:\\Users\\dasam\\AppData\\Local\\Programs\\Python\\Python310\\lib\\asyncio\\events.py\", line 80, in _run\n      self._context.run(self._callback, *self._args)\n    File \"c:\\Users\\dasam\\AppData\\Local\\Programs\\Python\\Python310\\lib\\site-packages\\ipykernel\\kernelbase.py\", line 516, in dispatch_queue\n      await self.process_one()\n    File \"c:\\Users\\dasam\\AppData\\Local\\Programs\\Python\\Python310\\lib\\site-packages\\ipykernel\\kernelbase.py\", line 505, in process_one\n      await dispatch(*args)\n    File \"c:\\Users\\dasam\\AppData\\Local\\Programs\\Python\\Python310\\lib\\site-packages\\ipykernel\\kernelbase.py\", line 412, in dispatch_shell\n      await result\n    File \"c:\\Users\\dasam\\AppData\\Local\\Programs\\Python\\Python310\\lib\\site-packages\\ipykernel\\kernelbase.py\", line 740, in execute_request\n      reply_content = await reply_content\n    File \"c:\\Users\\dasam\\AppData\\Local\\Programs\\Python\\Python310\\lib\\site-packages\\ipykernel\\ipkernel.py\", line 422, in do_execute\n      res = shell.run_cell(\n    File \"c:\\Users\\dasam\\AppData\\Local\\Programs\\Python\\Python310\\lib\\site-packages\\ipykernel\\zmqshell.py\", line 546, in run_cell\n      return super().run_cell(*args, **kwargs)\n    File \"c:\\Users\\dasam\\AppData\\Local\\Programs\\Python\\Python310\\lib\\site-packages\\IPython\\core\\interactiveshell.py\", line 3024, in run_cell\n      result = self._run_cell(\n    File \"c:\\Users\\dasam\\AppData\\Local\\Programs\\Python\\Python310\\lib\\site-packages\\IPython\\core\\interactiveshell.py\", line 3079, in _run_cell\n      result = runner(coro)\n    File \"c:\\Users\\dasam\\AppData\\Local\\Programs\\Python\\Python310\\lib\\site-packages\\IPython\\core\\async_helpers.py\", line 129, in _pseudo_sync_runner\n      coro.send(None)\n    File \"c:\\Users\\dasam\\AppData\\Local\\Programs\\Python\\Python310\\lib\\site-packages\\IPython\\core\\interactiveshell.py\", line 3284, in run_cell_async\n      has_raised = await self.run_ast_nodes(code_ast.body, cell_name,\n    File \"c:\\Users\\dasam\\AppData\\Local\\Programs\\Python\\Python310\\lib\\site-packages\\IPython\\core\\interactiveshell.py\", line 3466, in run_ast_nodes\n      if await self.run_code(code, result, async_=asy):\n    File \"c:\\Users\\dasam\\AppData\\Local\\Programs\\Python\\Python310\\lib\\site-packages\\IPython\\core\\interactiveshell.py\", line 3526, in run_code\n      exec(code_obj, self.user_global_ns, self.user_ns)\n    File \"C:\\Users\\dasam\\AppData\\Local\\Temp\\ipykernel_8932\\2848841378.py\", line 1, in <module>\n      model.fit(data, epochs=10, callbacks=[checkpoint_callback, schedule_callback, example_callback])\n    File \"c:\\Users\\dasam\\AppData\\Local\\Programs\\Python\\Python310\\lib\\site-packages\\keras\\utils\\traceback_utils.py\", line 65, in error_handler\n      return fn(*args, **kwargs)\n    File \"c:\\Users\\dasam\\AppData\\Local\\Programs\\Python\\Python310\\lib\\site-packages\\keras\\engine\\training.py\", line 1564, in fit\n      tmp_logs = self.train_function(iterator)\n    File \"c:\\Users\\dasam\\AppData\\Local\\Programs\\Python\\Python310\\lib\\site-packages\\keras\\engine\\training.py\", line 1160, in train_function\n      return step_function(self, iterator)\n    File \"c:\\Users\\dasam\\AppData\\Local\\Programs\\Python\\Python310\\lib\\site-packages\\keras\\engine\\training.py\", line 1146, in step_function\n      outputs = model.distribute_strategy.run(run_step, args=(data,))\n    File \"c:\\Users\\dasam\\AppData\\Local\\Programs\\Python\\Python310\\lib\\site-packages\\keras\\engine\\training.py\", line 1135, in run_step\n      outputs = model.train_step(data)\n    File \"c:\\Users\\dasam\\AppData\\Local\\Programs\\Python\\Python310\\lib\\site-packages\\keras\\engine\\training.py\", line 997, in train_step\n      self.optimizer.minimize(loss, self.trainable_variables, tape=tape)\n    File \"c:\\Users\\dasam\\AppData\\Local\\Programs\\Python\\Python310\\lib\\site-packages\\keras\\optimizers\\optimizer_v2\\optimizer_v2.py\", line 576, in minimize\n      grads_and_vars = self._compute_gradients(\n    File \"c:\\Users\\dasam\\AppData\\Local\\Programs\\Python\\Python310\\lib\\site-packages\\keras\\optimizers\\optimizer_v2\\optimizer_v2.py\", line 634, in _compute_gradients\n      grads_and_vars = self._get_gradients(\n    File \"c:\\Users\\dasam\\AppData\\Local\\Programs\\Python\\Python310\\lib\\site-packages\\keras\\optimizers\\optimizer_v2\\optimizer_v2.py\", line 510, in _get_gradients\n      grads = tape.gradient(loss, var_list, grad_loss)\nNode: 'gradient_tape/sequential/max_pooling3d_1/MaxPool3D/MaxPool3DGrad'\nOOM when allocating tensor with shape[2,256,75,23,70] and type float on /job:localhost/replica:0/task:0/device:GPU:0 by allocator GPU_0_bfc\n\t [[{{node gradient_tape/sequential/max_pooling3d_1/MaxPool3D/MaxPool3DGrad}}]]\nHint: If you want to see a list of allocated tensors when OOM happens, add report_tensor_allocations_upon_oom to RunOptions for current allocation info. This isn't available when running in Eager mode.\n [Op:__inference_train_function_61492]"
     ]
    }
   ],
   "source": [
    "model.fit(data, epochs=10, callbacks=[checkpoint_callback, schedule_callback, example_callback])\n"
   ]
  }
 ],
 "metadata": {
  "kernelspec": {
   "display_name": "Python 3",
   "language": "python",
   "name": "python3"
  },
  "language_info": {
   "codemirror_mode": {
    "name": "ipython",
    "version": 3
   },
   "file_extension": ".py",
   "mimetype": "text/x-python",
   "name": "python",
   "nbconvert_exporter": "python",
   "pygments_lexer": "ipython3",
   "version": "3.10.11"
  }
 },
 "nbformat": 4,
 "nbformat_minor": 2
}
