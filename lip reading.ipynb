{
  "cells": [
    {
      "cell_type": "code",
      "source": [
        "!pip install opencv-python tensorflow imageio==2.23.0 gdown==4.6.0"
      ],
      "metadata": {
        "colab": {
          "base_uri": "https://localhost:8080/"
        },
        "id": "RrOBLWDPgtJu",
        "outputId": "ad377d98-697b-47cb-d6bc-a4311a693f02"
      },
      "execution_count": 2,
      "outputs": [
        {
          "output_type": "stream",
          "name": "stdout",
          "text": [
            "Requirement already satisfied: opencv-python in /usr/local/lib/python3.10/dist-packages (4.8.0.76)\n",
            "Requirement already satisfied: tensorflow in /usr/local/lib/python3.10/dist-packages (2.15.0)\n",
            "Collecting imageio==2.23.0\n",
            "  Downloading imageio-2.23.0-py3-none-any.whl (3.4 MB)\n",
            "\u001b[2K     \u001b[90m━━━━━━━━━━━━━━━━━━━━━━━━━━━━━━━━━━━━━━━━\u001b[0m \u001b[32m3.4/3.4 MB\u001b[0m \u001b[31m14.2 MB/s\u001b[0m eta \u001b[36m0:00:00\u001b[0m\n",
            "\u001b[?25hCollecting gdown==4.6.0\n",
            "  Downloading gdown-4.6.0-py3-none-any.whl (14 kB)\n",
            "Requirement already satisfied: numpy in /usr/local/lib/python3.10/dist-packages (from imageio==2.23.0) (1.25.2)\n",
            "Requirement already satisfied: pillow>=8.3.2 in /usr/local/lib/python3.10/dist-packages (from imageio==2.23.0) (9.4.0)\n",
            "Requirement already satisfied: filelock in /usr/local/lib/python3.10/dist-packages (from gdown==4.6.0) (3.13.4)\n",
            "Requirement already satisfied: requests[socks] in /usr/local/lib/python3.10/dist-packages (from gdown==4.6.0) (2.31.0)\n",
            "Requirement already satisfied: six in /usr/local/lib/python3.10/dist-packages (from gdown==4.6.0) (1.16.0)\n",
            "Requirement already satisfied: tqdm in /usr/local/lib/python3.10/dist-packages (from gdown==4.6.0) (4.66.2)\n",
            "Requirement already satisfied: beautifulsoup4 in /usr/local/lib/python3.10/dist-packages (from gdown==4.6.0) (4.12.3)\n",
            "Requirement already satisfied: absl-py>=1.0.0 in /usr/local/lib/python3.10/dist-packages (from tensorflow) (1.4.0)\n",
            "Requirement already satisfied: astunparse>=1.6.0 in /usr/local/lib/python3.10/dist-packages (from tensorflow) (1.6.3)\n",
            "Requirement already satisfied: flatbuffers>=23.5.26 in /usr/local/lib/python3.10/dist-packages (from tensorflow) (24.3.25)\n",
            "Requirement already satisfied: gast!=0.5.0,!=0.5.1,!=0.5.2,>=0.2.1 in /usr/local/lib/python3.10/dist-packages (from tensorflow) (0.5.4)\n",
            "Requirement already satisfied: google-pasta>=0.1.1 in /usr/local/lib/python3.10/dist-packages (from tensorflow) (0.2.0)\n",
            "Requirement already satisfied: h5py>=2.9.0 in /usr/local/lib/python3.10/dist-packages (from tensorflow) (3.9.0)\n",
            "Requirement already satisfied: libclang>=13.0.0 in /usr/local/lib/python3.10/dist-packages (from tensorflow) (18.1.1)\n",
            "Requirement already satisfied: ml-dtypes~=0.2.0 in /usr/local/lib/python3.10/dist-packages (from tensorflow) (0.2.0)\n",
            "Requirement already satisfied: opt-einsum>=2.3.2 in /usr/local/lib/python3.10/dist-packages (from tensorflow) (3.3.0)\n",
            "Requirement already satisfied: packaging in /usr/local/lib/python3.10/dist-packages (from tensorflow) (24.0)\n",
            "Requirement already satisfied: protobuf!=4.21.0,!=4.21.1,!=4.21.2,!=4.21.3,!=4.21.4,!=4.21.5,<5.0.0dev,>=3.20.3 in /usr/local/lib/python3.10/dist-packages (from tensorflow) (3.20.3)\n",
            "Requirement already satisfied: setuptools in /usr/local/lib/python3.10/dist-packages (from tensorflow) (67.7.2)\n",
            "Requirement already satisfied: termcolor>=1.1.0 in /usr/local/lib/python3.10/dist-packages (from tensorflow) (2.4.0)\n",
            "Requirement already satisfied: typing-extensions>=3.6.6 in /usr/local/lib/python3.10/dist-packages (from tensorflow) (4.11.0)\n",
            "Requirement already satisfied: wrapt<1.15,>=1.11.0 in /usr/local/lib/python3.10/dist-packages (from tensorflow) (1.14.1)\n",
            "Requirement already satisfied: tensorflow-io-gcs-filesystem>=0.23.1 in /usr/local/lib/python3.10/dist-packages (from tensorflow) (0.36.0)\n",
            "Requirement already satisfied: grpcio<2.0,>=1.24.3 in /usr/local/lib/python3.10/dist-packages (from tensorflow) (1.62.1)\n",
            "Requirement already satisfied: tensorboard<2.16,>=2.15 in /usr/local/lib/python3.10/dist-packages (from tensorflow) (2.15.2)\n",
            "Requirement already satisfied: tensorflow-estimator<2.16,>=2.15.0 in /usr/local/lib/python3.10/dist-packages (from tensorflow) (2.15.0)\n",
            "Requirement already satisfied: keras<2.16,>=2.15.0 in /usr/local/lib/python3.10/dist-packages (from tensorflow) (2.15.0)\n",
            "Requirement already satisfied: wheel<1.0,>=0.23.0 in /usr/local/lib/python3.10/dist-packages (from astunparse>=1.6.0->tensorflow) (0.43.0)\n",
            "Requirement already satisfied: google-auth<3,>=1.6.3 in /usr/local/lib/python3.10/dist-packages (from tensorboard<2.16,>=2.15->tensorflow) (2.27.0)\n",
            "Requirement already satisfied: google-auth-oauthlib<2,>=0.5 in /usr/local/lib/python3.10/dist-packages (from tensorboard<2.16,>=2.15->tensorflow) (1.2.0)\n",
            "Requirement already satisfied: markdown>=2.6.8 in /usr/local/lib/python3.10/dist-packages (from tensorboard<2.16,>=2.15->tensorflow) (3.6)\n",
            "Requirement already satisfied: tensorboard-data-server<0.8.0,>=0.7.0 in /usr/local/lib/python3.10/dist-packages (from tensorboard<2.16,>=2.15->tensorflow) (0.7.2)\n",
            "Requirement already satisfied: werkzeug>=1.0.1 in /usr/local/lib/python3.10/dist-packages (from tensorboard<2.16,>=2.15->tensorflow) (3.0.2)\n",
            "Requirement already satisfied: soupsieve>1.2 in /usr/local/lib/python3.10/dist-packages (from beautifulsoup4->gdown==4.6.0) (2.5)\n",
            "Requirement already satisfied: charset-normalizer<4,>=2 in /usr/local/lib/python3.10/dist-packages (from requests[socks]->gdown==4.6.0) (3.3.2)\n",
            "Requirement already satisfied: idna<4,>=2.5 in /usr/local/lib/python3.10/dist-packages (from requests[socks]->gdown==4.6.0) (3.6)\n",
            "Requirement already satisfied: urllib3<3,>=1.21.1 in /usr/local/lib/python3.10/dist-packages (from requests[socks]->gdown==4.6.0) (2.0.7)\n",
            "Requirement already satisfied: certifi>=2017.4.17 in /usr/local/lib/python3.10/dist-packages (from requests[socks]->gdown==4.6.0) (2024.2.2)\n",
            "Requirement already satisfied: PySocks!=1.5.7,>=1.5.6 in /usr/local/lib/python3.10/dist-packages (from requests[socks]->gdown==4.6.0) (1.7.1)\n",
            "Requirement already satisfied: cachetools<6.0,>=2.0.0 in /usr/local/lib/python3.10/dist-packages (from google-auth<3,>=1.6.3->tensorboard<2.16,>=2.15->tensorflow) (5.3.3)\n",
            "Requirement already satisfied: pyasn1-modules>=0.2.1 in /usr/local/lib/python3.10/dist-packages (from google-auth<3,>=1.6.3->tensorboard<2.16,>=2.15->tensorflow) (0.4.0)\n",
            "Requirement already satisfied: rsa<5,>=3.1.4 in /usr/local/lib/python3.10/dist-packages (from google-auth<3,>=1.6.3->tensorboard<2.16,>=2.15->tensorflow) (4.9)\n",
            "Requirement already satisfied: requests-oauthlib>=0.7.0 in /usr/local/lib/python3.10/dist-packages (from google-auth-oauthlib<2,>=0.5->tensorboard<2.16,>=2.15->tensorflow) (1.3.1)\n",
            "Requirement already satisfied: MarkupSafe>=2.1.1 in /usr/local/lib/python3.10/dist-packages (from werkzeug>=1.0.1->tensorboard<2.16,>=2.15->tensorflow) (2.1.5)\n",
            "Requirement already satisfied: pyasn1<0.7.0,>=0.4.6 in /usr/local/lib/python3.10/dist-packages (from pyasn1-modules>=0.2.1->google-auth<3,>=1.6.3->tensorboard<2.16,>=2.15->tensorflow) (0.6.0)\n",
            "Requirement already satisfied: oauthlib>=3.0.0 in /usr/local/lib/python3.10/dist-packages (from requests-oauthlib>=0.7.0->google-auth-oauthlib<2,>=0.5->tensorboard<2.16,>=2.15->tensorflow) (3.2.2)\n",
            "Installing collected packages: imageio, gdown\n",
            "  Attempting uninstall: imageio\n",
            "    Found existing installation: imageio 2.31.6\n",
            "    Uninstalling imageio-2.31.6:\n",
            "      Successfully uninstalled imageio-2.31.6\n",
            "  Attempting uninstall: gdown\n",
            "    Found existing installation: gdown 4.7.3\n",
            "    Uninstalling gdown-4.7.3:\n",
            "      Successfully uninstalled gdown-4.7.3\n",
            "Successfully installed gdown-4.6.0 imageio-2.23.0\n"
          ]
        }
      ]
    },
    {
      "cell_type": "markdown",
      "metadata": {
        "id": "YHcQ1lR1gOJM"
      },
      "source": [
        "#### Load libraries"
      ]
    },
    {
      "cell_type": "code",
      "source": [
        "from google.colab import drive\n",
        "drive.mount('/content/drive')"
      ],
      "metadata": {
        "colab": {
          "base_uri": "https://localhost:8080/"
        },
        "id": "OZYY6psugY8i",
        "outputId": "b808da00-cca7-4011-cf9e-fcad85bd754c"
      },
      "execution_count": 1,
      "outputs": [
        {
          "output_type": "stream",
          "name": "stdout",
          "text": [
            "Mounted at /content/drive\n"
          ]
        }
      ]
    },
    {
      "cell_type": "code",
      "execution_count": 3,
      "metadata": {
        "id": "fHIa5x0vgOJO"
      },
      "outputs": [],
      "source": [
        "import os\n",
        "import cv2\n",
        "import tensorflow as tf\n",
        "import matplotlib.pyplot as plt\n",
        "import imageio\n",
        "import numpy as np\n",
        "from typing import List"
      ]
    },
    {
      "cell_type": "markdown",
      "metadata": {
        "id": "jqXLvwbOgOJO"
      },
      "source": [
        "**Check and limit GPU usage**"
      ]
    },
    {
      "cell_type": "code",
      "execution_count": 4,
      "metadata": {
        "id": "W1w0vkswgOJO"
      },
      "outputs": [],
      "source": [
        "physical_devices = tf.config.list_physical_devices('GPU')\n",
        "try:\n",
        "  tf.config.experimental.set_memory_growth(physical_devices[0], True)\n",
        "except:\n",
        "  pass"
      ]
    },
    {
      "cell_type": "code",
      "execution_count": 5,
      "metadata": {
        "colab": {
          "base_uri": "https://localhost:8080/"
        },
        "id": "sIpI5buggOJP",
        "outputId": "4e77a1f1-1060-42f2-cf8a-91434640d81f"
      },
      "outputs": [
        {
          "output_type": "execute_result",
          "data": {
            "text/plain": [
              "[PhysicalDevice(name='/physical_device:GPU:0', device_type='GPU')]"
            ]
          },
          "metadata": {},
          "execution_count": 5
        }
      ],
      "source": [
        "physical_devices"
      ]
    },
    {
      "cell_type": "markdown",
      "metadata": {
        "id": "5cYrdXwngOJP"
      },
      "source": [
        "#### 1. Build Data Loading Functions"
      ]
    },
    {
      "cell_type": "code",
      "execution_count": 6,
      "metadata": {
        "id": "kQbFsKgagOJP"
      },
      "outputs": [],
      "source": [
        "import gdown"
      ]
    },
    {
      "cell_type": "code",
      "execution_count": 7,
      "metadata": {
        "colab": {
          "base_uri": "https://localhost:8080/"
        },
        "id": "SbiRTFAvgOJP",
        "outputId": "ce31ac23-3fbe-49ac-f4d8-f28d95c85268"
      },
      "outputs": [
        {
          "output_type": "stream",
          "name": "stderr",
          "text": [
            "Downloading...\n",
            "From: https://drive.google.com/uc?id=1YlvpDLix3S-U8fd-gqRwPcWXAXm8JwjL\n",
            "To: /content/data.zip\n",
            "100%|██████████| 423M/423M [00:03<00:00, 122MB/s]\n"
          ]
        },
        {
          "output_type": "execute_result",
          "data": {
            "text/plain": [
              "['data/',\n",
              " 'data/alignments/',\n",
              " 'data/alignments/s1/',\n",
              " 'data/alignments/s1/bbaf2n.align',\n",
              " 'data/alignments/s1/bbaf3s.align',\n",
              " 'data/alignments/s1/bbaf4p.align',\n",
              " 'data/alignments/s1/bbaf5a.align',\n",
              " 'data/alignments/s1/bbal6n.align',\n",
              " 'data/alignments/s1/bbal7s.align',\n",
              " 'data/alignments/s1/bbal8p.align',\n",
              " 'data/alignments/s1/bbal9a.align',\n",
              " 'data/alignments/s1/bbas1s.align',\n",
              " 'data/alignments/s1/bbas2p.align',\n",
              " 'data/alignments/s1/bbas3a.align',\n",
              " 'data/alignments/s1/bbaszn.align',\n",
              " 'data/alignments/s1/bbaz4n.align',\n",
              " 'data/alignments/s1/bbaz5s.align',\n",
              " 'data/alignments/s1/bbaz6p.align',\n",
              " 'data/alignments/s1/bbaz7a.align',\n",
              " 'data/alignments/s1/bbbf6n.align',\n",
              " 'data/alignments/s1/bbbf7s.align',\n",
              " 'data/alignments/s1/bbbf8p.align',\n",
              " 'data/alignments/s1/bbbf9a.align',\n",
              " 'data/alignments/s1/bbbm1s.align',\n",
              " 'data/alignments/s1/bbbm2p.align',\n",
              " 'data/alignments/s1/bbbm3a.align',\n",
              " 'data/alignments/s1/bbbmzn.align',\n",
              " 'data/alignments/s1/bbbs4n.align',\n",
              " 'data/alignments/s1/bbbs5s.align',\n",
              " 'data/alignments/s1/bbbs6p.align',\n",
              " 'data/alignments/s1/bbbs7a.align',\n",
              " 'data/alignments/s1/bbbz8n.align',\n",
              " 'data/alignments/s1/bbbz9s.align',\n",
              " 'data/alignments/s1/bbie8n.align',\n",
              " 'data/alignments/s1/bbie9s.align',\n",
              " 'data/alignments/s1/bbif1a.align',\n",
              " 'data/alignments/s1/bbifzp.align',\n",
              " 'data/alignments/s1/bbil2n.align',\n",
              " 'data/alignments/s1/bbil3s.align',\n",
              " 'data/alignments/s1/bbil4p.align',\n",
              " 'data/alignments/s1/bbil5a.align',\n",
              " 'data/alignments/s1/bbir6n.align',\n",
              " 'data/alignments/s1/bbir7s.align',\n",
              " 'data/alignments/s1/bbir8p.align',\n",
              " 'data/alignments/s1/bbir9a.align',\n",
              " 'data/alignments/s1/bbiz1s.align',\n",
              " 'data/alignments/s1/bbiz2p.align',\n",
              " 'data/alignments/s1/bbiz3a.align',\n",
              " 'data/alignments/s1/bbizzn.align',\n",
              " 'data/alignments/s1/bbwg1s.align',\n",
              " 'data/alignments/s1/bbwg2p.align',\n",
              " 'data/alignments/s1/bbwg3a.align',\n",
              " 'data/alignments/s1/bbwgzn.align',\n",
              " 'data/alignments/s1/bbwm4n.align',\n",
              " 'data/alignments/s1/bbwm5s.align',\n",
              " 'data/alignments/s1/bbwm6p.align',\n",
              " 'data/alignments/s1/bbwm7a.align',\n",
              " 'data/alignments/s1/bbws8n.align',\n",
              " 'data/alignments/s1/bbws9s.align',\n",
              " 'data/alignments/s1/bbwt1a.align',\n",
              " 'data/alignments/s1/bbwtzp.align',\n",
              " 'data/alignments/s1/bgaa6n.align',\n",
              " 'data/alignments/s1/bgaa7s.align',\n",
              " 'data/alignments/s1/bgaa8p.align',\n",
              " 'data/alignments/s1/bgaa9a.align',\n",
              " 'data/alignments/s1/bgah1s.align',\n",
              " 'data/alignments/s1/bgah2p.align',\n",
              " 'data/alignments/s1/bgah3a.align',\n",
              " 'data/alignments/s1/bgahzn.align',\n",
              " 'data/alignments/s1/bgan4n.align',\n",
              " 'data/alignments/s1/bgan5s.align',\n",
              " 'data/alignments/s1/bgan6p.align',\n",
              " 'data/alignments/s1/bgan7a.align',\n",
              " 'data/alignments/s1/bgat8n.align',\n",
              " 'data/alignments/s1/bgat9s.align',\n",
              " 'data/alignments/s1/bgau1a.align',\n",
              " 'data/alignments/s1/bgauzp.align',\n",
              " 'data/alignments/s1/bgbb1s.align',\n",
              " 'data/alignments/s1/bgbb2p.align',\n",
              " 'data/alignments/s1/bgbb3a.align',\n",
              " 'data/alignments/s1/bgbbzn.align',\n",
              " 'data/alignments/s1/bgbh4n.align',\n",
              " 'data/alignments/s1/bgbh5s.align',\n",
              " 'data/alignments/s1/bgbh6p.align',\n",
              " 'data/alignments/s1/bgbh7a.align',\n",
              " 'data/alignments/s1/bgbn8n.align',\n",
              " 'data/alignments/s1/bgbn9s.align',\n",
              " 'data/alignments/s1/bgbo1a.align',\n",
              " 'data/alignments/s1/bgbozp.align',\n",
              " 'data/alignments/s1/bgbu2n.align',\n",
              " 'data/alignments/s1/bgbu3s.align',\n",
              " 'data/alignments/s1/bgbu4p.align',\n",
              " 'data/alignments/s1/bgbu5a.align',\n",
              " 'data/alignments/s1/bgia2n.align',\n",
              " 'data/alignments/s1/bgia3s.align',\n",
              " 'data/alignments/s1/bgia4p.align',\n",
              " 'data/alignments/s1/bgia5a.align',\n",
              " 'data/alignments/s1/bgig6n.align',\n",
              " 'data/alignments/s1/bgig7s.align',\n",
              " 'data/alignments/s1/bgig8p.align',\n",
              " 'data/alignments/s1/bgig9a.align',\n",
              " 'data/alignments/s1/bgin1s.align',\n",
              " 'data/alignments/s1/bgin2p.align',\n",
              " 'data/alignments/s1/bgin3a.align',\n",
              " 'data/alignments/s1/bginzn.align',\n",
              " 'data/alignments/s1/bgit4n.align',\n",
              " 'data/alignments/s1/bgit5s.align',\n",
              " 'data/alignments/s1/bgit6p.align',\n",
              " 'data/alignments/s1/bgit7a.align',\n",
              " 'data/alignments/s1/bgwb4n.align',\n",
              " 'data/alignments/s1/bgwb5s.align',\n",
              " 'data/alignments/s1/bgwb6p.align',\n",
              " 'data/alignments/s1/bgwb7a.align',\n",
              " 'data/alignments/s1/bgwh8n.align',\n",
              " 'data/alignments/s1/bgwh9s.align',\n",
              " 'data/alignments/s1/bgwi1a.align',\n",
              " 'data/alignments/s1/bgwizp.align',\n",
              " 'data/alignments/s1/bgwo2n.align',\n",
              " 'data/alignments/s1/bgwo3s.align',\n",
              " 'data/alignments/s1/bgwo4p.align',\n",
              " 'data/alignments/s1/bgwo5a.align',\n",
              " 'data/alignments/s1/bgwu6n.align',\n",
              " 'data/alignments/s1/bgwu7s.align',\n",
              " 'data/alignments/s1/bgwu8p.align',\n",
              " 'data/alignments/s1/bgwu9a.align',\n",
              " 'data/alignments/s1/braf8n.align',\n",
              " 'data/alignments/s1/braf9s.align',\n",
              " 'data/alignments/s1/brag1a.align',\n",
              " 'data/alignments/s1/bragzp.align',\n",
              " 'data/alignments/s1/bram2n.align',\n",
              " 'data/alignments/s1/bram3s.align',\n",
              " 'data/alignments/s1/bram4p.align',\n",
              " 'data/alignments/s1/bram5a.align',\n",
              " 'data/alignments/s1/bras6n.align',\n",
              " 'data/alignments/s1/bras7s.align',\n",
              " 'data/alignments/s1/bras8p.align',\n",
              " 'data/alignments/s1/bras9a.align',\n",
              " 'data/alignments/s1/brba1a.align',\n",
              " 'data/alignments/s1/brbazp.align',\n",
              " 'data/alignments/s1/brbg2n.align',\n",
              " 'data/alignments/s1/brbg3s.align',\n",
              " 'data/alignments/s1/brbg4p.align',\n",
              " 'data/alignments/s1/brbg5a.align',\n",
              " 'data/alignments/s1/brbm6n.align',\n",
              " 'data/alignments/s1/brbm7s.align',\n",
              " 'data/alignments/s1/brbm8p.align',\n",
              " 'data/alignments/s1/brbm9a.align',\n",
              " 'data/alignments/s1/brbt1s.align',\n",
              " 'data/alignments/s1/brbt2p.align',\n",
              " 'data/alignments/s1/brbt3a.align',\n",
              " 'data/alignments/s1/brbtzn.align',\n",
              " 'data/alignments/s1/brif4n.align',\n",
              " 'data/alignments/s1/brif5s.align',\n",
              " 'data/alignments/s1/brif6p.align',\n",
              " 'data/alignments/s1/brif7a.align',\n",
              " 'data/alignments/s1/bril8n.align',\n",
              " 'data/alignments/s1/bril9s.align',\n",
              " 'data/alignments/s1/brim1a.align',\n",
              " 'data/alignments/s1/brimzp.align',\n",
              " 'data/alignments/s1/bris2n.align',\n",
              " 'data/alignments/s1/bris3s.align',\n",
              " 'data/alignments/s1/bris4p.align',\n",
              " 'data/alignments/s1/bris5a.align',\n",
              " 'data/alignments/s1/briz6n.align',\n",
              " 'data/alignments/s1/briz7s.align',\n",
              " 'data/alignments/s1/briz8p.align',\n",
              " 'data/alignments/s1/briz9a.align',\n",
              " 'data/alignments/s1/brwa2n.align',\n",
              " 'data/alignments/s1/brwa3s.align',\n",
              " 'data/alignments/s1/brwa4p.align',\n",
              " 'data/alignments/s1/brwa5a.align',\n",
              " 'data/alignments/s1/brwg6n.align',\n",
              " 'data/alignments/s1/brwg7s.align',\n",
              " 'data/alignments/s1/brwg8p.align',\n",
              " 'data/alignments/s1/brwg9a.align',\n",
              " 'data/alignments/s1/brwn1s.align',\n",
              " 'data/alignments/s1/brwn2p.align',\n",
              " 'data/alignments/s1/brwn3a.align',\n",
              " 'data/alignments/s1/brwnzn.align',\n",
              " 'data/alignments/s1/brwt4n.align',\n",
              " 'data/alignments/s1/brwt5s.align',\n",
              " 'data/alignments/s1/brwt6p.align',\n",
              " 'data/alignments/s1/brwt7a.align',\n",
              " 'data/alignments/s1/bwaa1s.align',\n",
              " 'data/alignments/s1/bwaa2p.align',\n",
              " 'data/alignments/s1/bwaa3a.align',\n",
              " 'data/alignments/s1/bwaazn.align',\n",
              " 'data/alignments/s1/bwag4n.align',\n",
              " 'data/alignments/s1/bwag5s.align',\n",
              " 'data/alignments/s1/bwag6p.align',\n",
              " 'data/alignments/s1/bwag7a.align',\n",
              " 'data/alignments/s1/bwam8n.align',\n",
              " 'data/alignments/s1/bwam9s.align',\n",
              " 'data/alignments/s1/bwan1a.align',\n",
              " 'data/alignments/s1/bwanzp.align',\n",
              " 'data/alignments/s1/bwat2n.align',\n",
              " 'data/alignments/s1/bwat3s.align',\n",
              " 'data/alignments/s1/bwat4p.align',\n",
              " 'data/alignments/s1/bwat5a.align',\n",
              " 'data/alignments/s1/bwba4n.align',\n",
              " 'data/alignments/s1/bwba5s.align',\n",
              " 'data/alignments/s1/bwba6p.align',\n",
              " 'data/alignments/s1/bwba7a.align',\n",
              " 'data/alignments/s1/bwbg8n.align',\n",
              " 'data/alignments/s1/bwbg9s.align',\n",
              " 'data/alignments/s1/bwbh1a.align',\n",
              " 'data/alignments/s1/bwbhzp.align',\n",
              " 'data/alignments/s1/bwbn2n.align',\n",
              " 'data/alignments/s1/bwbn3s.align',\n",
              " 'data/alignments/s1/bwbn4p.align',\n",
              " 'data/alignments/s1/bwbn5a.align',\n",
              " 'data/alignments/s1/bwbt6n.align',\n",
              " 'data/alignments/s1/bwbt7s.align',\n",
              " 'data/alignments/s1/bwbt8p.align',\n",
              " 'data/alignments/s1/bwbt9a.align',\n",
              " 'data/alignments/s1/bwig1s.align',\n",
              " 'data/alignments/s1/bwig2p.align',\n",
              " 'data/alignments/s1/bwig3a.align',\n",
              " 'data/alignments/s1/bwigzn.align',\n",
              " 'data/alignments/s1/bwim4n.align',\n",
              " 'data/alignments/s1/bwim5s.align',\n",
              " 'data/alignments/s1/bwim6p.align',\n",
              " 'data/alignments/s1/bwim7a.align',\n",
              " 'data/alignments/s1/bwis8n.align',\n",
              " 'data/alignments/s1/bwis9s.align',\n",
              " 'data/alignments/s1/bwit1a.align',\n",
              " 'data/alignments/s1/bwitzp.align',\n",
              " 'data/alignments/s1/bwwa8n.align',\n",
              " 'data/alignments/s1/bwwa9s.align',\n",
              " 'data/alignments/s1/bwwb1a.align',\n",
              " 'data/alignments/s1/bwwbzp.align',\n",
              " 'data/alignments/s1/bwwh2n.align',\n",
              " 'data/alignments/s1/bwwh3s.align',\n",
              " 'data/alignments/s1/bwwh4p.align',\n",
              " 'data/alignments/s1/bwwh5a.align',\n",
              " 'data/alignments/s1/bwwn6n.align',\n",
              " 'data/alignments/s1/bwwn7s.align',\n",
              " 'data/alignments/s1/bwwn8p.align',\n",
              " 'data/alignments/s1/bwwn9a.align',\n",
              " 'data/alignments/s1/bwwu1s.align',\n",
              " 'data/alignments/s1/bwwu2p.align',\n",
              " 'data/alignments/s1/bwwu3a.align',\n",
              " 'data/alignments/s1/bwwuzn.align',\n",
              " 'data/alignments/s1/lbad6n.align',\n",
              " 'data/alignments/s1/lbad7s.align',\n",
              " 'data/alignments/s1/lbad8p.align',\n",
              " 'data/alignments/s1/lbad9a.align',\n",
              " 'data/alignments/s1/lbak1s.align',\n",
              " 'data/alignments/s1/lbak2p.align',\n",
              " 'data/alignments/s1/lbak3a.align',\n",
              " 'data/alignments/s1/lbakzn.align',\n",
              " 'data/alignments/s1/lbaq4n.align',\n",
              " 'data/alignments/s1/lbaq5s.align',\n",
              " 'data/alignments/s1/lbaq6p.align',\n",
              " 'data/alignments/s1/lbaq7a.align',\n",
              " 'data/alignments/s1/lbax8n.align',\n",
              " 'data/alignments/s1/lbax9s.align',\n",
              " 'data/alignments/s1/lbay1a.align',\n",
              " 'data/alignments/s1/lbayzp.align',\n",
              " 'data/alignments/s1/lbbe1s.align',\n",
              " 'data/alignments/s1/lbbe2p.align',\n",
              " 'data/alignments/s1/lbbe3a.align',\n",
              " 'data/alignments/s1/lbbezn.align',\n",
              " 'data/alignments/s1/lbbk4n.align',\n",
              " 'data/alignments/s1/lbbk5s.align',\n",
              " 'data/alignments/s1/lbbk6p.align',\n",
              " 'data/alignments/s1/lbbk7a.align',\n",
              " 'data/alignments/s1/lbbq8n.align',\n",
              " 'data/alignments/s1/lbbq9s.align',\n",
              " 'data/alignments/s1/lbbr1a.align',\n",
              " 'data/alignments/s1/lbbrzp.align',\n",
              " 'data/alignments/s1/lbby2n.align',\n",
              " 'data/alignments/s1/lbby3s.align',\n",
              " 'data/alignments/s1/lbby4p.align',\n",
              " 'data/alignments/s1/lbby5a.align',\n",
              " 'data/alignments/s1/lbid2n.align',\n",
              " 'data/alignments/s1/lbid3s.align',\n",
              " 'data/alignments/s1/lbid4p.align',\n",
              " 'data/alignments/s1/lbid5a.align',\n",
              " 'data/alignments/s1/lbij6n.align',\n",
              " 'data/alignments/s1/lbij7s.align',\n",
              " 'data/alignments/s1/lbij8p.align',\n",
              " 'data/alignments/s1/lbij9a.align',\n",
              " 'data/alignments/s1/lbiq1s.align',\n",
              " 'data/alignments/s1/lbiq2p.align',\n",
              " 'data/alignments/s1/lbiq3a.align',\n",
              " 'data/alignments/s1/lbiqzn.align',\n",
              " 'data/alignments/s1/lbix4n.align',\n",
              " 'data/alignments/s1/lbix5s.align',\n",
              " 'data/alignments/s1/lbix6p.align',\n",
              " 'data/alignments/s1/lbix7a.align',\n",
              " 'data/alignments/s1/lbwe4n.align',\n",
              " 'data/alignments/s1/lbwe5s.align',\n",
              " 'data/alignments/s1/lbwe6p.align',\n",
              " 'data/alignments/s1/lbwe7a.align',\n",
              " 'data/alignments/s1/lbwk8n.align',\n",
              " 'data/alignments/s1/lbwk9s.align',\n",
              " 'data/alignments/s1/lbwl1a.align',\n",
              " 'data/alignments/s1/lbwlzp.align',\n",
              " 'data/alignments/s1/lbwr2n.align',\n",
              " 'data/alignments/s1/lbwr3s.align',\n",
              " 'data/alignments/s1/lbwr4p.align',\n",
              " 'data/alignments/s1/lbwr5a.align',\n",
              " 'data/alignments/s1/lbwy6n.align',\n",
              " 'data/alignments/s1/lbwy7s.align',\n",
              " 'data/alignments/s1/lbwy8p.align',\n",
              " 'data/alignments/s1/lbwy9a.align',\n",
              " 'data/alignments/s1/lgaf4n.align',\n",
              " 'data/alignments/s1/lgaf5s.align',\n",
              " 'data/alignments/s1/lgaf6p.align',\n",
              " 'data/alignments/s1/lgaf7a.align',\n",
              " 'data/alignments/s1/lgal8n.align',\n",
              " 'data/alignments/s1/lgal9s.align',\n",
              " 'data/alignments/s1/lgam1a.align',\n",
              " 'data/alignments/s1/lgamzp.align',\n",
              " 'data/alignments/s1/lgas2n.align',\n",
              " 'data/alignments/s1/lgas3s.align',\n",
              " 'data/alignments/s1/lgas4p.align',\n",
              " 'data/alignments/s1/lgas5a.align',\n",
              " 'data/alignments/s1/lgaz6n.align',\n",
              " 'data/alignments/s1/lgaz7s.align',\n",
              " 'data/alignments/s1/lgaz8p.align',\n",
              " 'data/alignments/s1/lgaz9a.align',\n",
              " 'data/alignments/s1/lgbf8n.align',\n",
              " 'data/alignments/s1/lgbf9s.align',\n",
              " 'data/alignments/s1/lgbg1a.align',\n",
              " 'data/alignments/s1/lgbgzp.align',\n",
              " 'data/alignments/s1/lgbm2n.align',\n",
              " 'data/alignments/s1/lgbm3s.align',\n",
              " 'data/alignments/s1/lgbm4p.align',\n",
              " 'data/alignments/s1/lgbm5a.align',\n",
              " 'data/alignments/s1/lgbs6n.align',\n",
              " 'data/alignments/s1/lgbs7s.align',\n",
              " 'data/alignments/s1/lgbs8p.align',\n",
              " 'data/alignments/s1/lgbs9a.align',\n",
              " 'data/alignments/s1/lgif1s.align',\n",
              " 'data/alignments/s1/lgif2p.align',\n",
              " 'data/alignments/s1/lgif3a.align',\n",
              " 'data/alignments/s1/lgifzn.align',\n",
              " 'data/alignments/s1/lgil4n.align',\n",
              " 'data/alignments/s1/lgil5s.align',\n",
              " 'data/alignments/s1/lgil6p.align',\n",
              " 'data/alignments/s1/lgil7a.align',\n",
              " 'data/alignments/s1/lgir8n.align',\n",
              " 'data/alignments/s1/lgir9s.align',\n",
              " 'data/alignments/s1/lgis1a.align',\n",
              " 'data/alignments/s1/lgiszp.align',\n",
              " 'data/alignments/s1/lgiz2n.align',\n",
              " 'data/alignments/s1/lgiz3s.align',\n",
              " 'data/alignments/s1/lgiz4p.align',\n",
              " 'data/alignments/s1/lgiz5a.align',\n",
              " 'data/alignments/s1/lgwa1a.align',\n",
              " 'data/alignments/s1/lgwazp.align',\n",
              " 'data/alignments/s1/lgwg2n.align',\n",
              " 'data/alignments/s1/lgwg3s.align',\n",
              " 'data/alignments/s1/lgwg4p.align',\n",
              " 'data/alignments/s1/lgwg5a.align',\n",
              " 'data/alignments/s1/lgwm6n.align',\n",
              " 'data/alignments/s1/lgwm7s.align',\n",
              " 'data/alignments/s1/lgwm8p.align',\n",
              " 'data/alignments/s1/lgwm9a.align',\n",
              " 'data/alignments/s1/lgwt1s.align',\n",
              " 'data/alignments/s1/lgwt2p.align',\n",
              " 'data/alignments/s1/lgwt3a.align',\n",
              " 'data/alignments/s1/lgwtzn.align',\n",
              " 'data/alignments/s1/lrae2n.align',\n",
              " 'data/alignments/s1/lrae3s.align',\n",
              " 'data/alignments/s1/lrae4p.align',\n",
              " 'data/alignments/s1/lrae5a.align',\n",
              " 'data/alignments/s1/lrak6n.align',\n",
              " 'data/alignments/s1/lrak7s.align',\n",
              " 'data/alignments/s1/lrak8p.align',\n",
              " 'data/alignments/s1/lrak9a.align',\n",
              " 'data/alignments/s1/lrar1s.align',\n",
              " 'data/alignments/s1/lrar2p.align',\n",
              " 'data/alignments/s1/lrar3a.align',\n",
              " 'data/alignments/s1/lrarzn.align',\n",
              " 'data/alignments/s1/lray4n.align',\n",
              " 'data/alignments/s1/lray5s.align',\n",
              " 'data/alignments/s1/lray6p.align',\n",
              " 'data/alignments/s1/lray7a.align',\n",
              " 'data/alignments/s1/lrbe6n.align',\n",
              " 'data/alignments/s1/lrbe7s.align',\n",
              " 'data/alignments/s1/lrbe8p.align',\n",
              " 'data/alignments/s1/lrbe9a.align',\n",
              " 'data/alignments/s1/lrbl1s.align',\n",
              " 'data/alignments/s1/lrbl2p.align',\n",
              " 'data/alignments/s1/lrbl3a.align',\n",
              " 'data/alignments/s1/lrblzn.align',\n",
              " 'data/alignments/s1/lrbr4n.align',\n",
              " 'data/alignments/s1/lrbr5s.align',\n",
              " 'data/alignments/s1/lrbr6p.align',\n",
              " 'data/alignments/s1/lrbr7a.align',\n",
              " 'data/alignments/s1/lrby8n.align',\n",
              " 'data/alignments/s1/lrby9s.align',\n",
              " 'data/alignments/s1/lrbz1a.align',\n",
              " 'data/alignments/s1/lrbzzp.align',\n",
              " 'data/alignments/s1/lrid8n.align',\n",
              " 'data/alignments/s1/lrid9s.align',\n",
              " 'data/alignments/s1/lrie1a.align',\n",
              " 'data/alignments/s1/lriezp.align',\n",
              " 'data/alignments/s1/lrik2n.align',\n",
              " 'data/alignments/s1/lrik3s.align',\n",
              " 'data/alignments/s1/lrik4p.align',\n",
              " 'data/alignments/s1/lrik5a.align',\n",
              " 'data/alignments/s1/lriq6n.align',\n",
              " 'data/alignments/s1/lriq7s.align',\n",
              " 'data/alignments/s1/lriq8p.align',\n",
              " 'data/alignments/s1/lriq9a.align',\n",
              " 'data/alignments/s1/lriy1s.align',\n",
              " 'data/alignments/s1/lriy2p.align',\n",
              " 'data/alignments/s1/lriy3a.align',\n",
              " 'data/alignments/s1/lriyzn.align',\n",
              " 'data/alignments/s1/lrwf1s.align',\n",
              " 'data/alignments/s1/lrwf2p.align',\n",
              " 'data/alignments/s1/lrwf3a.align',\n",
              " 'data/alignments/s1/lrwfzn.align',\n",
              " 'data/alignments/s1/lrwl4n.align',\n",
              " 'data/alignments/s1/lrwl5s.align',\n",
              " 'data/alignments/s1/lrwl6p.align',\n",
              " 'data/alignments/s1/lrwl7a.align',\n",
              " 'data/alignments/s1/lrwr8n.align',\n",
              " 'data/alignments/s1/lrwr9s.align',\n",
              " 'data/alignments/s1/lrws1a.align',\n",
              " 'data/alignments/s1/lrwszp.align',\n",
              " 'data/alignments/s1/lrwz2n.align',\n",
              " 'data/alignments/s1/lrwz3s.align',\n",
              " 'data/alignments/s1/lrwz4p.align',\n",
              " 'data/alignments/s1/lrwz5a.align',\n",
              " 'data/alignments/s1/lwae8n.align',\n",
              " 'data/alignments/s1/lwae9s.align',\n",
              " 'data/alignments/s1/lwaf1a.align',\n",
              " 'data/alignments/s1/lwafzp.align',\n",
              " 'data/alignments/s1/lwal2n.align',\n",
              " 'data/alignments/s1/lwal3s.align',\n",
              " 'data/alignments/s1/lwal4p.align',\n",
              " 'data/alignments/s1/lwal5a.align',\n",
              " 'data/alignments/s1/lwar6n.align',\n",
              " 'data/alignments/s1/lwar7s.align',\n",
              " 'data/alignments/s1/lwar8p.align',\n",
              " 'data/alignments/s1/lwar9a.align',\n",
              " 'data/alignments/s1/lwaz1s.align',\n",
              " 'data/alignments/s1/lwaz2p.align',\n",
              " 'data/alignments/s1/lwaz3a.align',\n",
              " 'data/alignments/s1/lwazzn.align',\n",
              " 'data/alignments/s1/lwbf2n.align',\n",
              " 'data/alignments/s1/lwbf3s.align',\n",
              " 'data/alignments/s1/lwbf4p.align',\n",
              " 'data/alignments/s1/lwbf5a.align',\n",
              " 'data/alignments/s1/lwbl6n.align',\n",
              " 'data/alignments/s1/lwbl7s.align',\n",
              " 'data/alignments/s1/lwbl8p.align',\n",
              " 'data/alignments/s1/lwbl9a.align',\n",
              " 'data/alignments/s1/lwbs1s.align',\n",
              " 'data/alignments/s1/lwbs2p.align',\n",
              " 'data/alignments/s1/lwbs3a.align',\n",
              " 'data/alignments/s1/lwbszn.align',\n",
              " 'data/alignments/s1/lwbz4n.align',\n",
              " 'data/alignments/s1/lwbz5s.align',\n",
              " 'data/alignments/s1/lwbz6p.align',\n",
              " 'data/alignments/s1/lwbz7a.align',\n",
              " 'data/alignments/s1/lwie4n.align',\n",
              " 'data/alignments/s1/lwie5s.align',\n",
              " 'data/alignments/s1/lwie6p.align',\n",
              " 'data/alignments/s1/lwie7a.align',\n",
              " 'data/alignments/s1/lwik8n.align',\n",
              " 'data/alignments/s1/lwik9s.align',\n",
              " 'data/alignments/s1/lwil1a.align',\n",
              " 'data/alignments/s1/lwilzp.align',\n",
              " 'data/alignments/s1/lwir2n.align',\n",
              " 'data/alignments/s1/lwir3s.align',\n",
              " 'data/alignments/s1/lwir4p.align',\n",
              " 'data/alignments/s1/lwir5a.align',\n",
              " 'data/alignments/s1/lwiy6n.align',\n",
              " 'data/alignments/s1/lwiy7s.align',\n",
              " 'data/alignments/s1/lwiy8p.align',\n",
              " 'data/alignments/s1/lwiy9a.align',\n",
              " 'data/alignments/s1/lwwf6n.align',\n",
              " 'data/alignments/s1/lwwf7s.align',\n",
              " 'data/alignments/s1/lwwf8p.align',\n",
              " 'data/alignments/s1/lwwf9a.align',\n",
              " 'data/alignments/s1/lwwm1s.align',\n",
              " 'data/alignments/s1/lwwm2p.align',\n",
              " 'data/alignments/s1/lwwm3a.align',\n",
              " 'data/alignments/s1/lwwmzn.align',\n",
              " 'data/alignments/s1/lwws4n.align',\n",
              " 'data/alignments/s1/lwws5s.align',\n",
              " 'data/alignments/s1/lwws6p.align',\n",
              " 'data/alignments/s1/lwws7a.align',\n",
              " 'data/alignments/s1/lwwz8n.align',\n",
              " 'data/alignments/s1/lwwz9s.align',\n",
              " 'data/alignments/s1/pbac1s.align',\n",
              " 'data/alignments/s1/pbac2p.align',\n",
              " 'data/alignments/s1/pbac3a.align',\n",
              " 'data/alignments/s1/pbaczn.align',\n",
              " 'data/alignments/s1/pbai4n.align',\n",
              " 'data/alignments/s1/pbai5s.align',\n",
              " 'data/alignments/s1/pbai6p.align',\n",
              " 'data/alignments/s1/pbai7a.align',\n",
              " 'data/alignments/s1/pbao8n.align',\n",
              " 'data/alignments/s1/pbao9s.align',\n",
              " 'data/alignments/s1/pbap1a.align',\n",
              " 'data/alignments/s1/pbapzp.align',\n",
              " 'data/alignments/s1/pbav2n.align',\n",
              " 'data/alignments/s1/pbav3s.align',\n",
              " 'data/alignments/s1/pbav4p.align',\n",
              " 'data/alignments/s1/pbav5a.align',\n",
              " 'data/alignments/s1/pbbc4n.align',\n",
              " 'data/alignments/s1/pbbc5s.align',\n",
              " 'data/alignments/s1/pbbc6p.align',\n",
              " 'data/alignments/s1/pbbc7a.align',\n",
              " 'data/alignments/s1/pbbi8n.align',\n",
              " 'data/alignments/s1/pbbi9s.align',\n",
              " 'data/alignments/s1/pbbj1a.align',\n",
              " 'data/alignments/s1/pbbjzp.align',\n",
              " 'data/alignments/s1/pbbp2n.align',\n",
              " 'data/alignments/s1/pbbp3s.align',\n",
              " 'data/alignments/s1/pbbp4p.align',\n",
              " 'data/alignments/s1/pbbp5a.align',\n",
              " 'data/alignments/s1/pbbv6n.align',\n",
              " 'data/alignments/s1/pbbv7s.align',\n",
              " 'data/alignments/s1/pbbv8p.align',\n",
              " 'data/alignments/s1/pbbv9a.align',\n",
              " 'data/alignments/s1/pbib6n.align',\n",
              " 'data/alignments/s1/pbib7s.align',\n",
              " 'data/alignments/s1/pbib8p.align',\n",
              " 'data/alignments/s1/pbib9a.align',\n",
              " 'data/alignments/s1/pbii1s.align',\n",
              " 'data/alignments/s1/pbii2p.align',\n",
              " 'data/alignments/s1/pbii3a.align',\n",
              " 'data/alignments/s1/pbiizn.align',\n",
              " 'data/alignments/s1/pbio4n.align',\n",
              " 'data/alignments/s1/pbio5s.align',\n",
              " 'data/alignments/s1/pbio6p.align',\n",
              " 'data/alignments/s1/pbio7a.align',\n",
              " 'data/alignments/s1/pbiu8n.align',\n",
              " 'data/alignments/s1/pbiu9s.align',\n",
              " 'data/alignments/s1/pbiv1a.align',\n",
              " 'data/alignments/s1/pbivzp.align',\n",
              " 'data/alignments/s1/pbwc8n.align',\n",
              " 'data/alignments/s1/pbwc9s.align',\n",
              " 'data/alignments/s1/pbwd1a.align',\n",
              " 'data/alignments/s1/pbwdzp.align',\n",
              " 'data/alignments/s1/pbwj2n.align',\n",
              " 'data/alignments/s1/pbwj3s.align',\n",
              " 'data/alignments/s1/pbwj4p.align',\n",
              " 'data/alignments/s1/pbwj5a.align',\n",
              " 'data/alignments/s1/pbwp6n.align',\n",
              " 'data/alignments/s1/pbwp7s.align',\n",
              " 'data/alignments/s1/pbwp8p.align',\n",
              " 'data/alignments/s1/pbwp9a.align',\n",
              " 'data/alignments/s1/pbwx1s.align',\n",
              " 'data/alignments/s1/pbwx2p.align',\n",
              " 'data/alignments/s1/pbwx3a.align',\n",
              " 'data/alignments/s1/pbwxzn.align',\n",
              " 'data/alignments/s1/pgad8n.align',\n",
              " 'data/alignments/s1/pgad9s.align',\n",
              " 'data/alignments/s1/pgae1a.align',\n",
              " 'data/alignments/s1/pgaezp.align',\n",
              " 'data/alignments/s1/pgak2n.align',\n",
              " 'data/alignments/s1/pgak3s.align',\n",
              " 'data/alignments/s1/pgak4p.align',\n",
              " 'data/alignments/s1/pgak5a.align',\n",
              " 'data/alignments/s1/pgaq6n.align',\n",
              " 'data/alignments/s1/pgaq7s.align',\n",
              " 'data/alignments/s1/pgaq8p.align',\n",
              " 'data/alignments/s1/pgaq9a.align',\n",
              " 'data/alignments/s1/pgay1s.align',\n",
              " 'data/alignments/s1/pgay2p.align',\n",
              " 'data/alignments/s1/pgay3a.align',\n",
              " 'data/alignments/s1/pgayzn.align',\n",
              " 'data/alignments/s1/pgbe2n.align',\n",
              " 'data/alignments/s1/pgbe3s.align',\n",
              " 'data/alignments/s1/pgbe4p.align',\n",
              " 'data/alignments/s1/pgbe5a.align',\n",
              " 'data/alignments/s1/pgbk6n.align',\n",
              " 'data/alignments/s1/pgbk7s.align',\n",
              " 'data/alignments/s1/pgbk8p.align',\n",
              " 'data/alignments/s1/pgbk9a.align',\n",
              " 'data/alignments/s1/pgbr1s.align',\n",
              " 'data/alignments/s1/pgbr2p.align',\n",
              " 'data/alignments/s1/pgbr3a.align',\n",
              " 'data/alignments/s1/pgbrzn.align',\n",
              " 'data/alignments/s1/pgby4n.align',\n",
              " 'data/alignments/s1/pgby5s.align',\n",
              " 'data/alignments/s1/pgby6p.align',\n",
              " 'data/alignments/s1/pgby7a.align',\n",
              " 'data/alignments/s1/pgid4n.align',\n",
              " 'data/alignments/s1/pgid5s.align',\n",
              " 'data/alignments/s1/pgid6p.align',\n",
              " 'data/alignments/s1/pgid7a.align',\n",
              " 'data/alignments/s1/pgij8n.align',\n",
              " 'data/alignments/s1/pgij9s.align',\n",
              " 'data/alignments/s1/pgik1a.align',\n",
              " 'data/alignments/s1/pgikzp.align',\n",
              " 'data/alignments/s1/pgiq2n.align',\n",
              " 'data/alignments/s1/pgiq3s.align',\n",
              " 'data/alignments/s1/pgiq4p.align',\n",
              " 'data/alignments/s1/pgiq5a.align',\n",
              " 'data/alignments/s1/pgix6n.align',\n",
              " 'data/alignments/s1/pgix7s.align',\n",
              " 'data/alignments/s1/pgix8p.align',\n",
              " 'data/alignments/s1/pgix9a.align',\n",
              " 'data/alignments/s1/pgwe6n.align',\n",
              " 'data/alignments/s1/pgwe7s.align',\n",
              " 'data/alignments/s1/pgwe8p.align',\n",
              " 'data/alignments/s1/pgwe9a.align',\n",
              " 'data/alignments/s1/pgwl1s.align',\n",
              " 'data/alignments/s1/pgwl2p.align',\n",
              " 'data/alignments/s1/pgwl3a.align',\n",
              " 'data/alignments/s1/pgwlzn.align',\n",
              " 'data/alignments/s1/pgwr4n.align',\n",
              " 'data/alignments/s1/pgwr5s.align',\n",
              " 'data/alignments/s1/pgwr6p.align',\n",
              " 'data/alignments/s1/pgwr7a.align',\n",
              " 'data/alignments/s1/pgwy8n.align',\n",
              " 'data/alignments/s1/pgwy9s.align',\n",
              " 'data/alignments/s1/pgwz1a.align',\n",
              " 'data/alignments/s1/pgwzzp.align',\n",
              " 'data/alignments/s1/prac6n.align',\n",
              " 'data/alignments/s1/prac7s.align',\n",
              " 'data/alignments/s1/prac8p.align',\n",
              " 'data/alignments/s1/prac9a.align',\n",
              " 'data/alignments/s1/praj1s.align',\n",
              " 'data/alignments/s1/praj2p.align',\n",
              " 'data/alignments/s1/praj3a.align',\n",
              " 'data/alignments/s1/prajzn.align',\n",
              " 'data/alignments/s1/prap4n.align',\n",
              " 'data/alignments/s1/prap5s.align',\n",
              " 'data/alignments/s1/prap6p.align',\n",
              " 'data/alignments/s1/prap7a.align',\n",
              " 'data/alignments/s1/prav8n.align',\n",
              " 'data/alignments/s1/prav9s.align',\n",
              " 'data/alignments/s1/prax1a.align',\n",
              " 'data/alignments/s1/praxzp.align',\n",
              " 'data/alignments/s1/prbd1s.align',\n",
              " 'data/alignments/s1/prbd2p.align',\n",
              " 'data/alignments/s1/prbd3a.align',\n",
              " 'data/alignments/s1/prbdzn.align',\n",
              " 'data/alignments/s1/prbj4n.align',\n",
              " 'data/alignments/s1/prbj5s.align',\n",
              " 'data/alignments/s1/prbj6p.align',\n",
              " 'data/alignments/s1/prbj7a.align',\n",
              " 'data/alignments/s1/prbp8n.align',\n",
              " 'data/alignments/s1/prbp9s.align',\n",
              " 'data/alignments/s1/prbq1a.align',\n",
              " 'data/alignments/s1/prbqzp.align',\n",
              " 'data/alignments/s1/prbx2n.align',\n",
              " 'data/alignments/s1/prbx3s.align',\n",
              " 'data/alignments/s1/prbx4p.align',\n",
              " 'data/alignments/s1/prbx5a.align',\n",
              " 'data/alignments/s1/pric2n.align',\n",
              " 'data/alignments/s1/pric3s.align',\n",
              " 'data/alignments/s1/pric4p.align',\n",
              " 'data/alignments/s1/pric5a.align',\n",
              " 'data/alignments/s1/prii6n.align',\n",
              " 'data/alignments/s1/prii7s.align',\n",
              " 'data/alignments/s1/prii8p.align',\n",
              " 'data/alignments/s1/prii9a.align',\n",
              " 'data/alignments/s1/prip1s.align',\n",
              " 'data/alignments/s1/prip2p.align',\n",
              " 'data/alignments/s1/prip3a.align',\n",
              " 'data/alignments/s1/pripzn.align',\n",
              " 'data/alignments/s1/priv4n.align',\n",
              " 'data/alignments/s1/priv5s.align',\n",
              " 'data/alignments/s1/priv6p.align',\n",
              " 'data/alignments/s1/priv7a.align',\n",
              " 'data/alignments/s1/prwd4n.align',\n",
              " 'data/alignments/s1/prwd5s.align',\n",
              " 'data/alignments/s1/prwd6p.align',\n",
              " 'data/alignments/s1/prwd7a.align',\n",
              " 'data/alignments/s1/prwj8n.align',\n",
              " 'data/alignments/s1/prwj9s.align',\n",
              " 'data/alignments/s1/prwk1a.align',\n",
              " 'data/alignments/s1/prwkzp.align',\n",
              " 'data/alignments/s1/prwq2n.align',\n",
              " 'data/alignments/s1/prwq3s.align',\n",
              " 'data/alignments/s1/prwq4p.align',\n",
              " 'data/alignments/s1/prwq5a.align',\n",
              " 'data/alignments/s1/prwx6n.align',\n",
              " 'data/alignments/s1/prwx7s.align',\n",
              " 'data/alignments/s1/prwx8p.align',\n",
              " 'data/alignments/s1/prwx9a.align',\n",
              " 'data/alignments/s1/pwad2n.align',\n",
              " 'data/alignments/s1/pwad3s.align',\n",
              " 'data/alignments/s1/pwad4p.align',\n",
              " 'data/alignments/s1/pwad5a.align',\n",
              " 'data/alignments/s1/pwaj6n.align',\n",
              " 'data/alignments/s1/pwaj7s.align',\n",
              " 'data/alignments/s1/pwaj8p.align',\n",
              " 'data/alignments/s1/pwaj9a.align',\n",
              " 'data/alignments/s1/pwaq1s.align',\n",
              " 'data/alignments/s1/pwaq2p.align',\n",
              " 'data/alignments/s1/pwaq3a.align',\n",
              " 'data/alignments/s1/pwaqzn.align',\n",
              " 'data/alignments/s1/pwax4n.align',\n",
              " 'data/alignments/s1/pwax5s.align',\n",
              " 'data/alignments/s1/pwax6p.align',\n",
              " 'data/alignments/s1/pwax7a.align',\n",
              " 'data/alignments/s1/pwbd6n.align',\n",
              " 'data/alignments/s1/pwbd7s.align',\n",
              " 'data/alignments/s1/pwbd8p.align',\n",
              " 'data/alignments/s1/pwbd9a.align',\n",
              " 'data/alignments/s1/pwbk1s.align',\n",
              " 'data/alignments/s1/pwbk2p.align',\n",
              " 'data/alignments/s1/pwbk3a.align',\n",
              " 'data/alignments/s1/pwbkzn.align',\n",
              " 'data/alignments/s1/pwbq4n.align',\n",
              " 'data/alignments/s1/pwbq5s.align',\n",
              " 'data/alignments/s1/pwbq6p.align',\n",
              " 'data/alignments/s1/pwbq7a.align',\n",
              " 'data/alignments/s1/pwbx8n.align',\n",
              " 'data/alignments/s1/pwbx9s.align',\n",
              " 'data/alignments/s1/pwby1a.align',\n",
              " 'data/alignments/s1/pwbyzp.align',\n",
              " 'data/alignments/s1/pwic8n.align',\n",
              " 'data/alignments/s1/pwic9s.align',\n",
              " 'data/alignments/s1/pwid1a.align',\n",
              " 'data/alignments/s1/pwidzp.align',\n",
              " 'data/alignments/s1/pwij2n.align',\n",
              " 'data/alignments/s1/pwij3s.align',\n",
              " 'data/alignments/s1/pwij4p.align',\n",
              " 'data/alignments/s1/pwij5a.align',\n",
              " 'data/alignments/s1/pwip6n.align',\n",
              " 'data/alignments/s1/pwip7s.align',\n",
              " 'data/alignments/s1/pwip8p.align',\n",
              " 'data/alignments/s1/pwip9a.align',\n",
              " 'data/alignments/s1/pwix1s.align',\n",
              " 'data/alignments/s1/pwix2p.align',\n",
              " 'data/alignments/s1/pwix3a.align',\n",
              " 'data/alignments/s1/pwixzn.align',\n",
              " 'data/alignments/s1/pwwe1s.align',\n",
              " 'data/alignments/s1/pwwe2p.align',\n",
              " 'data/alignments/s1/pwwe3a.align',\n",
              " 'data/alignments/s1/pwwezn.align',\n",
              " 'data/alignments/s1/pwwk4n.align',\n",
              " 'data/alignments/s1/pwwk5s.align',\n",
              " 'data/alignments/s1/pwwk6p.align',\n",
              " 'data/alignments/s1/pwwk7a.align',\n",
              " 'data/alignments/s1/pwwq8n.align',\n",
              " 'data/alignments/s1/pwwq9s.align',\n",
              " 'data/alignments/s1/pwwr1a.align',\n",
              " 'data/alignments/s1/pwwrzp.align',\n",
              " 'data/alignments/s1/pwwy2n.align',\n",
              " 'data/alignments/s1/pwwy3s.align',\n",
              " 'data/alignments/s1/pwwy4p.align',\n",
              " 'data/alignments/s1/pwwy5a.align',\n",
              " 'data/alignments/s1/sbaa4n.align',\n",
              " 'data/alignments/s1/sbaa5s.align',\n",
              " 'data/alignments/s1/sbaa6p.align',\n",
              " 'data/alignments/s1/sbaa7a.align',\n",
              " 'data/alignments/s1/sbag8n.align',\n",
              " 'data/alignments/s1/sbag9s.align',\n",
              " 'data/alignments/s1/sbah1a.align',\n",
              " 'data/alignments/s1/sbahzp.align',\n",
              " 'data/alignments/s1/sban2n.align',\n",
              " 'data/alignments/s1/sban3s.align',\n",
              " 'data/alignments/s1/sban4p.align',\n",
              " 'data/alignments/s1/sban5a.align',\n",
              " 'data/alignments/s1/sbat6n.align',\n",
              " 'data/alignments/s1/sbat7s.align',\n",
              " 'data/alignments/s1/sbat8p.align',\n",
              " 'data/alignments/s1/sbat9a.align',\n",
              " 'data/alignments/s1/sbba8n.align',\n",
              " 'data/alignments/s1/sbba9s.align',\n",
              " 'data/alignments/s1/sbbb1a.align',\n",
              " 'data/alignments/s1/sbbbzp.align',\n",
              " 'data/alignments/s1/sbbh2n.align',\n",
              " 'data/alignments/s1/sbbh3s.align',\n",
              " 'data/alignments/s1/sbbh4p.align',\n",
              " 'data/alignments/s1/sbbh5a.align',\n",
              " 'data/alignments/s1/sbbn6n.align',\n",
              " 'data/alignments/s1/sbbn7s.align',\n",
              " 'data/alignments/s1/sbbn8p.align',\n",
              " 'data/alignments/s1/sbbn9a.align',\n",
              " 'data/alignments/s1/sbbu1s.align',\n",
              " 'data/alignments/s1/sbbu2p.align',\n",
              " 'data/alignments/s1/sbbu3a.align',\n",
              " 'data/alignments/s1/sbbuzn.align',\n",
              " 'data/alignments/s1/sbia1s.align',\n",
              " 'data/alignments/s1/sbia2p.align',\n",
              " 'data/alignments/s1/sbia3a.align',\n",
              " 'data/alignments/s1/sbiazn.align',\n",
              " 'data/alignments/s1/sbig4n.align',\n",
              " 'data/alignments/s1/sbig5s.align',\n",
              " 'data/alignments/s1/sbig6p.align',\n",
              " 'data/alignments/s1/sbig7a.align',\n",
              " 'data/alignments/s1/sbim8n.align',\n",
              " 'data/alignments/s1/sbim9s.align',\n",
              " 'data/alignments/s1/sbin1a.align',\n",
              " 'data/alignments/s1/sbinzp.align',\n",
              " 'data/alignments/s1/sbit2n.align',\n",
              " 'data/alignments/s1/sbit3s.align',\n",
              " 'data/alignments/s1/sbit4p.align',\n",
              " 'data/alignments/s1/sbit5a.align',\n",
              " 'data/alignments/s1/sbwb2n.align',\n",
              " 'data/alignments/s1/sbwb3s.align',\n",
              " 'data/alignments/s1/sbwb4p.align',\n",
              " 'data/alignments/s1/sbwb5a.align',\n",
              " 'data/alignments/s1/sbwh6n.align',\n",
              " 'data/alignments/s1/sbwh7s.align',\n",
              " 'data/alignments/s1/sbwh8p.align',\n",
              " 'data/alignments/s1/sbwh9a.align',\n",
              " 'data/alignments/s1/sbwo1s.align',\n",
              " 'data/alignments/s1/sbwo2p.align',\n",
              " 'data/alignments/s1/sbwo3a.align',\n",
              " 'data/alignments/s1/sbwozn.align',\n",
              " 'data/alignments/s1/sbwu4n.align',\n",
              " 'data/alignments/s1/sbwu5s.align',\n",
              " 'data/alignments/s1/sbwu6p.align',\n",
              " 'data/alignments/s1/sbwu7a.align',\n",
              " 'data/alignments/s1/sgac2n.align',\n",
              " 'data/alignments/s1/sgac3s.align',\n",
              " 'data/alignments/s1/sgac4p.align',\n",
              " 'data/alignments/s1/sgac5a.align',\n",
              " 'data/alignments/s1/sgai6n.align',\n",
              " 'data/alignments/s1/sgai7s.align',\n",
              " 'data/alignments/s1/sgai8p.align',\n",
              " 'data/alignments/s1/sgai9a.align',\n",
              " 'data/alignments/s1/sgap1s.align',\n",
              " 'data/alignments/s1/sgap2p.align',\n",
              " 'data/alignments/s1/sgap3a.align',\n",
              " 'data/alignments/s1/sgapzn.align',\n",
              " 'data/alignments/s1/sgav4n.align',\n",
              " 'data/alignments/s1/sgav5s.align',\n",
              " 'data/alignments/s1/sgav6p.align',\n",
              " 'data/alignments/s1/sgav7a.align',\n",
              " 'data/alignments/s1/sgbc6n.align',\n",
              " 'data/alignments/s1/sgbc7s.align',\n",
              " 'data/alignments/s1/sgbc8p.align',\n",
              " 'data/alignments/s1/sgbc9a.align',\n",
              " 'data/alignments/s1/sgbj1s.align',\n",
              " 'data/alignments/s1/sgbj2p.align',\n",
              " 'data/alignments/s1/sgbj3a.align',\n",
              " 'data/alignments/s1/sgbjzn.align',\n",
              " 'data/alignments/s1/sgbp4n.align',\n",
              " 'data/alignments/s1/sgbp5s.align',\n",
              " 'data/alignments/s1/sgbp6p.align',\n",
              " 'data/alignments/s1/sgbp7a.align',\n",
              " 'data/alignments/s1/sgbv8n.align',\n",
              " 'data/alignments/s1/sgbv9s.align',\n",
              " 'data/alignments/s1/sgbx1a.align',\n",
              " 'data/alignments/s1/sgbxzp.align',\n",
              " 'data/alignments/s1/sgib8n.align',\n",
              " 'data/alignments/s1/sgib9s.align',\n",
              " 'data/alignments/s1/sgic1a.align',\n",
              " 'data/alignments/s1/sgiczp.align',\n",
              " 'data/alignments/s1/sgii2n.align',\n",
              " 'data/alignments/s1/sgii3s.align',\n",
              " 'data/alignments/s1/sgii4p.align',\n",
              " 'data/alignments/s1/sgii5a.align',\n",
              " 'data/alignments/s1/sgio6n.align',\n",
              " 'data/alignments/s1/sgio7s.align',\n",
              " 'data/alignments/s1/sgio8p.align',\n",
              " 'data/alignments/s1/sgio9a.align',\n",
              " 'data/alignments/s1/sgiv1s.align',\n",
              " 'data/alignments/s1/sgiv2p.align',\n",
              " 'data/alignments/s1/sgiv3a.align',\n",
              " 'data/alignments/s1/sgivzn.align',\n",
              " 'data/alignments/s1/sgwd1s.align',\n",
              " 'data/alignments/s1/sgwd2p.align',\n",
              " 'data/alignments/s1/sgwd3a.align',\n",
              " 'data/alignments/s1/sgwdzn.align',\n",
              " 'data/alignments/s1/sgwj4n.align',\n",
              " 'data/alignments/s1/sgwj5s.align',\n",
              " 'data/alignments/s1/sgwj6p.align',\n",
              " 'data/alignments/s1/sgwj7a.align',\n",
              " 'data/alignments/s1/sgwp8n.align',\n",
              " 'data/alignments/s1/sgwp9s.align',\n",
              " 'data/alignments/s1/sgwq1a.align',\n",
              " 'data/alignments/s1/sgwqzp.align',\n",
              " 'data/alignments/s1/sgwx2n.align',\n",
              " 'data/alignments/s1/sgwx3s.align',\n",
              " 'data/alignments/s1/sgwx4p.align',\n",
              " 'data/alignments/s1/sgwx5a.align',\n",
              " 'data/alignments/s1/srab1s.align',\n",
              " 'data/alignments/s1/srab2p.align',\n",
              " 'data/alignments/s1/srab3a.align',\n",
              " 'data/alignments/s1/srabzn.align',\n",
              " 'data/alignments/s1/srah4n.align',\n",
              " 'data/alignments/s1/srah5s.align',\n",
              " 'data/alignments/s1/srah6p.align',\n",
              " 'data/alignments/s1/srah7a.align',\n",
              " 'data/alignments/s1/sran8n.align',\n",
              " 'data/alignments/s1/sran9s.align',\n",
              " 'data/alignments/s1/srao1a.align',\n",
              " 'data/alignments/s1/sraozp.align',\n",
              " 'data/alignments/s1/srau2n.align',\n",
              " 'data/alignments/s1/srau3s.align',\n",
              " 'data/alignments/s1/srau4p.align',\n",
              " 'data/alignments/s1/srau5a.align',\n",
              " 'data/alignments/s1/srbb4n.align',\n",
              " 'data/alignments/s1/srbb5s.align',\n",
              " 'data/alignments/s1/srbb6p.align',\n",
              " 'data/alignments/s1/srbb7a.align',\n",
              " 'data/alignments/s1/srbh8n.align',\n",
              " 'data/alignments/s1/srbh9s.align',\n",
              " 'data/alignments/s1/srbi1a.align',\n",
              " 'data/alignments/s1/srbizp.align',\n",
              " 'data/alignments/s1/srbo2n.align',\n",
              " 'data/alignments/s1/srbo3s.align',\n",
              " 'data/alignments/s1/srbo4p.align',\n",
              " 'data/alignments/s1/srbo5a.align',\n",
              " 'data/alignments/s1/srbu6n.align',\n",
              " 'data/alignments/s1/srbu7s.align',\n",
              " 'data/alignments/s1/srbu8p.align',\n",
              " 'data/alignments/s1/srbu9a.align',\n",
              " 'data/alignments/s1/sria6n.align',\n",
              " 'data/alignments/s1/sria7s.align',\n",
              " 'data/alignments/s1/sria8p.align',\n",
              " 'data/alignments/s1/sria9a.align',\n",
              " 'data/alignments/s1/srih1s.align',\n",
              " 'data/alignments/s1/srih2p.align',\n",
              " 'data/alignments/s1/srih3a.align',\n",
              " 'data/alignments/s1/srihzn.align',\n",
              " 'data/alignments/s1/srin4n.align',\n",
              " 'data/alignments/s1/srin5s.align',\n",
              " 'data/alignments/s1/srin6p.align',\n",
              " 'data/alignments/s1/srin7a.align',\n",
              " 'data/alignments/s1/srit8n.align',\n",
              " 'data/alignments/s1/srit9s.align',\n",
              " 'data/alignments/s1/sriu1a.align',\n",
              " 'data/alignments/s1/sriuzp.align',\n",
              " 'data/alignments/s1/srwb8n.align',\n",
              " 'data/alignments/s1/srwb9s.align',\n",
              " 'data/alignments/s1/srwc1a.align',\n",
              " 'data/alignments/s1/srwczp.align',\n",
              " 'data/alignments/s1/srwi2n.align',\n",
              " 'data/alignments/s1/srwi3s.align',\n",
              " 'data/alignments/s1/srwi4p.align',\n",
              " 'data/alignments/s1/srwi5a.align',\n",
              " 'data/alignments/s1/srwo6n.align',\n",
              " 'data/alignments/s1/srwo7s.align',\n",
              " 'data/alignments/s1/srwo8p.align',\n",
              " 'data/alignments/s1/srwo9a.align',\n",
              " 'data/alignments/s1/srwv1s.align',\n",
              " 'data/alignments/s1/srwv2p.align',\n",
              " 'data/alignments/s1/srwv3a.align',\n",
              " 'data/alignments/s1/srwvzn.align',\n",
              " 'data/alignments/s1/swab6n.align',\n",
              " 'data/alignments/s1/swab7s.align',\n",
              " 'data/alignments/s1/swab8p.align',\n",
              " 'data/alignments/s1/swab9a.align',\n",
              " 'data/alignments/s1/swai1s.align',\n",
              " 'data/alignments/s1/swai2p.align',\n",
              " 'data/alignments/s1/swai3a.align',\n",
              " 'data/alignments/s1/swaizn.align',\n",
              " 'data/alignments/s1/swao4n.align',\n",
              " 'data/alignments/s1/swao5s.align',\n",
              " 'data/alignments/s1/swao6p.align',\n",
              " 'data/alignments/s1/swao7a.align',\n",
              " 'data/alignments/s1/swau8n.align',\n",
              " 'data/alignments/s1/swau9s.align',\n",
              " 'data/alignments/s1/swav1a.align',\n",
              " 'data/alignments/s1/swavzp.align',\n",
              " 'data/alignments/s1/swbc1s.align',\n",
              " 'data/alignments/s1/swbc2p.align',\n",
              " 'data/alignments/s1/swbc3a.align',\n",
              " 'data/alignments/s1/swbczn.align',\n",
              " 'data/alignments/s1/swbi4n.align',\n",
              " 'data/alignments/s1/swbi5s.align',\n",
              " 'data/alignments/s1/swbi6p.align',\n",
              " 'data/alignments/s1/swbi7a.align',\n",
              " 'data/alignments/s1/swbo8n.align',\n",
              " 'data/alignments/s1/swbo9s.align',\n",
              " 'data/alignments/s1/swbp1a.align',\n",
              " 'data/alignments/s1/swbpzp.align',\n",
              " 'data/alignments/s1/swbv2n.align',\n",
              " 'data/alignments/s1/swbv3s.align',\n",
              " 'data/alignments/s1/swbv4p.align',\n",
              " 'data/alignments/s1/swbv5a.align',\n",
              " 'data/alignments/s1/swib2n.align',\n",
              " 'data/alignments/s1/swib3s.align',\n",
              " 'data/alignments/s1/swib4p.align',\n",
              " 'data/alignments/s1/swib5a.align',\n",
              " 'data/alignments/s1/swih6n.align',\n",
              " 'data/alignments/s1/swih7s.align',\n",
              " 'data/alignments/s1/swih8p.align',\n",
              " 'data/alignments/s1/swih9a.align',\n",
              " 'data/alignments/s1/swio1s.align',\n",
              " 'data/alignments/s1/swio2p.align',\n",
              " 'data/alignments/s1/swio3a.align',\n",
              " 'data/alignments/s1/swiozn.align',\n",
              " 'data/alignments/s1/swiu4n.align',\n",
              " 'data/alignments/s1/swiu5s.align',\n",
              " 'data/alignments/s1/swiu6p.align',\n",
              " 'data/alignments/s1/swiu7a.align',\n",
              " 'data/alignments/s1/swwc4n.align',\n",
              " 'data/alignments/s1/swwc5s.align',\n",
              " 'data/alignments/s1/swwc6p.align',\n",
              " 'data/alignments/s1/swwc7a.align',\n",
              " 'data/alignments/s1/swwi8n.align',\n",
              " 'data/alignments/s1/swwi9s.align',\n",
              " 'data/alignments/s1/swwj1a.align',\n",
              " 'data/alignments/s1/swwjzp.align',\n",
              " 'data/alignments/s1/swwp2n.align',\n",
              " 'data/alignments/s1/swwp3s.align',\n",
              " 'data/alignments/s1/swwp4p.align',\n",
              " 'data/alignments/s1/swwp5a.align',\n",
              " 'data/alignments/s1/swwv6n.align',\n",
              " ...]"
            ]
          },
          "metadata": {},
          "execution_count": 7
        }
      ],
      "source": [
        "url = 'https://drive.google.com/uc?id=1YlvpDLix3S-U8fd-gqRwPcWXAXm8JwjL'\n",
        "output = 'data.zip'\n",
        "gdown.download(url=url, output=output, quiet=False)\n",
        "gdown.extractall(output)"
      ]
    },
    {
      "cell_type": "markdown",
      "metadata": {
        "id": "VtOxn8_ngOJQ"
      },
      "source": [
        "**Data Loading Function**"
      ]
    },
    {
      "cell_type": "code",
      "execution_count": 8,
      "metadata": {
        "id": "mBaF0-7BgOJQ"
      },
      "outputs": [],
      "source": [
        "def load_video(path:str) -> List[float]:\n",
        "  cap = cv2.VideoCapture(path)\n",
        "  frames = []\n",
        "\n",
        "  for _ in range(int(cap.get(cv2.CAP_PROP_FRAME_COUNT))):\n",
        "    ret, frame = cap.read()\n",
        "    frame = tf.image.rgb_to_grayscale(frame)\n",
        "\n",
        "    # isolate mouth region\n",
        "    frames.append(frame[190:236, 80:220, :])\n",
        "  cap.release()\n",
        "\n",
        "  # scaling data\n",
        "  mean = tf.math.reduce_mean(frames)\n",
        "  std = tf.math.reduce_std(tf.cast(frames, tf.float32))\n",
        "  return tf.cast((frames - mean), tf.float32) / std"
      ]
    },
    {
      "cell_type": "code",
      "execution_count": 9,
      "metadata": {
        "id": "hMnO5G2lgOJQ"
      },
      "outputs": [],
      "source": [
        "# vocabulary for lip reading\n",
        "vocab = [x for x in \"abcdefghijklmnopqrstuvwxyz'?!123456789 \"]"
      ]
    },
    {
      "cell_type": "code",
      "execution_count": 10,
      "metadata": {
        "colab": {
          "base_uri": "https://localhost:8080/"
        },
        "id": "6aO9OSPhgOJQ",
        "outputId": "11eb97db-f35b-4cde-a8a8-a7742e206f8f"
      },
      "outputs": [
        {
          "output_type": "stream",
          "name": "stdout",
          "text": [
            "The vocabulary is: ['', 'a', 'b', 'c', 'd', 'e', 'f', 'g', 'h', 'i', 'j', 'k', 'l', 'm', 'n', 'o', 'p', 'q', 'r', 's', 't', 'u', 'v', 'w', 'x', 'y', 'z', \"'\", '?', '!', '1', '2', '3', '4', '5', '6', '7', '8', '9', ' '] (size =40)\n"
          ]
        }
      ],
      "source": [
        "char_to_num = tf.keras.layers.StringLookup(vocabulary=vocab, oov_token=\"\")\n",
        "num_to_char = tf.keras.layers.StringLookup(\n",
        "    vocabulary=char_to_num.get_vocabulary(), oov_token=\"\", invert=True\n",
        ")\n",
        "\n",
        "print(\n",
        "    f\"The vocabulary is: {char_to_num.get_vocabulary()} \"\n",
        "    f\"(size ={char_to_num.vocabulary_size()})\"\n",
        ")"
      ]
    },
    {
      "cell_type": "markdown",
      "metadata": {
        "id": "xDu5DVyFgOJQ"
      },
      "source": [
        "***Kind of encoding the letters and numbers***"
      ]
    },
    {
      "cell_type": "code",
      "execution_count": 11,
      "metadata": {
        "colab": {
          "base_uri": "https://localhost:8080/"
        },
        "id": "orWpWwsagOJQ",
        "outputId": "f1404c8d-d034-4bbe-ea15-a32a92d609ab"
      },
      "outputs": [
        {
          "output_type": "execute_result",
          "data": {
            "text/plain": [
              "<tf.Tensor: shape=(4,), dtype=int64, numpy=array([ 1, 13,  9, 20])>"
            ]
          },
          "metadata": {},
          "execution_count": 11
        }
      ],
      "source": [
        "char_to_num(['a', 'm', 'i', 't'])"
      ]
    },
    {
      "cell_type": "code",
      "execution_count": 12,
      "metadata": {
        "colab": {
          "base_uri": "https://localhost:8080/"
        },
        "id": "7NddENzpgOJQ",
        "outputId": "e012ea04-14b6-4b65-a95f-3b1dd33d6638"
      },
      "outputs": [
        {
          "output_type": "execute_result",
          "data": {
            "text/plain": [
              "<tf.Tensor: shape=(4,), dtype=string, numpy=array([b'a', b'm', b'i', b't'], dtype=object)>"
            ]
          },
          "metadata": {},
          "execution_count": 12
        }
      ],
      "source": [
        "num_to_char([ 1, 13,  9, 20])"
      ]
    },
    {
      "cell_type": "markdown",
      "metadata": {
        "id": "D4IkZKn3gOJR"
      },
      "source": [
        "**Load alignments (labels)**"
      ]
    },
    {
      "cell_type": "code",
      "execution_count": 56,
      "metadata": {
        "id": "KHz6BPsrgOJR"
      },
      "outputs": [],
      "source": [
        "def load_alignments(path:str) -> List[str]:\n",
        "  with open(path, 'r') as f:\n",
        "    lines = f.readlines()\n",
        "\n",
        "  tokens = []\n",
        "  for line in lines:\n",
        "    line = line.split()\n",
        "\n",
        "    # ignore lines with silence\n",
        "    if line[2] != 'sil':\n",
        "      tokens = [*tokens, ' ', line[2]]\n",
        "\n",
        "  return char_to_num(tf.reshape(tf.strings.unicode_split(tokens, input_encoding='UTF-8'), (-1)))[1:]"
      ]
    },
    {
      "cell_type": "markdown",
      "metadata": {
        "id": "45px4ltVgOJR"
      },
      "source": [
        "**Load video and alignments together**"
      ]
    },
    {
      "cell_type": "code",
      "execution_count": 73,
      "metadata": {
        "id": "skYGpi5AgOJR"
      },
      "outputs": [],
      "source": [
        "def load_data(path:str):\n",
        "  path = bytes.decode(path.numpy())\n",
        "  file_name = path.split('/')[-1].split('.')[0]\n",
        "  #file_name = path.split('\\\\')[-1].split('.')[0]\n",
        "  video_path = os.path.join('data', 's1', f'{file_name}.mpg')\n",
        "  alignment_path = os.path.join('data', 'alignments', 's1', f'{file_name}.align')\n",
        "  frames = load_video(video_path)\n",
        "  alignments = load_alignments(alignment_path)\n",
        "\n",
        "  return frames, alignments"
      ]
    },
    {
      "cell_type": "markdown",
      "metadata": {
        "id": "ly5uzi8JgOJR"
      },
      "source": [
        "***Let's use a test sample***"
      ]
    },
    {
      "cell_type": "code",
      "execution_count": 59,
      "metadata": {
        "id": "6FXhi86FgOJR"
      },
      "outputs": [],
      "source": [
        "test_sample = '.\\\\data\\\\s1\\\\bbaf2n.mpg'"
      ]
    },
    {
      "cell_type": "code",
      "execution_count": 60,
      "metadata": {
        "colab": {
          "base_uri": "https://localhost:8080/",
          "height": 36
        },
        "id": "d9-DvkcfgOJR",
        "outputId": "f664ac6f-7405-490b-a40a-59167abf3471"
      },
      "outputs": [
        {
          "output_type": "execute_result",
          "data": {
            "text/plain": [
              "'bbaf2n'"
            ],
            "application/vnd.google.colaboratory.intrinsic+json": {
              "type": "string"
            }
          },
          "metadata": {},
          "execution_count": 60
        }
      ],
      "source": [
        "tf.convert_to_tensor(test_sample).numpy().decode().split('\\\\')[-1].split('.')[0]"
      ]
    },
    {
      "cell_type": "code",
      "execution_count": 61,
      "metadata": {
        "colab": {
          "base_uri": "https://localhost:8080/"
        },
        "id": "WsLTHfO1gOJR",
        "outputId": "54e78db8-f21b-477b-d316-4dff545c9cc2"
      },
      "outputs": [
        {
          "output_type": "execute_result",
          "data": {
            "text/plain": [
              "(<tf.Tensor: shape=(75, 46, 140, 1), dtype=float32, numpy=\n",
              " array([[[[1.4991663 ],\n",
              "          [1.4991663 ],\n",
              "          [1.4616871 ],\n",
              "          ...,\n",
              "          [0.41227072],\n",
              "          [0.41227072],\n",
              "          [0.41227072]],\n",
              " \n",
              "         [[1.4991663 ],\n",
              "          [1.4991663 ],\n",
              "          [1.4616871 ],\n",
              "          ...,\n",
              "          [0.41227072],\n",
              "          [0.41227072],\n",
              "          [0.41227072]],\n",
              " \n",
              "         [[1.4616871 ],\n",
              "          [1.4616871 ],\n",
              "          [1.4991663 ],\n",
              "          ...,\n",
              "          [0.3373124 ],\n",
              "          [0.3373124 ],\n",
              "          [0.3373124 ]],\n",
              " \n",
              "         ...,\n",
              " \n",
              "         [[1.0494163 ],\n",
              "          [1.0494163 ],\n",
              "          [1.0119373 ],\n",
              "          ...,\n",
              "          [0.11243746],\n",
              "          [0.11243746],\n",
              "          [0.07495831]],\n",
              " \n",
              "         [[1.0494163 ],\n",
              "          [1.0494163 ],\n",
              "          [1.0119373 ],\n",
              "          ...,\n",
              "          [0.11243746],\n",
              "          [0.07495831],\n",
              "          [0.07495831]],\n",
              " \n",
              "         [[1.0494163 ],\n",
              "          [1.0494163 ],\n",
              "          [1.0119373 ],\n",
              "          ...,\n",
              "          [0.07495831],\n",
              "          [0.07495831],\n",
              "          [0.03747915]]],\n",
              " \n",
              " \n",
              "        [[[1.4242079 ],\n",
              "          [1.4242079 ],\n",
              "          [1.4242079 ],\n",
              "          ...,\n",
              "          [0.3373124 ],\n",
              "          [0.3373124 ],\n",
              "          [0.3373124 ]],\n",
              " \n",
              "         [[1.4242079 ],\n",
              "          [1.4242079 ],\n",
              "          [1.4242079 ],\n",
              "          ...,\n",
              "          [0.3373124 ],\n",
              "          [0.3373124 ],\n",
              "          [0.3373124 ]],\n",
              " \n",
              "         [[1.4242079 ],\n",
              "          [1.4242079 ],\n",
              "          [1.4242079 ],\n",
              "          ...,\n",
              "          [0.29983324],\n",
              "          [0.29983324],\n",
              "          [0.29983324]],\n",
              " \n",
              "         ...,\n",
              " \n",
              "         [[1.0494163 ],\n",
              "          [1.0494163 ],\n",
              "          [1.0119373 ],\n",
              "          ...,\n",
              "          [0.11243746],\n",
              "          [0.11243746],\n",
              "          [0.07495831]],\n",
              " \n",
              "         [[1.0494163 ],\n",
              "          [1.0494163 ],\n",
              "          [1.0119373 ],\n",
              "          ...,\n",
              "          [0.11243746],\n",
              "          [0.07495831],\n",
              "          [0.07495831]],\n",
              " \n",
              "         [[1.0494163 ],\n",
              "          [1.0494163 ],\n",
              "          [1.0119373 ],\n",
              "          ...,\n",
              "          [0.07495831],\n",
              "          [0.07495831],\n",
              "          [0.03747915]]],\n",
              " \n",
              " \n",
              "        [[[1.3492496 ],\n",
              "          [1.3492496 ],\n",
              "          [1.3492496 ],\n",
              "          ...,\n",
              "          [0.3373124 ],\n",
              "          [0.3373124 ],\n",
              "          [0.3373124 ]],\n",
              " \n",
              "         [[1.3492496 ],\n",
              "          [1.3492496 ],\n",
              "          [1.3492496 ],\n",
              "          ...,\n",
              "          [0.3373124 ],\n",
              "          [0.3373124 ],\n",
              "          [0.3373124 ]],\n",
              " \n",
              "         [[1.4242079 ],\n",
              "          [1.4242079 ],\n",
              "          [1.3867288 ],\n",
              "          ...,\n",
              "          [0.26235408],\n",
              "          [0.29983324],\n",
              "          [0.29983324]],\n",
              " \n",
              "         ...,\n",
              " \n",
              "         [[0.97445804],\n",
              "          [0.97445804],\n",
              "          [0.9369789 ],\n",
              "          ...,\n",
              "          [0.11243746],\n",
              "          [0.11243746],\n",
              "          [0.07495831]],\n",
              " \n",
              "         [[0.97445804],\n",
              "          [0.97445804],\n",
              "          [0.9369789 ],\n",
              "          ...,\n",
              "          [0.11243746],\n",
              "          [0.07495831],\n",
              "          [0.07495831]],\n",
              " \n",
              "         [[0.97445804],\n",
              "          [0.97445804],\n",
              "          [0.9369789 ],\n",
              "          ...,\n",
              "          [0.07495831],\n",
              "          [0.07495831],\n",
              "          [0.03747915]]],\n",
              " \n",
              " \n",
              "        ...,\n",
              " \n",
              " \n",
              "        [[[1.4991663 ],\n",
              "          [1.4991663 ],\n",
              "          [1.4991663 ],\n",
              "          ...,\n",
              "          [0.29983324],\n",
              "          [0.29983324],\n",
              "          [0.29983324]],\n",
              " \n",
              "         [[1.4242079 ],\n",
              "          [1.4242079 ],\n",
              "          [1.4242079 ],\n",
              "          ...,\n",
              "          [0.29983324],\n",
              "          [0.29983324],\n",
              "          [0.29983324]],\n",
              " \n",
              "         [[1.4616871 ],\n",
              "          [1.4616871 ],\n",
              "          [1.4242079 ],\n",
              "          ...,\n",
              "          [0.29983324],\n",
              "          [0.26235408],\n",
              "          [0.26235408]],\n",
              " \n",
              "         ...,\n",
              " \n",
              "         [[1.0868955 ],\n",
              "          [1.0494163 ],\n",
              "          [1.0494163 ],\n",
              "          ...,\n",
              "          [0.07495831],\n",
              "          [0.07495831],\n",
              "          [0.07495831]],\n",
              " \n",
              "         [[1.0494163 ],\n",
              "          [1.0494163 ],\n",
              "          [1.0494163 ],\n",
              "          ...,\n",
              "          [0.07495831],\n",
              "          [0.07495831],\n",
              "          [0.07495831]],\n",
              " \n",
              "         [[1.0494163 ],\n",
              "          [1.0494163 ],\n",
              "          [1.0494163 ],\n",
              "          ...,\n",
              "          [0.07495831],\n",
              "          [0.07495831],\n",
              "          [0.03747915]]],\n",
              " \n",
              " \n",
              "        [[[1.4991663 ],\n",
              "          [1.4991663 ],\n",
              "          [1.5366454 ],\n",
              "          ...,\n",
              "          [0.3373124 ],\n",
              "          [0.29983324],\n",
              "          [0.29983324]],\n",
              " \n",
              "         [[1.4242079 ],\n",
              "          [1.4242079 ],\n",
              "          [1.4616871 ],\n",
              "          ...,\n",
              "          [0.3373124 ],\n",
              "          [0.29983324],\n",
              "          [0.29983324]],\n",
              " \n",
              "         [[1.4616871 ],\n",
              "          [1.4616871 ],\n",
              "          [1.4242079 ],\n",
              "          ...,\n",
              "          [0.26235408],\n",
              "          [0.29983324],\n",
              "          [0.29983324]],\n",
              " \n",
              "         ...,\n",
              " \n",
              "         [[1.0494163 ],\n",
              "          [1.0119373 ],\n",
              "          [1.0119373 ],\n",
              "          ...,\n",
              "          [0.03747915],\n",
              "          [0.03747915],\n",
              "          [0.03747915]],\n",
              " \n",
              "         [[1.0494163 ],\n",
              "          [1.0119373 ],\n",
              "          [1.0119373 ],\n",
              "          ...,\n",
              "          [0.03747915],\n",
              "          [0.03747915],\n",
              "          [0.03747915]],\n",
              " \n",
              "         [[1.0119373 ],\n",
              "          [1.0119373 ],\n",
              "          [0.97445804],\n",
              "          ...,\n",
              "          [0.03747915],\n",
              "          [0.03747915],\n",
              "          [0.        ]]],\n",
              " \n",
              " \n",
              "        [[[1.4616871 ],\n",
              "          [1.4616871 ],\n",
              "          [1.4616871 ],\n",
              "          ...,\n",
              "          [0.29983324],\n",
              "          [0.29983324],\n",
              "          [0.29983324]],\n",
              " \n",
              "         [[1.4616871 ],\n",
              "          [1.4616871 ],\n",
              "          [1.4616871 ],\n",
              "          ...,\n",
              "          [0.29983324],\n",
              "          [0.29983324],\n",
              "          [0.29983324]],\n",
              " \n",
              "         [[1.4242079 ],\n",
              "          [1.4242079 ],\n",
              "          [1.3867288 ],\n",
              "          ...,\n",
              "          [0.29983324],\n",
              "          [0.29983324],\n",
              "          [0.29983324]],\n",
              " \n",
              "         ...,\n",
              " \n",
              "         [[1.0494163 ],\n",
              "          [1.0119373 ],\n",
              "          [1.0119373 ],\n",
              "          ...,\n",
              "          [0.03747915],\n",
              "          [0.03747915],\n",
              "          [0.03747915]],\n",
              " \n",
              "         [[0.97445804],\n",
              "          [0.9369789 ],\n",
              "          [0.97445804],\n",
              "          ...,\n",
              "          [0.03747915],\n",
              "          [0.03747915],\n",
              "          [0.03747915]],\n",
              " \n",
              "         [[0.97445804],\n",
              "          [0.9369789 ],\n",
              "          [0.97445804],\n",
              "          ...,\n",
              "          [0.03747915],\n",
              "          [0.03747915],\n",
              "          [0.        ]]]], dtype=float32)>,\n",
              " <tf.Tensor: shape=(21,), dtype=int64, numpy=\n",
              " array([ 2,  9, 14, 39,  2, 12, 21,  5, 39,  1, 20, 39,  6, 39, 20, 23, 15,\n",
              "        39, 14, 15, 23])>)"
            ]
          },
          "metadata": {},
          "execution_count": 61
        }
      ],
      "source": [
        "test_sample_process = load_data(tf.convert_to_tensor(test_sample))\n",
        "test_sample_process"
      ]
    },
    {
      "cell_type": "code",
      "execution_count": 62,
      "metadata": {
        "colab": {
          "base_uri": "https://localhost:8080/"
        },
        "id": "z5Ko_uf-gOJR",
        "outputId": "e20d6835-23cb-4006-dc5c-346a6fdbfd7d"
      },
      "outputs": [
        {
          "output_type": "stream",
          "name": "stdout",
          "text": [
            "No. of frames: 75\n",
            "Dimensions of frame: (46, 140)\n",
            "No. of channels: 1\n"
          ]
        }
      ],
      "source": [
        "num_of_frames, height, width, num_of_channels = test_sample_process[0].shape\n",
        "\n",
        "print(f\"No. of frames: {num_of_frames}\\n\"\n",
        "      f\"Dimensions of frame: {(height, width)}\\n\"\n",
        "      f\"No. of channels: {num_of_channels}\")"
      ]
    },
    {
      "cell_type": "code",
      "execution_count": 63,
      "metadata": {
        "id": "CfbW34GZgOJS"
      },
      "outputs": [],
      "source": [
        "frames, alignments = test_sample_process"
      ]
    },
    {
      "cell_type": "code",
      "execution_count": 64,
      "metadata": {
        "colab": {
          "base_uri": "https://localhost:8080/"
        },
        "id": "j3nPtlrWgOJS",
        "outputId": "b71683d1-9445-498d-8a23-b10a2b2c76f8"
      },
      "outputs": [
        {
          "output_type": "execute_result",
          "data": {
            "text/plain": [
              "<tf.Tensor: shape=(21,), dtype=int64, numpy=\n",
              "array([ 2,  9, 14, 39,  2, 12, 21,  5, 39,  1, 20, 39,  6, 39, 20, 23, 15,\n",
              "       39, 14, 15, 23])>"
            ]
          },
          "metadata": {},
          "execution_count": 64
        }
      ],
      "source": [
        "alignments"
      ]
    },
    {
      "cell_type": "markdown",
      "metadata": {
        "id": "6z56ULAwgOJS"
      },
      "source": [
        "***Check test frame***"
      ]
    },
    {
      "cell_type": "code",
      "execution_count": 65,
      "metadata": {
        "colab": {
          "base_uri": "https://localhost:8080/",
          "height": 199
        },
        "id": "TBHKywPbgOJS",
        "outputId": "e6e8ed9f-43f7-42c3-9768-49efd8c97dfe"
      },
      "outputs": [
        {
          "output_type": "display_data",
          "data": {
            "text/plain": [
              "<Figure size 640x480 with 1 Axes>"
            ],
            "image/png": "[encoded data removed]"
          },
          "metadata": {}
        }
      ],
      "source": [
        "plt.axis('off')\n",
        "plt.imshow(frames[21])\n",
        "plt.show()"
      ]
    },
    {
      "cell_type": "markdown",
      "metadata": {
        "id": "kc8kNQqzgOJS"
      },
      "source": [
        "***Check test alignment***"
      ]
    },
    {
      "cell_type": "code",
      "execution_count": 66,
      "metadata": {
        "colab": {
          "base_uri": "https://localhost:8080/",
          "height": 36
        },
        "id": "5hW9Pql2gOJS",
        "outputId": "944df362-3304-4bd3-e8c4-b725789bec6f"
      },
      "outputs": [
        {
          "output_type": "execute_result",
          "data": {
            "text/plain": [
              "'bin blue at f two now'"
            ],
            "application/vnd.google.colaboratory.intrinsic+json": {
              "type": "string"
            }
          },
          "metadata": {},
          "execution_count": 66
        }
      ],
      "source": [
        "test_alignments = [bytes.decode(x) for x in num_to_char(alignments).numpy()]\n",
        "tf.strings.reduce_join(test_alignments).numpy().decode()"
      ]
    },
    {
      "cell_type": "code",
      "execution_count": 67,
      "metadata": {
        "id": "pvkSIcPggOJS"
      },
      "outputs": [],
      "source": [
        "def mappable_function(path:str) -> List[str]:\n",
        "  result = tf.py_function(load_data, [path], (tf.float32, tf.int64))\n",
        "  return result"
      ]
    },
    {
      "cell_type": "markdown",
      "metadata": {
        "id": "X2KWXuB8gOJS"
      },
      "source": [
        "#### 2. Build Data Pipeline"
      ]
    },
    {
      "cell_type": "code",
      "execution_count": 77,
      "metadata": {
        "id": "2lyjaoT3gOJS"
      },
      "outputs": [],
      "source": [
        "data = tf.data.Dataset.list_files('./data/s1/*.mpg')\n",
        "data = data.shuffle(500)\n",
        "data = data.map(mappable_function)\n",
        "data = data.padded_batch(2, padded_shapes = ([75, None, None, None], [40]))\n",
        "data = data.prefetch(tf.data.AUTOTUNE)\n",
        "\n",
        "train = data.take(450)\n",
        "test = data.skip(450)"
      ]
    },
    {
      "cell_type": "code",
      "execution_count": 25,
      "metadata": {
        "colab": {
          "base_uri": "https://localhost:8080/"
        },
        "id": "CJH8HWx-gOJS",
        "outputId": "68077b6c-0765-4c15-9d2b-6d78d9eb8781"
      },
      "outputs": [
        {
          "output_type": "execute_result",
          "data": {
            "text/plain": [
              "450"
            ]
          },
          "metadata": {},
          "execution_count": 25
        }
      ],
      "source": [
        "len(train)"
      ]
    },
    {
      "cell_type": "code",
      "execution_count": 26,
      "metadata": {
        "colab": {
          "base_uri": "https://localhost:8080/"
        },
        "id": "bxd0nE4wgOJS",
        "outputId": "a28f31c8-7fb1-4c58-e4b3-784133532b03"
      },
      "outputs": [
        {
          "output_type": "execute_result",
          "data": {
            "text/plain": [
              "50"
            ]
          },
          "metadata": {},
          "execution_count": 26
        }
      ],
      "source": [
        "len(test)"
      ]
    },
    {
      "cell_type": "markdown",
      "metadata": {
        "id": "ogNySYu_gOJS"
      },
      "source": [
        "*After loading with list_files*"
      ]
    },
    {
      "cell_type": "code",
      "execution_count": 38,
      "metadata": {
        "colab": {
          "base_uri": "https://localhost:8080/"
        },
        "id": "sPwOSv86gOJS",
        "outputId": "5d061bde-7cdc-4985-e798-25bb75998dc4"
      },
      "outputs": [
        {
          "output_type": "execute_result",
          "data": {
            "text/plain": [
              "b'./data/s1/brbm8p.mpg'"
            ]
          },
          "metadata": {},
          "execution_count": 38
        }
      ],
      "source": [
        "data.as_numpy_iterator().next()"
      ]
    },
    {
      "cell_type": "markdown",
      "metadata": {
        "id": "oCUSCR7_gOJT"
      },
      "source": [
        "*After mapping the data*"
      ]
    },
    {
      "cell_type": "code",
      "execution_count": 76,
      "metadata": {
        "colab": {
          "base_uri": "https://localhost:8080/",
          "height": 244
        },
        "id": "oTqzl4i5gOJT",
        "outputId": "cb32bed1-f4ad-480b-97e7-af1d81421d58"
      },
      "outputs": [
        {
          "output_type": "stream",
          "name": "stdout",
          "text": [
            "set green with x three soon\n"
          ]
        },
        {
          "output_type": "display_data",
          "data": {
            "text/plain": [
              "<Figure size 640x480 with 1 Axes>"
            ],
            "image/png": "[encoded data removed]"
          },
          "metadata": {}
        }
      ],
      "source": [
        "frames, alignments = data.as_numpy_iterator().next()\n",
        "test_alignments = [bytes.decode(x) for x in num_to_char(alignments).numpy()]\n",
        "print(tf.strings.reduce_join(test_alignments).numpy().decode())\n",
        "plt.imshow(frames[0])\n",
        "plt.show()"
      ]
    },
    {
      "cell_type": "markdown",
      "metadata": {
        "id": "9bDiDuyygOJa"
      },
      "source": [
        "*After padding -> if few sentences are of different length 0 will be added to make all uniform*"
      ]
    },
    {
      "cell_type": "code",
      "execution_count": 78,
      "metadata": {
        "colab": {
          "base_uri": "https://localhost:8080/"
        },
        "id": "fWmoUH2xgOJa",
        "outputId": "4b0314a2-32f2-475a-c18b-d10cfbb9def0"
      },
      "outputs": [
        {
          "output_type": "execute_result",
          "data": {
            "text/plain": [
              "array([[12,  1, 25, 39,  2, 12, 21,  5, 39,  1, 20, 39, 25, 39, 26,  5,\n",
              "        18, 15, 39, 16, 12,  5,  1, 19,  5,  0,  0,  0,  0,  0,  0,  0,\n",
              "         0,  0,  0,  0,  0,  0,  0,  0],\n",
              "       [12,  1, 25, 39, 23,  8,  9, 20,  5, 39,  9, 14, 39, 18, 39, 20,\n",
              "        23, 15, 39, 14, 15, 23,  0,  0,  0,  0,  0,  0,  0,  0,  0,  0,\n",
              "         0,  0,  0,  0,  0,  0,  0,  0]])"
            ]
          },
          "metadata": {},
          "execution_count": 78
        }
      ],
      "source": [
        "frames, alignments = data.as_numpy_iterator().next()\n",
        "alignments"
      ]
    },
    {
      "cell_type": "code",
      "execution_count": 79,
      "metadata": {
        "colab": {
          "base_uri": "https://localhost:8080/"
        },
        "id": "DmKW9IKqgOJa",
        "outputId": "65a29990-19e7-4f0b-adbe-3beb12faa6f6"
      },
      "outputs": [
        {
          "output_type": "execute_result",
          "data": {
            "text/plain": [
              "2"
            ]
          },
          "metadata": {},
          "execution_count": 79
        }
      ],
      "source": [
        "len(frames)"
      ]
    },
    {
      "cell_type": "markdown",
      "metadata": {
        "id": "yzu2x6sCgOJa"
      },
      "source": [
        "***Let's visualize***"
      ]
    },
    {
      "cell_type": "code",
      "execution_count": 80,
      "metadata": {
        "colab": {
          "base_uri": "https://localhost:8080/",
          "height": 227
        },
        "id": "g95UetAjgOJa",
        "outputId": "d2fc5cee-33ed-45b7-d7c4-ddd92c5ad4f4"
      },
      "outputs": [
        {
          "output_type": "display_data",
          "data": {
            "text/plain": [
              "<Figure size 640x480 with 1 Axes>"
            ],
            "image/png": "[encoded data removed]"
          },
          "metadata": {}
        }
      ],
      "source": [
        "test_sample = data.as_numpy_iterator()\n",
        "val = test_sample.next()\n",
        "plt.imshow(val[0][1][0])\n",
        "plt.show()"
      ]
    },
    {
      "cell_type": "markdown",
      "metadata": {
        "id": "BaNi0mf5gOJa"
      },
      "source": [
        "*Make a gif out of the video frames*"
      ]
    },
    {
      "cell_type": "code",
      "execution_count": 81,
      "metadata": {
        "colab": {
          "base_uri": "https://localhost:8080/"
        },
        "id": "ARQyxcKHgOJa",
        "outputId": "411f5af1-9250-4254-a2d1-dbe44a32eb3d"
      },
      "outputs": [
        {
          "output_type": "stream",
          "name": "stderr",
          "text": [
            "WARNING:imageio:Lossy conversion from float32 to uint8. Range [0.0, 9.535340309143066]. Convert image to uint8 prior to saving to suppress this warning.\n",
            "WARNING:imageio:Lossy conversion from float32 to uint8. Range [0.0, 9.535340309143066]. Convert image to uint8 prior to saving to suppress this warning.\n",
            "WARNING:imageio:Lossy conversion from float32 to uint8. Range [0.0, 9.535340309143066]. Convert image to uint8 prior to saving to suppress this warning.\n",
            "WARNING:imageio:Lossy conversion from float32 to uint8. Range [0.0, 9.535340309143066]. Convert image to uint8 prior to saving to suppress this warning.\n",
            "WARNING:imageio:Lossy conversion from float32 to uint8. Range [0.0, 9.535340309143066]. Convert image to uint8 prior to saving to suppress this warning.\n",
            "WARNING:imageio:Lossy conversion from float32 to uint8. Range [0.0, 9.535340309143066]. Convert image to uint8 prior to saving to suppress this warning.\n",
            "WARNING:imageio:Lossy conversion from float32 to uint8. Range [0.0, 9.535340309143066]. Convert image to uint8 prior to saving to suppress this warning.\n",
            "WARNING:imageio:Lossy conversion from float32 to uint8. Range [0.0, 9.535340309143066]. Convert image to uint8 prior to saving to suppress this warning.\n",
            "WARNING:imageio:Lossy conversion from float32 to uint8. Range [0.0, 9.535340309143066]. Convert image to uint8 prior to saving to suppress this warning.\n",
            "WARNING:imageio:Lossy conversion from float32 to uint8. Range [0.0, 9.535340309143066]. Convert image to uint8 prior to saving to suppress this warning.\n",
            "WARNING:imageio:Lossy conversion from float32 to uint8. Range [0.0, 9.535340309143066]. Convert image to uint8 prior to saving to suppress this warning.\n",
            "WARNING:imageio:Lossy conversion from float32 to uint8. Range [0.0, 9.535340309143066]. Convert image to uint8 prior to saving to suppress this warning.\n",
            "WARNING:imageio:Lossy conversion from float32 to uint8. Range [0.0, 9.535340309143066]. Convert image to uint8 prior to saving to suppress this warning.\n",
            "WARNING:imageio:Lossy conversion from float32 to uint8. Range [0.0, 9.535340309143066]. Convert image to uint8 prior to saving to suppress this warning.\n",
            "WARNING:imageio:Lossy conversion from float32 to uint8. Range [0.0, 9.535340309143066]. Convert image to uint8 prior to saving to suppress this warning.\n",
            "WARNING:imageio:Lossy conversion from float32 to uint8. Range [0.0, 9.535340309143066]. Convert image to uint8 prior to saving to suppress this warning.\n",
            "WARNING:imageio:Lossy conversion from float32 to uint8. Range [0.0, 9.535340309143066]. Convert image to uint8 prior to saving to suppress this warning.\n",
            "WARNING:imageio:Lossy conversion from float32 to uint8. Range [0.0, 9.535340309143066]. Convert image to uint8 prior to saving to suppress this warning.\n",
            "WARNING:imageio:Lossy conversion from float32 to uint8. Range [0.0, 9.535340309143066]. Convert image to uint8 prior to saving to suppress this warning.\n",
            "WARNING:imageio:Lossy conversion from float32 to uint8. Range [0.0, 9.535340309143066]. Convert image to uint8 prior to saving to suppress this warning.\n",
            "WARNING:imageio:Lossy conversion from float32 to uint8. Range [0.0, 9.535340309143066]. Convert image to uint8 prior to saving to suppress this warning.\n",
            "WARNING:imageio:Lossy conversion from float32 to uint8. Range [0.0, 9.535340309143066]. Convert image to uint8 prior to saving to suppress this warning.\n",
            "WARNING:imageio:Lossy conversion from float32 to uint8. Range [0.0, 9.535340309143066]. Convert image to uint8 prior to saving to suppress this warning.\n",
            "WARNING:imageio:Lossy conversion from float32 to uint8. Range [0.0, 9.535340309143066]. Convert image to uint8 prior to saving to suppress this warning.\n",
            "WARNING:imageio:Lossy conversion from float32 to uint8. Range [0.0, 9.535340309143066]. Convert image to uint8 prior to saving to suppress this warning.\n",
            "WARNING:imageio:Lossy conversion from float32 to uint8. Range [0.0, 9.535340309143066]. Convert image to uint8 prior to saving to suppress this warning.\n",
            "WARNING:imageio:Lossy conversion from float32 to uint8. Range [0.0, 9.535340309143066]. Convert image to uint8 prior to saving to suppress this warning.\n",
            "WARNING:imageio:Lossy conversion from float32 to uint8. Range [0.0, 9.535340309143066]. Convert image to uint8 prior to saving to suppress this warning.\n",
            "WARNING:imageio:Lossy conversion from float32 to uint8. Range [0.0, 9.535340309143066]. Convert image to uint8 prior to saving to suppress this warning.\n",
            "WARNING:imageio:Lossy conversion from float32 to uint8. Range [0.0, 9.535340309143066]. Convert image to uint8 prior to saving to suppress this warning.\n",
            "WARNING:imageio:Lossy conversion from float32 to uint8. Range [0.0, 9.535340309143066]. Convert image to uint8 prior to saving to suppress this warning.\n",
            "WARNING:imageio:Lossy conversion from float32 to uint8. Range [0.0, 9.535340309143066]. Convert image to uint8 prior to saving to suppress this warning.\n",
            "WARNING:imageio:Lossy conversion from float32 to uint8. Range [0.0, 9.535340309143066]. Convert image to uint8 prior to saving to suppress this warning.\n",
            "WARNING:imageio:Lossy conversion from float32 to uint8. Range [0.0, 9.535340309143066]. Convert image to uint8 prior to saving to suppress this warning.\n",
            "WARNING:imageio:Lossy conversion from float32 to uint8. Range [0.0, 9.535340309143066]. Convert image to uint8 prior to saving to suppress this warning.\n",
            "WARNING:imageio:Lossy conversion from float32 to uint8. Range [0.0, 9.535340309143066]. Convert image to uint8 prior to saving to suppress this warning.\n",
            "WARNING:imageio:Lossy conversion from float32 to uint8. Range [0.0, 9.535340309143066]. Convert image to uint8 prior to saving to suppress this warning.\n",
            "WARNING:imageio:Lossy conversion from float32 to uint8. Range [0.0, 9.535340309143066]. Convert image to uint8 prior to saving to suppress this warning.\n",
            "WARNING:imageio:Lossy conversion from float32 to uint8. Range [0.0, 9.535340309143066]. Convert image to uint8 prior to saving to suppress this warning.\n",
            "WARNING:imageio:Lossy conversion from float32 to uint8. Range [0.0, 9.535340309143066]. Convert image to uint8 prior to saving to suppress this warning.\n",
            "WARNING:imageio:Lossy conversion from float32 to uint8. Range [0.0, 9.535340309143066]. Convert image to uint8 prior to saving to suppress this warning.\n",
            "WARNING:imageio:Lossy conversion from float32 to uint8. Range [0.0, 9.535340309143066]. Convert image to uint8 prior to saving to suppress this warning.\n",
            "WARNING:imageio:Lossy conversion from float32 to uint8. Range [0.0, 9.535340309143066]. Convert image to uint8 prior to saving to suppress this warning.\n",
            "WARNING:imageio:Lossy conversion from float32 to uint8. Range [0.0, 9.535340309143066]. Convert image to uint8 prior to saving to suppress this warning.\n",
            "WARNING:imageio:Lossy conversion from float32 to uint8. Range [0.0, 9.535340309143066]. Convert image to uint8 prior to saving to suppress this warning.\n",
            "WARNING:imageio:Lossy conversion from float32 to uint8. Range [0.0, 9.535340309143066]. Convert image to uint8 prior to saving to suppress this warning.\n",
            "WARNING:imageio:Lossy conversion from float32 to uint8. Range [0.0, 9.535340309143066]. Convert image to uint8 prior to saving to suppress this warning.\n",
            "WARNING:imageio:Lossy conversion from float32 to uint8. Range [0.0, 9.535340309143066]. Convert image to uint8 prior to saving to suppress this warning.\n",
            "WARNING:imageio:Lossy conversion from float32 to uint8. Range [0.0, 9.535340309143066]. Convert image to uint8 prior to saving to suppress this warning.\n",
            "WARNING:imageio:Lossy conversion from float32 to uint8. Range [0.0, 9.535340309143066]. Convert image to uint8 prior to saving to suppress this warning.\n",
            "WARNING:imageio:Lossy conversion from float32 to uint8. Range [0.0, 9.535340309143066]. Convert image to uint8 prior to saving to suppress this warning.\n",
            "WARNING:imageio:Lossy conversion from float32 to uint8. Range [0.0, 9.535340309143066]. Convert image to uint8 prior to saving to suppress this warning.\n",
            "WARNING:imageio:Lossy conversion from float32 to uint8. Range [0.0, 9.535340309143066]. Convert image to uint8 prior to saving to suppress this warning.\n",
            "WARNING:imageio:Lossy conversion from float32 to uint8. Range [0.0, 9.535340309143066]. Convert image to uint8 prior to saving to suppress this warning.\n",
            "WARNING:imageio:Lossy conversion from float32 to uint8. Range [0.0, 9.535340309143066]. Convert image to uint8 prior to saving to suppress this warning.\n",
            "WARNING:imageio:Lossy conversion from float32 to uint8. Range [0.0, 9.535340309143066]. Convert image to uint8 prior to saving to suppress this warning.\n",
            "WARNING:imageio:Lossy conversion from float32 to uint8. Range [0.0, 9.535340309143066]. Convert image to uint8 prior to saving to suppress this warning.\n",
            "WARNING:imageio:Lossy conversion from float32 to uint8. Range [0.0, 9.535340309143066]. Convert image to uint8 prior to saving to suppress this warning.\n",
            "WARNING:imageio:Lossy conversion from float32 to uint8. Range [0.0, 9.535340309143066]. Convert image to uint8 prior to saving to suppress this warning.\n",
            "WARNING:imageio:Lossy conversion from float32 to uint8. Range [0.0, 9.535340309143066]. Convert image to uint8 prior to saving to suppress this warning.\n",
            "WARNING:imageio:Lossy conversion from float32 to uint8. Range [0.0, 9.535340309143066]. Convert image to uint8 prior to saving to suppress this warning.\n",
            "WARNING:imageio:Lossy conversion from float32 to uint8. Range [0.0, 9.535340309143066]. Convert image to uint8 prior to saving to suppress this warning.\n",
            "WARNING:imageio:Lossy conversion from float32 to uint8. Range [0.0, 9.535340309143066]. Convert image to uint8 prior to saving to suppress this warning.\n",
            "WARNING:imageio:Lossy conversion from float32 to uint8. Range [0.0, 9.535340309143066]. Convert image to uint8 prior to saving to suppress this warning.\n",
            "WARNING:imageio:Lossy conversion from float32 to uint8. Range [0.0, 9.535340309143066]. Convert image to uint8 prior to saving to suppress this warning.\n",
            "WARNING:imageio:Lossy conversion from float32 to uint8. Range [0.0, 9.535340309143066]. Convert image to uint8 prior to saving to suppress this warning.\n",
            "WARNING:imageio:Lossy conversion from float32 to uint8. Range [0.0, 9.535340309143066]. Convert image to uint8 prior to saving to suppress this warning.\n",
            "WARNING:imageio:Lossy conversion from float32 to uint8. Range [0.0, 9.535340309143066]. Convert image to uint8 prior to saving to suppress this warning.\n",
            "WARNING:imageio:Lossy conversion from float32 to uint8. Range [0.0, 9.535340309143066]. Convert image to uint8 prior to saving to suppress this warning.\n",
            "WARNING:imageio:Lossy conversion from float32 to uint8. Range [0.0, 9.535340309143066]. Convert image to uint8 prior to saving to suppress this warning.\n",
            "WARNING:imageio:Lossy conversion from float32 to uint8. Range [0.0, 9.535340309143066]. Convert image to uint8 prior to saving to suppress this warning.\n",
            "WARNING:imageio:Lossy conversion from float32 to uint8. Range [0.0, 9.535340309143066]. Convert image to uint8 prior to saving to suppress this warning.\n",
            "WARNING:imageio:Lossy conversion from float32 to uint8. Range [0.0, 9.535340309143066]. Convert image to uint8 prior to saving to suppress this warning.\n",
            "WARNING:imageio:Lossy conversion from float32 to uint8. Range [0.0, 9.535340309143066]. Convert image to uint8 prior to saving to suppress this warning.\n",
            "WARNING:imageio:Lossy conversion from float32 to uint8. Range [0.0, 9.535340309143066]. Convert image to uint8 prior to saving to suppress this warning.\n"
          ]
        }
      ],
      "source": [
        "imageio.mimsave('./animation.gif', val[0][1])"
      ]
    },
    {
      "cell_type": "markdown",
      "metadata": {
        "id": "9s06lqQAgOJa"
      },
      "source": [
        "#### 3. Design the Deep Learning Model"
      ]
    },
    {
      "cell_type": "markdown",
      "metadata": {
        "id": "BRK3HBAQgOJb"
      },
      "source": [
        "**Import dependencies**"
      ]
    },
    {
      "cell_type": "code",
      "execution_count": 82,
      "metadata": {
        "id": "bCSkBPHFgOJb"
      },
      "outputs": [],
      "source": [
        "from tensorflow.keras.models import Sequential\n",
        "from tensorflow.keras.layers import Conv3D, LSTM, Dense, Dropout, Bidirectional, MaxPool3D, Activation, Reshape, SpatialDropout3D, BatchNormalization, TimeDistributed, Flatten\n",
        "from tensorflow.keras.optimizers import Adam\n",
        "from tensorflow.keras.callbacks import ModelCheckpoint, LearningRateScheduler"
      ]
    },
    {
      "cell_type": "code",
      "execution_count": 83,
      "metadata": {
        "colab": {
          "base_uri": "https://localhost:8080/"
        },
        "id": "DQ5zDHf8gOJb",
        "outputId": "5cf87071-fa0e-4c2b-ab0d-2ee9c151c6d2"
      },
      "outputs": [
        {
          "output_type": "execute_result",
          "data": {
            "text/plain": [
              "(2, 75, 46, 140, 1)"
            ]
          },
          "metadata": {},
          "execution_count": 83
        }
      ],
      "source": [
        "data.as_numpy_iterator().next()[0].shape"
      ]
    },
    {
      "cell_type": "code",
      "execution_count": 84,
      "metadata": {
        "id": "nCdiV2_ZgOJb"
      },
      "outputs": [],
      "source": [
        "model = Sequential()\n",
        "model.add(Conv3D(128, 3, input_shape=(75, 46, 140, 1), padding = 'same'))\n",
        "model.add(Activation('relu'))\n",
        "model.add(MaxPool3D((1, 2, 2)))\n",
        "\n",
        "model.add(Conv3D(256, 3, padding = 'same'))\n",
        "model.add(Activation('relu'))\n",
        "model.add(MaxPool3D((1, 2, 2)))\n",
        "\n",
        "model.add(Conv3D(75, 3, padding = 'same'))\n",
        "model.add(Activation('relu'))\n",
        "model.add(MaxPool3D((1, 2, 2)))\n",
        "\n",
        "model.add(TimeDistributed(Flatten()))\n",
        "\n",
        "model.add(Bidirectional(LSTM(128, kernel_initializer='Orthogonal', return_sequences=True)))\n",
        "model.add(Dropout(0.5))\n",
        "\n",
        "model.add(Bidirectional(LSTM(128, kernel_initializer='Orthogonal', return_sequences=True)))\n",
        "model.add(Dropout(0.5))\n",
        "\n",
        "model.add(Dense(char_to_num.vocabulary_size()+1, kernel_initializer='he_normal', activation='softmax'))"
      ]
    },
    {
      "cell_type": "code",
      "execution_count": 85,
      "metadata": {
        "colab": {
          "base_uri": "https://localhost:8080/"
        },
        "id": "vfRSA2vJgOJb",
        "outputId": "9d0dd45a-9572-4a5e-d851-179d62ab19b1"
      },
      "outputs": [
        {
          "output_type": "stream",
          "name": "stdout",
          "text": [
            "Model: \"sequential\"\n",
            "_________________________________________________________________\n",
            " Layer (type)                Output Shape              Param #   \n",
            "=================================================================\n",
            " conv3d (Conv3D)             (None, 75, 46, 140, 128   3584      \n",
            "                             )                                   \n",
            "                                                                 \n",
            " activation (Activation)     (None, 75, 46, 140, 128   0         \n",
            "                             )                                   \n",
            "                                                                 \n",
            " max_pooling3d (MaxPooling3  (None, 75, 23, 70, 128)   0         \n",
            " D)                                                              \n",
            "                                                                 \n",
            " conv3d_1 (Conv3D)           (None, 75, 23, 70, 256)   884992    \n",
            "                                                                 \n",
            " activation_1 (Activation)   (None, 75, 23, 70, 256)   0         \n",
            "                                                                 \n",
            " max_pooling3d_1 (MaxPoolin  (None, 75, 11, 35, 256)   0         \n",
            " g3D)                                                            \n",
            "                                                                 \n",
            " conv3d_2 (Conv3D)           (None, 75, 11, 35, 75)    518475    \n",
            "                                                                 \n",
            " activation_2 (Activation)   (None, 75, 11, 35, 75)    0         \n",
            "                                                                 \n",
            " max_pooling3d_2 (MaxPoolin  (None, 75, 5, 17, 75)     0         \n",
            " g3D)                                                            \n",
            "                                                                 \n",
            " time_distributed (TimeDist  (None, 75, 6375)          0         \n",
            " ributed)                                                        \n",
            "                                                                 \n",
            " bidirectional (Bidirection  (None, 75, 256)           6660096   \n",
            " al)                                                             \n",
            "                                                                 \n",
            " dropout (Dropout)           (None, 75, 256)           0         \n",
            "                                                                 \n",
            " bidirectional_1 (Bidirecti  (None, 75, 256)           394240    \n",
            " onal)                                                           \n",
            "                                                                 \n",
            " dropout_1 (Dropout)         (None, 75, 256)           0         \n",
            "                                                                 \n",
            " dense (Dense)               (None, 75, 41)            10537     \n",
            "                                                                 \n",
            "=================================================================\n",
            "Total params: 8471924 (32.32 MB)\n",
            "Trainable params: 8471924 (32.32 MB)\n",
            "Non-trainable params: 0 (0.00 Byte)\n",
            "_________________________________________________________________\n"
          ]
        }
      ],
      "source": [
        "model.summary()"
      ]
    },
    {
      "cell_type": "markdown",
      "metadata": {
        "id": "Gr6cxKlUgOJb"
      },
      "source": [
        "*Let's test our model for once*"
      ]
    },
    {
      "cell_type": "code",
      "execution_count": 86,
      "metadata": {
        "colab": {
          "base_uri": "https://localhost:8080/"
        },
        "id": "yKxREXtkgOJb",
        "outputId": "37e3f02a-7b25-43ba-fe2e-9748e8c4ed56"
      },
      "outputs": [
        {
          "output_type": "stream",
          "name": "stdout",
          "text": [
            "1/1 [==============================] - 6s 6s/step\n"
          ]
        }
      ],
      "source": [
        "yhat = model.predict(val[0])"
      ]
    },
    {
      "cell_type": "code",
      "execution_count": 87,
      "metadata": {
        "colab": {
          "base_uri": "https://localhost:8080/"
        },
        "id": "qv-hlktVgOJb",
        "outputId": "d634b172-6d2d-4335-a331-33fae2069e84"
      },
      "outputs": [
        {
          "output_type": "execute_result",
          "data": {
            "text/plain": [
              "<tf.Tensor: shape=(75,), dtype=int64, numpy=\n",
              "array([18, 18, 18, 18, 20, 20, 20, 20, 20, 20, 20, 20, 20, 20, 20, 20, 20,\n",
              "       20, 20, 20, 20, 20, 20, 20, 20, 20, 20, 20, 20, 20, 20, 20, 20, 20,\n",
              "       20, 20, 20, 20, 20, 20, 20, 20, 20, 20, 20, 20, 20, 20, 20, 20, 20,\n",
              "       20, 20, 20, 20, 20, 20, 20, 20, 20, 20, 20, 20, 20, 20, 20, 20, 20,\n",
              "       20, 20, 20, 20, 20, 20, 20])>"
            ]
          },
          "metadata": {},
          "execution_count": 87
        }
      ],
      "source": [
        "tf.argmax(yhat[0], axis = 1)"
      ]
    },
    {
      "cell_type": "code",
      "execution_count": 88,
      "metadata": {
        "colab": {
          "base_uri": "https://localhost:8080/",
          "height": 36
        },
        "id": "GsVjynwcgOJb",
        "outputId": "a9034f8a-4f19-4ce6-8942-a60a0ef74f7e"
      },
      "outputs": [
        {
          "output_type": "execute_result",
          "data": {
            "text/plain": [
              "'rrrrttttttttttttttttttttttttttttttttttttttttttttttttttttttttttttttttttttttt'"
            ],
            "application/vnd.google.colaboratory.intrinsic+json": {
              "type": "string"
            }
          },
          "metadata": {},
          "execution_count": 88
        }
      ],
      "source": [
        "tf.strings.reduce_join([num_to_char(tf.argmax(x)) for x in yhat[1]]).numpy().decode()"
      ]
    },
    {
      "cell_type": "code",
      "execution_count": 89,
      "metadata": {
        "colab": {
          "base_uri": "https://localhost:8080/"
        },
        "id": "VRF5XK7MgOJc",
        "outputId": "d2078051-7f11-4d6d-d117-b9dc92fdede6"
      },
      "outputs": [
        {
          "output_type": "execute_result",
          "data": {
            "text/plain": [
              "(None, 75, 46, 140, 1)"
            ]
          },
          "metadata": {},
          "execution_count": 89
        }
      ],
      "source": [
        "model.input_shape"
      ]
    },
    {
      "cell_type": "code",
      "execution_count": 90,
      "metadata": {
        "colab": {
          "base_uri": "https://localhost:8080/"
        },
        "id": "iFSnOgHmgOJc",
        "outputId": "c23713dc-5fdb-400f-da4f-4e96694229ac"
      },
      "outputs": [
        {
          "output_type": "execute_result",
          "data": {
            "text/plain": [
              "(None, 75, 41)"
            ]
          },
          "metadata": {},
          "execution_count": 90
        }
      ],
      "source": [
        "model.output_shape"
      ]
    },
    {
      "cell_type": "markdown",
      "metadata": {
        "id": "lbbIUXxAgOJc"
      },
      "source": [
        "#### 4. Setup Training Options and Train"
      ]
    },
    {
      "cell_type": "code",
      "execution_count": 91,
      "metadata": {
        "id": "i7646qo6gOJc"
      },
      "outputs": [],
      "source": [
        "def scheduler(epoch, lr):\n",
        "  if epoch < 30:\n",
        "    return lr\n",
        "  else:\n",
        "    return lr * tf.math.exp(-0.1)"
      ]
    },
    {
      "cell_type": "code",
      "execution_count": 92,
      "metadata": {
        "id": "Xby_cZgngOJc"
      },
      "outputs": [],
      "source": [
        "def CTCLoss(y_true, y_pred):\n",
        "  batch_len = tf.cast(tf.shape(y_true)[0], dtype=\"int64\")\n",
        "  input_length = tf.cast(tf.shape(y_pred)[1], dtype=\"int64\")\n",
        "  label_length = tf.cast(tf.shape(y_true)[1], dtype=\"int64\")\n",
        "\n",
        "  input_length = input_length * tf.ones(shape=(batch_len, 1), dtype=\"int64\")\n",
        "  label_length = label_length * tf.ones(shape=(batch_len, 1), dtype=\"int64\")\n",
        "\n",
        "  loss = tf.keras.backend.ctc_batch_cost(y_true, y_pred, input_length, label_length)\n",
        "  return loss"
      ]
    },
    {
      "cell_type": "code",
      "execution_count": 93,
      "metadata": {
        "id": "ox9XwnHZgOJc"
      },
      "outputs": [],
      "source": [
        "class ProduceExample(tf.keras.callbacks.Callback):\n",
        "    def __init__(self, dataset) -> None:\n",
        "        self.dataset = dataset.as_numpy_iterator()\n",
        "\n",
        "    def on_epoch_end(self, epoch, logs=None) -> None:\n",
        "        data = self.dataset.next()\n",
        "        yhat = self.model.predict(data[0])\n",
        "        decoded = tf.keras.backend.ctc_decode(yhat, [75,75], greedy=False)[0][0].numpy()\n",
        "        for x in range(len(yhat)):\n",
        "            print('Original:', tf.strings.reduce_join(num_to_char(data[1][x])).numpy().decode('utf-8'))\n",
        "            print('Prediction:', tf.strings.reduce_join(num_to_char(decoded[x])).numpy().decode('utf-8'))\n",
        "            print('~'*100)\n"
      ]
    },
    {
      "cell_type": "code",
      "execution_count": 94,
      "metadata": {
        "id": "ksPzDMWwgOJc"
      },
      "outputs": [],
      "source": [
        "model.compile(optimizer=Adam(learning_rate=0.0001), loss=CTCLoss)"
      ]
    },
    {
      "cell_type": "code",
      "execution_count": 95,
      "metadata": {
        "id": "2srAezORgOJc"
      },
      "outputs": [],
      "source": [
        "checkpoint_callback = ModelCheckpoint(os.path.join('models', 'checkpoint'), monitor='loss', save_weights_only=True)"
      ]
    },
    {
      "cell_type": "code",
      "execution_count": 96,
      "metadata": {
        "id": "zN5HgfOqgOJc"
      },
      "outputs": [],
      "source": [
        "schedule_callback = LearningRateScheduler(scheduler)"
      ]
    },
    {
      "cell_type": "code",
      "execution_count": 97,
      "metadata": {
        "id": "wzmakM2_gOJd"
      },
      "outputs": [],
      "source": [
        "example_callback = ProduceExample(data)"
      ]
    },
    {
      "cell_type": "code",
      "execution_count": 98,
      "metadata": {
        "colab": {
          "base_uri": "https://localhost:8080/",
          "height": 567
        },
        "id": "RI7ie2iugOJd",
        "outputId": "6ad6bee9-44d6-4305-e4c3-ae2895e5aeb5"
      },
      "outputs": [
        {
          "output_type": "stream",
          "name": "stdout",
          "text": [
            "Epoch 1/10\n",
            "1/1 [==============================] - 2s 2s/step\n",
            "Original: lay white in r three soon\n",
            "Prediction: le e e e o o\n",
            "~~~~~~~~~~~~~~~~~~~~~~~~~~~~~~~~~~~~~~~~~~~~~~~~~~~~~~~~~~~~~~~~~~~~~~~~~~~~~~~~~~~~~~~~~~~~~~~~~~~~\n",
            "Original: lay red at e five again\n",
            "Prediction: l e e e o o\n",
            "~~~~~~~~~~~~~~~~~~~~~~~~~~~~~~~~~~~~~~~~~~~~~~~~~~~~~~~~~~~~~~~~~~~~~~~~~~~~~~~~~~~~~~~~~~~~~~~~~~~~\n",
            "500/500 [==============================] - 518s 994ms/step - loss: 83.3809 - lr: 1.0000e-04\n",
            "Epoch 2/10\n",
            " 22/500 [>.............................] - ETA: 7:39 - loss: 73.1258"
          ]
        },
        {
          "output_type": "error",
          "ename": "KeyboardInterrupt",
          "evalue": "",
          "traceback": [
            "\u001b[0;31m---------------------------------------------------------------------------\u001b[0m",
            "\u001b[0;31mKeyboardInterrupt\u001b[0m                         Traceback (most recent call last)",
            "\u001b[0;32m<ipython-input-98-4f0641196382>\u001b[0m in \u001b[0;36m<cell line: 1>\u001b[0;34m()\u001b[0m\n\u001b[0;32m----> 1\u001b[0;31m \u001b[0mmodel\u001b[0m\u001b[0;34m.\u001b[0m\u001b[0mfit\u001b[0m\u001b[0;34m(\u001b[0m\u001b[0mdata\u001b[0m\u001b[0;34m,\u001b[0m \u001b[0mepochs\u001b[0m\u001b[0;34m=\u001b[0m\u001b[0;36m10\u001b[0m\u001b[0;34m,\u001b[0m \u001b[0mcallbacks\u001b[0m\u001b[0;34m=\u001b[0m\u001b[0;34m[\u001b[0m\u001b[0mcheckpoint_callback\u001b[0m\u001b[0;34m,\u001b[0m \u001b[0mschedule_callback\u001b[0m\u001b[0;34m,\u001b[0m \u001b[0mexample_callback\u001b[0m\u001b[0;34m]\u001b[0m\u001b[0;34m)\u001b[0m\u001b[0;34m\u001b[0m\u001b[0;34m\u001b[0m\u001b[0m\n\u001b[0m",
            "\u001b[0;32m/usr/local/lib/python3.10/dist-packages/keras/src/utils/traceback_utils.py\u001b[0m in \u001b[0;36merror_handler\u001b[0;34m(*args, **kwargs)\u001b[0m\n\u001b[1;32m     63\u001b[0m         \u001b[0mfiltered_tb\u001b[0m \u001b[0;34m=\u001b[0m \u001b[0;32mNone\u001b[0m\u001b[0;34m\u001b[0m\u001b[0;34m\u001b[0m\u001b[0m\n\u001b[1;32m     64\u001b[0m         \u001b[0;32mtry\u001b[0m\u001b[0;34m:\u001b[0m\u001b[0;34m\u001b[0m\u001b[0;34m\u001b[0m\u001b[0m\n\u001b[0;32m---> 65\u001b[0;31m             \u001b[0;32mreturn\u001b[0m \u001b[0mfn\u001b[0m\u001b[0;34m(\u001b[0m\u001b[0;34m*\u001b[0m\u001b[0margs\u001b[0m\u001b[0;34m,\u001b[0m \u001b[0;34m**\u001b[0m\u001b[0mkwargs\u001b[0m\u001b[0;34m)\u001b[0m\u001b[0;34m\u001b[0m\u001b[0;34m\u001b[0m\u001b[0m\n\u001b[0m\u001b[1;32m     66\u001b[0m         \u001b[0;32mexcept\u001b[0m \u001b[0mException\u001b[0m \u001b[0;32mas\u001b[0m \u001b[0me\u001b[0m\u001b[0;34m:\u001b[0m\u001b[0;34m\u001b[0m\u001b[0;34m\u001b[0m\u001b[0m\n\u001b[1;32m     67\u001b[0m             \u001b[0mfiltered_tb\u001b[0m \u001b[0;34m=\u001b[0m \u001b[0m_process_traceback_frames\u001b[0m\u001b[0;34m(\u001b[0m\u001b[0me\u001b[0m\u001b[0;34m.\u001b[0m\u001b[0m__traceback__\u001b[0m\u001b[0;34m)\u001b[0m\u001b[0;34m\u001b[0m\u001b[0;34m\u001b[0m\u001b[0m\n",
            "\u001b[0;32m/usr/local/lib/python3.10/dist-packages/keras/src/engine/training.py\u001b[0m in \u001b[0;36mfit\u001b[0;34m(self, x, y, batch_size, epochs, verbose, callbacks, validation_split, validation_data, shuffle, class_weight, sample_weight, initial_epoch, steps_per_epoch, validation_steps, validation_batch_size, validation_freq, max_queue_size, workers, use_multiprocessing)\u001b[0m\n\u001b[1;32m   1811\u001b[0m                             \u001b[0mlogs\u001b[0m \u001b[0;34m=\u001b[0m \u001b[0mtmp_logs\u001b[0m\u001b[0;34m\u001b[0m\u001b[0;34m\u001b[0m\u001b[0m\n\u001b[1;32m   1812\u001b[0m                             \u001b[0mend_step\u001b[0m \u001b[0;34m=\u001b[0m \u001b[0mstep\u001b[0m \u001b[0;34m+\u001b[0m \u001b[0mdata_handler\u001b[0m\u001b[0;34m.\u001b[0m\u001b[0mstep_increment\u001b[0m\u001b[0;34m\u001b[0m\u001b[0;34m\u001b[0m\u001b[0m\n\u001b[0;32m-> 1813\u001b[0;31m                             \u001b[0mcallbacks\u001b[0m\u001b[0;34m.\u001b[0m\u001b[0mon_train_batch_end\u001b[0m\u001b[0;34m(\u001b[0m\u001b[0mend_step\u001b[0m\u001b[0;34m,\u001b[0m \u001b[0mlogs\u001b[0m\u001b[0;34m)\u001b[0m\u001b[0;34m\u001b[0m\u001b[0;34m\u001b[0m\u001b[0m\n\u001b[0m\u001b[1;32m   1814\u001b[0m                             \u001b[0;32mif\u001b[0m \u001b[0mself\u001b[0m\u001b[0;34m.\u001b[0m\u001b[0mstop_training\u001b[0m\u001b[0;34m:\u001b[0m\u001b[0;34m\u001b[0m\u001b[0;34m\u001b[0m\u001b[0m\n\u001b[1;32m   1815\u001b[0m                                 \u001b[0;32mbreak\u001b[0m\u001b[0;34m\u001b[0m\u001b[0;34m\u001b[0m\u001b[0m\n",
            "\u001b[0;32m/usr/local/lib/python3.10/dist-packages/keras/src/callbacks.py\u001b[0m in \u001b[0;36mon_train_batch_end\u001b[0;34m(self, batch, logs)\u001b[0m\n\u001b[1;32m    473\u001b[0m         \"\"\"\n\u001b[1;32m    474\u001b[0m         \u001b[0;32mif\u001b[0m \u001b[0mself\u001b[0m\u001b[0;34m.\u001b[0m\u001b[0m_should_call_train_batch_hooks\u001b[0m\u001b[0;34m:\u001b[0m\u001b[0;34m\u001b[0m\u001b[0;34m\u001b[0m\u001b[0m\n\u001b[0;32m--> 475\u001b[0;31m             \u001b[0mself\u001b[0m\u001b[0;34m.\u001b[0m\u001b[0m_call_batch_hook\u001b[0m\u001b[0;34m(\u001b[0m\u001b[0mModeKeys\u001b[0m\u001b[0;34m.\u001b[0m\u001b[0mTRAIN\u001b[0m\u001b[0;34m,\u001b[0m \u001b[0;34m\"end\"\u001b[0m\u001b[0;34m,\u001b[0m \u001b[0mbatch\u001b[0m\u001b[0;34m,\u001b[0m \u001b[0mlogs\u001b[0m\u001b[0;34m=\u001b[0m\u001b[0mlogs\u001b[0m\u001b[0;34m)\u001b[0m\u001b[0;34m\u001b[0m\u001b[0;34m\u001b[0m\u001b[0m\n\u001b[0m\u001b[1;32m    476\u001b[0m \u001b[0;34m\u001b[0m\u001b[0m\n\u001b[1;32m    477\u001b[0m     \u001b[0;32mdef\u001b[0m \u001b[0mon_test_batch_begin\u001b[0m\u001b[0;34m(\u001b[0m\u001b[0mself\u001b[0m\u001b[0;34m,\u001b[0m \u001b[0mbatch\u001b[0m\u001b[0;34m,\u001b[0m \u001b[0mlogs\u001b[0m\u001b[0;34m=\u001b[0m\u001b[0;32mNone\u001b[0m\u001b[0;34m)\u001b[0m\u001b[0;34m:\u001b[0m\u001b[0;34m\u001b[0m\u001b[0;34m\u001b[0m\u001b[0m\n",
            "\u001b[0;32m/usr/local/lib/python3.10/dist-packages/keras/src/callbacks.py\u001b[0m in \u001b[0;36m_call_batch_hook\u001b[0;34m(self, mode, hook, batch, logs)\u001b[0m\n\u001b[1;32m    320\u001b[0m             \u001b[0mself\u001b[0m\u001b[0;34m.\u001b[0m\u001b[0m_call_batch_begin_hook\u001b[0m\u001b[0;34m(\u001b[0m\u001b[0mmode\u001b[0m\u001b[0;34m,\u001b[0m \u001b[0mbatch\u001b[0m\u001b[0;34m,\u001b[0m \u001b[0mlogs\u001b[0m\u001b[0;34m)\u001b[0m\u001b[0;34m\u001b[0m\u001b[0;34m\u001b[0m\u001b[0m\n\u001b[1;32m    321\u001b[0m         \u001b[0;32melif\u001b[0m \u001b[0mhook\u001b[0m \u001b[0;34m==\u001b[0m \u001b[0;34m\"end\"\u001b[0m\u001b[0;34m:\u001b[0m\u001b[0;34m\u001b[0m\u001b[0;34m\u001b[0m\u001b[0m\n\u001b[0;32m--> 322\u001b[0;31m             \u001b[0mself\u001b[0m\u001b[0;34m.\u001b[0m\u001b[0m_call_batch_end_hook\u001b[0m\u001b[0;34m(\u001b[0m\u001b[0mmode\u001b[0m\u001b[0;34m,\u001b[0m \u001b[0mbatch\u001b[0m\u001b[0;34m,\u001b[0m \u001b[0mlogs\u001b[0m\u001b[0;34m)\u001b[0m\u001b[0;34m\u001b[0m\u001b[0;34m\u001b[0m\u001b[0m\n\u001b[0m\u001b[1;32m    323\u001b[0m         \u001b[0;32melse\u001b[0m\u001b[0;34m:\u001b[0m\u001b[0;34m\u001b[0m\u001b[0;34m\u001b[0m\u001b[0m\n\u001b[1;32m    324\u001b[0m             raise ValueError(\n",
            "\u001b[0;32m/usr/local/lib/python3.10/dist-packages/keras/src/callbacks.py\u001b[0m in \u001b[0;36m_call_batch_end_hook\u001b[0;34m(self, mode, batch, logs)\u001b[0m\n\u001b[1;32m    343\u001b[0m             \u001b[0mself\u001b[0m\u001b[0;34m.\u001b[0m\u001b[0m_batch_times\u001b[0m\u001b[0;34m.\u001b[0m\u001b[0mappend\u001b[0m\u001b[0;34m(\u001b[0m\u001b[0mbatch_time\u001b[0m\u001b[0;34m)\u001b[0m\u001b[0;34m\u001b[0m\u001b[0;34m\u001b[0m\u001b[0m\n\u001b[1;32m    344\u001b[0m \u001b[0;34m\u001b[0m\u001b[0m\n\u001b[0;32m--> 345\u001b[0;31m         \u001b[0mself\u001b[0m\u001b[0;34m.\u001b[0m\u001b[0m_call_batch_hook_helper\u001b[0m\u001b[0;34m(\u001b[0m\u001b[0mhook_name\u001b[0m\u001b[0;34m,\u001b[0m \u001b[0mbatch\u001b[0m\u001b[0;34m,\u001b[0m \u001b[0mlogs\u001b[0m\u001b[0;34m)\u001b[0m\u001b[0;34m\u001b[0m\u001b[0;34m\u001b[0m\u001b[0m\n\u001b[0m\u001b[1;32m    346\u001b[0m \u001b[0;34m\u001b[0m\u001b[0m\n\u001b[1;32m    347\u001b[0m         \u001b[0;32mif\u001b[0m \u001b[0mlen\u001b[0m\u001b[0;34m(\u001b[0m\u001b[0mself\u001b[0m\u001b[0;34m.\u001b[0m\u001b[0m_batch_times\u001b[0m\u001b[0;34m)\u001b[0m \u001b[0;34m>=\u001b[0m \u001b[0mself\u001b[0m\u001b[0;34m.\u001b[0m\u001b[0m_num_batches_for_timing_check\u001b[0m\u001b[0;34m:\u001b[0m\u001b[0;34m\u001b[0m\u001b[0;34m\u001b[0m\u001b[0m\n",
            "\u001b[0;32m/usr/local/lib/python3.10/dist-packages/keras/src/callbacks.py\u001b[0m in \u001b[0;36m_call_batch_hook_helper\u001b[0;34m(self, hook_name, batch, logs)\u001b[0m\n\u001b[1;32m    391\u001b[0m         \u001b[0;32mfor\u001b[0m \u001b[0mcallback\u001b[0m \u001b[0;32min\u001b[0m \u001b[0mself\u001b[0m\u001b[0;34m.\u001b[0m\u001b[0mcallbacks\u001b[0m\u001b[0;34m:\u001b[0m\u001b[0;34m\u001b[0m\u001b[0;34m\u001b[0m\u001b[0m\n\u001b[1;32m    392\u001b[0m             \u001b[0mhook\u001b[0m \u001b[0;34m=\u001b[0m \u001b[0mgetattr\u001b[0m\u001b[0;34m(\u001b[0m\u001b[0mcallback\u001b[0m\u001b[0;34m,\u001b[0m \u001b[0mhook_name\u001b[0m\u001b[0;34m)\u001b[0m\u001b[0;34m\u001b[0m\u001b[0;34m\u001b[0m\u001b[0m\n\u001b[0;32m--> 393\u001b[0;31m             \u001b[0mhook\u001b[0m\u001b[0;34m(\u001b[0m\u001b[0mbatch\u001b[0m\u001b[0;34m,\u001b[0m \u001b[0mlogs\u001b[0m\u001b[0;34m)\u001b[0m\u001b[0;34m\u001b[0m\u001b[0;34m\u001b[0m\u001b[0m\n\u001b[0m\u001b[1;32m    394\u001b[0m \u001b[0;34m\u001b[0m\u001b[0m\n\u001b[1;32m    395\u001b[0m         \u001b[0;32mif\u001b[0m \u001b[0mself\u001b[0m\u001b[0;34m.\u001b[0m\u001b[0m_check_timing\u001b[0m\u001b[0;34m:\u001b[0m\u001b[0;34m\u001b[0m\u001b[0;34m\u001b[0m\u001b[0m\n",
            "\u001b[0;32m/usr/local/lib/python3.10/dist-packages/keras/src/callbacks.py\u001b[0m in \u001b[0;36mon_train_batch_end\u001b[0;34m(self, batch, logs)\u001b[0m\n\u001b[1;32m   1091\u001b[0m \u001b[0;34m\u001b[0m\u001b[0m\n\u001b[1;32m   1092\u001b[0m     \u001b[0;32mdef\u001b[0m \u001b[0mon_train_batch_end\u001b[0m\u001b[0;34m(\u001b[0m\u001b[0mself\u001b[0m\u001b[0;34m,\u001b[0m \u001b[0mbatch\u001b[0m\u001b[0;34m,\u001b[0m \u001b[0mlogs\u001b[0m\u001b[0;34m=\u001b[0m\u001b[0;32mNone\u001b[0m\u001b[0;34m)\u001b[0m\u001b[0;34m:\u001b[0m\u001b[0;34m\u001b[0m\u001b[0;34m\u001b[0m\u001b[0m\n\u001b[0;32m-> 1093\u001b[0;31m         \u001b[0mself\u001b[0m\u001b[0;34m.\u001b[0m\u001b[0m_batch_update_progbar\u001b[0m\u001b[0;34m(\u001b[0m\u001b[0mbatch\u001b[0m\u001b[0;34m,\u001b[0m \u001b[0mlogs\u001b[0m\u001b[0;34m)\u001b[0m\u001b[0;34m\u001b[0m\u001b[0;34m\u001b[0m\u001b[0m\n\u001b[0m\u001b[1;32m   1094\u001b[0m \u001b[0;34m\u001b[0m\u001b[0m\n\u001b[1;32m   1095\u001b[0m     \u001b[0;32mdef\u001b[0m \u001b[0mon_test_batch_end\u001b[0m\u001b[0;34m(\u001b[0m\u001b[0mself\u001b[0m\u001b[0;34m,\u001b[0m \u001b[0mbatch\u001b[0m\u001b[0;34m,\u001b[0m \u001b[0mlogs\u001b[0m\u001b[0;34m=\u001b[0m\u001b[0;32mNone\u001b[0m\u001b[0;34m)\u001b[0m\u001b[0;34m:\u001b[0m\u001b[0;34m\u001b[0m\u001b[0;34m\u001b[0m\u001b[0m\n",
            "\u001b[0;32m/usr/local/lib/python3.10/dist-packages/keras/src/callbacks.py\u001b[0m in \u001b[0;36m_batch_update_progbar\u001b[0;34m(self, batch, logs)\u001b[0m\n\u001b[1;32m   1167\u001b[0m         \u001b[0;32mif\u001b[0m \u001b[0mself\u001b[0m\u001b[0;34m.\u001b[0m\u001b[0mverbose\u001b[0m \u001b[0;34m==\u001b[0m \u001b[0;36m1\u001b[0m\u001b[0;34m:\u001b[0m\u001b[0;34m\u001b[0m\u001b[0;34m\u001b[0m\u001b[0m\n\u001b[1;32m   1168\u001b[0m             \u001b[0;31m# Only block async when verbose = 1.\u001b[0m\u001b[0;34m\u001b[0m\u001b[0;34m\u001b[0m\u001b[0m\n\u001b[0;32m-> 1169\u001b[0;31m             \u001b[0mlogs\u001b[0m \u001b[0;34m=\u001b[0m \u001b[0mtf_utils\u001b[0m\u001b[0;34m.\u001b[0m\u001b[0msync_to_numpy_or_python_type\u001b[0m\u001b[0;34m(\u001b[0m\u001b[0mlogs\u001b[0m\u001b[0;34m)\u001b[0m\u001b[0;34m\u001b[0m\u001b[0;34m\u001b[0m\u001b[0m\n\u001b[0m\u001b[1;32m   1170\u001b[0m             \u001b[0mself\u001b[0m\u001b[0;34m.\u001b[0m\u001b[0mprogbar\u001b[0m\u001b[0;34m.\u001b[0m\u001b[0mupdate\u001b[0m\u001b[0;34m(\u001b[0m\u001b[0mself\u001b[0m\u001b[0;34m.\u001b[0m\u001b[0mseen\u001b[0m\u001b[0;34m,\u001b[0m \u001b[0mlist\u001b[0m\u001b[0;34m(\u001b[0m\u001b[0mlogs\u001b[0m\u001b[0;34m.\u001b[0m\u001b[0mitems\u001b[0m\u001b[0;34m(\u001b[0m\u001b[0;34m)\u001b[0m\u001b[0;34m)\u001b[0m\u001b[0;34m,\u001b[0m \u001b[0mfinalize\u001b[0m\u001b[0;34m=\u001b[0m\u001b[0;32mFalse\u001b[0m\u001b[0;34m)\u001b[0m\u001b[0;34m\u001b[0m\u001b[0;34m\u001b[0m\u001b[0m\n\u001b[1;32m   1171\u001b[0m \u001b[0;34m\u001b[0m\u001b[0m\n",
            "\u001b[0;32m/usr/local/lib/python3.10/dist-packages/keras/src/utils/tf_utils.py\u001b[0m in \u001b[0;36msync_to_numpy_or_python_type\u001b[0;34m(tensors)\u001b[0m\n\u001b[1;32m    692\u001b[0m         \u001b[0;32mreturn\u001b[0m \u001b[0mt\u001b[0m\u001b[0;34m.\u001b[0m\u001b[0mitem\u001b[0m\u001b[0;34m(\u001b[0m\u001b[0;34m)\u001b[0m \u001b[0;32mif\u001b[0m \u001b[0mnp\u001b[0m\u001b[0;34m.\u001b[0m\u001b[0mndim\u001b[0m\u001b[0;34m(\u001b[0m\u001b[0mt\u001b[0m\u001b[0;34m)\u001b[0m \u001b[0;34m==\u001b[0m \u001b[0;36m0\u001b[0m \u001b[0;32melse\u001b[0m \u001b[0mt\u001b[0m\u001b[0;34m\u001b[0m\u001b[0;34m\u001b[0m\u001b[0m\n\u001b[1;32m    693\u001b[0m \u001b[0;34m\u001b[0m\u001b[0m\n\u001b[0;32m--> 694\u001b[0;31m     \u001b[0;32mreturn\u001b[0m \u001b[0mtf\u001b[0m\u001b[0;34m.\u001b[0m\u001b[0mnest\u001b[0m\u001b[0;34m.\u001b[0m\u001b[0mmap_structure\u001b[0m\u001b[0;34m(\u001b[0m\u001b[0m_to_single_numpy_or_python_type\u001b[0m\u001b[0;34m,\u001b[0m \u001b[0mtensors\u001b[0m\u001b[0;34m)\u001b[0m\u001b[0;34m\u001b[0m\u001b[0;34m\u001b[0m\u001b[0m\n\u001b[0m\u001b[1;32m    695\u001b[0m \u001b[0;34m\u001b[0m\u001b[0m\n\u001b[1;32m    696\u001b[0m \u001b[0;34m\u001b[0m\u001b[0m\n",
            "\u001b[0;32m/usr/local/lib/python3.10/dist-packages/tensorflow/python/util/nest.py\u001b[0m in \u001b[0;36mmap_structure\u001b[0;34m(func, *structure, **kwargs)\u001b[0m\n\u001b[1;32m    629\u001b[0m     \u001b[0mValueError\u001b[0m\u001b[0;34m:\u001b[0m \u001b[0mIf\u001b[0m \u001b[0mwrong\u001b[0m \u001b[0mkeyword\u001b[0m \u001b[0marguments\u001b[0m \u001b[0mare\u001b[0m \u001b[0mprovided\u001b[0m\u001b[0;34m.\u001b[0m\u001b[0;34m\u001b[0m\u001b[0;34m\u001b[0m\u001b[0m\n\u001b[1;32m    630\u001b[0m   \"\"\"\n\u001b[0;32m--> 631\u001b[0;31m   return nest_util.map_structure(\n\u001b[0m\u001b[1;32m    632\u001b[0m       \u001b[0mnest_util\u001b[0m\u001b[0;34m.\u001b[0m\u001b[0mModality\u001b[0m\u001b[0;34m.\u001b[0m\u001b[0mCORE\u001b[0m\u001b[0;34m,\u001b[0m \u001b[0mfunc\u001b[0m\u001b[0;34m,\u001b[0m \u001b[0;34m*\u001b[0m\u001b[0mstructure\u001b[0m\u001b[0;34m,\u001b[0m \u001b[0;34m**\u001b[0m\u001b[0mkwargs\u001b[0m\u001b[0;34m\u001b[0m\u001b[0;34m\u001b[0m\u001b[0m\n\u001b[1;32m    633\u001b[0m   )\n",
            "\u001b[0;32m/usr/local/lib/python3.10/dist-packages/tensorflow/python/util/nest_util.py\u001b[0m in \u001b[0;36mmap_structure\u001b[0;34m(modality, func, *structure, **kwargs)\u001b[0m\n\u001b[1;32m   1064\u001b[0m   \"\"\"\n\u001b[1;32m   1065\u001b[0m   \u001b[0;32mif\u001b[0m \u001b[0mmodality\u001b[0m \u001b[0;34m==\u001b[0m \u001b[0mModality\u001b[0m\u001b[0;34m.\u001b[0m\u001b[0mCORE\u001b[0m\u001b[0;34m:\u001b[0m\u001b[0;34m\u001b[0m\u001b[0;34m\u001b[0m\u001b[0m\n\u001b[0;32m-> 1066\u001b[0;31m     \u001b[0;32mreturn\u001b[0m \u001b[0m_tf_core_map_structure\u001b[0m\u001b[0;34m(\u001b[0m\u001b[0mfunc\u001b[0m\u001b[0;34m,\u001b[0m \u001b[0;34m*\u001b[0m\u001b[0mstructure\u001b[0m\u001b[0;34m,\u001b[0m \u001b[0;34m**\u001b[0m\u001b[0mkwargs\u001b[0m\u001b[0;34m)\u001b[0m\u001b[0;34m\u001b[0m\u001b[0;34m\u001b[0m\u001b[0m\n\u001b[0m\u001b[1;32m   1067\u001b[0m   \u001b[0;32melif\u001b[0m \u001b[0mmodality\u001b[0m \u001b[0;34m==\u001b[0m \u001b[0mModality\u001b[0m\u001b[0;34m.\u001b[0m\u001b[0mDATA\u001b[0m\u001b[0;34m:\u001b[0m\u001b[0;34m\u001b[0m\u001b[0;34m\u001b[0m\u001b[0m\n\u001b[1;32m   1068\u001b[0m     \u001b[0;32mreturn\u001b[0m \u001b[0m_tf_data_map_structure\u001b[0m\u001b[0;34m(\u001b[0m\u001b[0mfunc\u001b[0m\u001b[0;34m,\u001b[0m \u001b[0;34m*\u001b[0m\u001b[0mstructure\u001b[0m\u001b[0;34m,\u001b[0m \u001b[0;34m**\u001b[0m\u001b[0mkwargs\u001b[0m\u001b[0;34m)\u001b[0m\u001b[0;34m\u001b[0m\u001b[0;34m\u001b[0m\u001b[0m\n",
            "\u001b[0;32m/usr/local/lib/python3.10/dist-packages/tensorflow/python/util/nest_util.py\u001b[0m in \u001b[0;36m_tf_core_map_structure\u001b[0;34m(func, *structure, **kwargs)\u001b[0m\n\u001b[1;32m   1104\u001b[0m   return _tf_core_pack_sequence_as(\n\u001b[1;32m   1105\u001b[0m       \u001b[0mstructure\u001b[0m\u001b[0;34m[\u001b[0m\u001b[0;36m0\u001b[0m\u001b[0;34m]\u001b[0m\u001b[0;34m,\u001b[0m\u001b[0;34m\u001b[0m\u001b[0;34m\u001b[0m\u001b[0m\n\u001b[0;32m-> 1106\u001b[0;31m       \u001b[0;34m[\u001b[0m\u001b[0mfunc\u001b[0m\u001b[0;34m(\u001b[0m\u001b[0;34m*\u001b[0m\u001b[0mx\u001b[0m\u001b[0;34m)\u001b[0m \u001b[0;32mfor\u001b[0m \u001b[0mx\u001b[0m \u001b[0;32min\u001b[0m \u001b[0mentries\u001b[0m\u001b[0;34m]\u001b[0m\u001b[0;34m,\u001b[0m\u001b[0;34m\u001b[0m\u001b[0;34m\u001b[0m\u001b[0m\n\u001b[0m\u001b[1;32m   1107\u001b[0m       \u001b[0mexpand_composites\u001b[0m\u001b[0;34m=\u001b[0m\u001b[0mexpand_composites\u001b[0m\u001b[0;34m,\u001b[0m\u001b[0;34m\u001b[0m\u001b[0;34m\u001b[0m\u001b[0m\n\u001b[1;32m   1108\u001b[0m   )\n",
            "\u001b[0;32m/usr/local/lib/python3.10/dist-packages/tensorflow/python/util/nest_util.py\u001b[0m in \u001b[0;36m<listcomp>\u001b[0;34m(.0)\u001b[0m\n\u001b[1;32m   1104\u001b[0m   return _tf_core_pack_sequence_as(\n\u001b[1;32m   1105\u001b[0m       \u001b[0mstructure\u001b[0m\u001b[0;34m[\u001b[0m\u001b[0;36m0\u001b[0m\u001b[0;34m]\u001b[0m\u001b[0;34m,\u001b[0m\u001b[0;34m\u001b[0m\u001b[0;34m\u001b[0m\u001b[0m\n\u001b[0;32m-> 1106\u001b[0;31m       \u001b[0;34m[\u001b[0m\u001b[0mfunc\u001b[0m\u001b[0;34m(\u001b[0m\u001b[0;34m*\u001b[0m\u001b[0mx\u001b[0m\u001b[0;34m)\u001b[0m \u001b[0;32mfor\u001b[0m \u001b[0mx\u001b[0m \u001b[0;32min\u001b[0m \u001b[0mentries\u001b[0m\u001b[0;34m]\u001b[0m\u001b[0;34m,\u001b[0m\u001b[0;34m\u001b[0m\u001b[0;34m\u001b[0m\u001b[0m\n\u001b[0m\u001b[1;32m   1107\u001b[0m       \u001b[0mexpand_composites\u001b[0m\u001b[0;34m=\u001b[0m\u001b[0mexpand_composites\u001b[0m\u001b[0;34m,\u001b[0m\u001b[0;34m\u001b[0m\u001b[0;34m\u001b[0m\u001b[0m\n\u001b[1;32m   1108\u001b[0m   )\n",
            "\u001b[0;32m/usr/local/lib/python3.10/dist-packages/keras/src/utils/tf_utils.py\u001b[0m in \u001b[0;36m_to_single_numpy_or_python_type\u001b[0;34m(t)\u001b[0m\n\u001b[1;32m    685\u001b[0m         \u001b[0;31m# Don't turn ragged or sparse tensors to NumPy.\u001b[0m\u001b[0;34m\u001b[0m\u001b[0;34m\u001b[0m\u001b[0m\n\u001b[1;32m    686\u001b[0m         \u001b[0;32mif\u001b[0m \u001b[0misinstance\u001b[0m\u001b[0;34m(\u001b[0m\u001b[0mt\u001b[0m\u001b[0;34m,\u001b[0m \u001b[0mtf\u001b[0m\u001b[0;34m.\u001b[0m\u001b[0mTensor\u001b[0m\u001b[0;34m)\u001b[0m\u001b[0;34m:\u001b[0m\u001b[0;34m\u001b[0m\u001b[0;34m\u001b[0m\u001b[0m\n\u001b[0;32m--> 687\u001b[0;31m             \u001b[0mt\u001b[0m \u001b[0;34m=\u001b[0m \u001b[0mt\u001b[0m\u001b[0;34m.\u001b[0m\u001b[0mnumpy\u001b[0m\u001b[0;34m(\u001b[0m\u001b[0;34m)\u001b[0m\u001b[0;34m\u001b[0m\u001b[0;34m\u001b[0m\u001b[0m\n\u001b[0m\u001b[1;32m    688\u001b[0m         \u001b[0;31m# Strings, ragged and sparse tensors don't have .item(). Return them\u001b[0m\u001b[0;34m\u001b[0m\u001b[0;34m\u001b[0m\u001b[0m\n\u001b[1;32m    689\u001b[0m         \u001b[0;31m# as-is.\u001b[0m\u001b[0;34m\u001b[0m\u001b[0;34m\u001b[0m\u001b[0m\n",
            "\u001b[0;32m/usr/local/lib/python3.10/dist-packages/tensorflow/python/framework/ops.py\u001b[0m in \u001b[0;36mnumpy\u001b[0;34m(self)\u001b[0m\n\u001b[1;32m    392\u001b[0m     \"\"\"\n\u001b[1;32m    393\u001b[0m     \u001b[0;31m# TODO(slebedev): Consider avoiding a copy for non-CPU or remote tensors.\u001b[0m\u001b[0;34m\u001b[0m\u001b[0;34m\u001b[0m\u001b[0m\n\u001b[0;32m--> 394\u001b[0;31m     \u001b[0mmaybe_arr\u001b[0m \u001b[0;34m=\u001b[0m \u001b[0mself\u001b[0m\u001b[0;34m.\u001b[0m\u001b[0m_numpy\u001b[0m\u001b[0;34m(\u001b[0m\u001b[0;34m)\u001b[0m  \u001b[0;31m# pylint: disable=protected-access\u001b[0m\u001b[0;34m\u001b[0m\u001b[0;34m\u001b[0m\u001b[0m\n\u001b[0m\u001b[1;32m    395\u001b[0m     \u001b[0;32mreturn\u001b[0m \u001b[0mmaybe_arr\u001b[0m\u001b[0;34m.\u001b[0m\u001b[0mcopy\u001b[0m\u001b[0;34m(\u001b[0m\u001b[0;34m)\u001b[0m \u001b[0;32mif\u001b[0m \u001b[0misinstance\u001b[0m\u001b[0;34m(\u001b[0m\u001b[0mmaybe_arr\u001b[0m\u001b[0;34m,\u001b[0m \u001b[0mnp\u001b[0m\u001b[0;34m.\u001b[0m\u001b[0mndarray\u001b[0m\u001b[0;34m)\u001b[0m \u001b[0;32melse\u001b[0m \u001b[0mmaybe_arr\u001b[0m\u001b[0;34m\u001b[0m\u001b[0;34m\u001b[0m\u001b[0m\n\u001b[1;32m    396\u001b[0m \u001b[0;34m\u001b[0m\u001b[0m\n",
            "\u001b[0;32m/usr/local/lib/python3.10/dist-packages/tensorflow/python/framework/ops.py\u001b[0m in \u001b[0;36m_numpy\u001b[0;34m(self)\u001b[0m\n\u001b[1;32m    358\u001b[0m   \u001b[0;32mdef\u001b[0m \u001b[0m_numpy\u001b[0m\u001b[0;34m(\u001b[0m\u001b[0mself\u001b[0m\u001b[0;34m)\u001b[0m\u001b[0;34m:\u001b[0m\u001b[0;34m\u001b[0m\u001b[0;34m\u001b[0m\u001b[0m\n\u001b[1;32m    359\u001b[0m     \u001b[0;32mtry\u001b[0m\u001b[0;34m:\u001b[0m\u001b[0;34m\u001b[0m\u001b[0;34m\u001b[0m\u001b[0m\n\u001b[0;32m--> 360\u001b[0;31m       \u001b[0;32mreturn\u001b[0m \u001b[0mself\u001b[0m\u001b[0;34m.\u001b[0m\u001b[0m_numpy_internal\u001b[0m\u001b[0;34m(\u001b[0m\u001b[0;34m)\u001b[0m\u001b[0;34m\u001b[0m\u001b[0;34m\u001b[0m\u001b[0m\n\u001b[0m\u001b[1;32m    361\u001b[0m     \u001b[0;32mexcept\u001b[0m \u001b[0mcore\u001b[0m\u001b[0;34m.\u001b[0m\u001b[0m_NotOkStatusException\u001b[0m \u001b[0;32mas\u001b[0m \u001b[0me\u001b[0m\u001b[0;34m:\u001b[0m  \u001b[0;31m# pylint: disable=protected-access\u001b[0m\u001b[0;34m\u001b[0m\u001b[0;34m\u001b[0m\u001b[0m\n\u001b[1;32m    362\u001b[0m       \u001b[0;32mraise\u001b[0m \u001b[0mcore\u001b[0m\u001b[0;34m.\u001b[0m\u001b[0m_status_to_exception\u001b[0m\u001b[0;34m(\u001b[0m\u001b[0me\u001b[0m\u001b[0;34m)\u001b[0m \u001b[0;32mfrom\u001b[0m \u001b[0;32mNone\u001b[0m  \u001b[0;31m# pylint: disable=protected-access\u001b[0m\u001b[0;34m\u001b[0m\u001b[0;34m\u001b[0m\u001b[0m\n",
            "\u001b[0;31mKeyboardInterrupt\u001b[0m: "
          ]
        }
      ],
      "source": [
        "model.fit(data, epochs=10, callbacks=[checkpoint_callback, schedule_callback, example_callback])\n"
      ]
    },
    {
      "cell_type": "markdown",
      "source": [
        "#### 5. Make Predictions"
      ],
      "metadata": {
        "id": "fIJAdlLrndfJ"
      }
    },
    {
      "cell_type": "code",
      "source": [
        "url = 'https://drive.google.com/uc?id=1vWscXs4Vt0a_1IH1-ct2TCgXAZT-N3_Y'\n",
        "output = 'checkpoints.zip'\n",
        "gdown.download(url, output, quiet=False)\n",
        "gdown.extractall('checkpoints.zip', 'models')"
      ],
      "metadata": {
        "colab": {
          "base_uri": "https://localhost:8080/"
        },
        "id": "66MO3t6lmXaQ",
        "outputId": "d01574ea-9e6e-4562-d4d2-d82571eaef39"
      },
      "execution_count": 99,
      "outputs": [
        {
          "output_type": "stream",
          "name": "stderr",
          "text": [
            "Downloading...\n",
            "From: https://drive.google.com/uc?id=1vWscXs4Vt0a_1IH1-ct2TCgXAZT-N3_Y\n",
            "To: /content/checkpoints.zip\n",
            "100%|██████████| 94.5M/94.5M [00:00<00:00, 186MB/s]\n"
          ]
        },
        {
          "output_type": "execute_result",
          "data": {
            "text/plain": [
              "['models/checkpoint.index',\n",
              " 'models/__MACOSX/._checkpoint.index',\n",
              " 'models/checkpoint.data-00000-of-00001',\n",
              " 'models/__MACOSX/._checkpoint.data-00000-of-00001',\n",
              " 'models/checkpoint',\n",
              " 'models/__MACOSX/._checkpoint']"
            ]
          },
          "metadata": {},
          "execution_count": 99
        }
      ]
    },
    {
      "cell_type": "code",
      "source": [
        "model.load_weights('models/checkpoint')"
      ],
      "metadata": {
        "colab": {
          "base_uri": "https://localhost:8080/"
        },
        "id": "IJqt7hG0mweh",
        "outputId": "2d453f18-8243-4585-b2f3-d6338421761d"
      },
      "execution_count": 106,
      "outputs": [
        {
          "output_type": "execute_result",
          "data": {
            "text/plain": [
              "<tensorflow.python.checkpoint.checkpoint.CheckpointLoadStatus at 0x79b325f5d1b0>"
            ]
          },
          "metadata": {},
          "execution_count": 106
        }
      ]
    },
    {
      "cell_type": "code",
      "source": [
        "model.optimizer = tf.keras.optimizers.legacy.Adam(learning_rate=0.001)"
      ],
      "metadata": {
        "id": "yGjTXPsKo7M0"
      },
      "execution_count": 105,
      "outputs": []
    },
    {
      "cell_type": "code",
      "source": [
        "test_data = test.as_numpy_iterator()"
      ],
      "metadata": {
        "id": "Uvfx3P_Imxz2"
      },
      "execution_count": 107,
      "outputs": []
    },
    {
      "cell_type": "code",
      "source": [
        "sample = test_data.next()"
      ],
      "metadata": {
        "id": "fMuyFlANmzyX"
      },
      "execution_count": 108,
      "outputs": []
    },
    {
      "cell_type": "code",
      "source": [
        "yhat = model.predict(sample[0])"
      ],
      "metadata": {
        "colab": {
          "base_uri": "https://localhost:8080/"
        },
        "id": "n9xaQNHjnHJG",
        "outputId": "1cbb05b2-169a-4049-eec0-50770f39339d"
      },
      "execution_count": 109,
      "outputs": [
        {
          "output_type": "stream",
          "name": "stdout",
          "text": [
            "1/1 [==============================] - 0s 277ms/step\n"
          ]
        }
      ]
    },
    {
      "cell_type": "code",
      "source": [
        "print('~'*100, 'REAL TEXT')\n",
        "[tf.strings.reduce_join([num_to_char(word) for word in sentence]) for sentence in sample[1]]"
      ],
      "metadata": {
        "colab": {
          "base_uri": "https://localhost:8080/"
        },
        "id": "mCUcF2RJnLdc",
        "outputId": "78f1e416-dd8e-4ea2-da6c-1b0f4bfb5dfd"
      },
      "execution_count": 110,
      "outputs": [
        {
          "output_type": "stream",
          "name": "stdout",
          "text": [
            "~~~~~~~~~~~~~~~~~~~~~~~~~~~~~~~~~~~~~~~~~~~~~~~~~~~~~~~~~~~~~~~~~~~~~~~~~~~~~~~~~~~~~~~~~~~~~~~~~~~~ REAL TEXT\n"
          ]
        },
        {
          "output_type": "execute_result",
          "data": {
            "text/plain": [
              "[<tf.Tensor: shape=(), dtype=string, numpy=b'lay blue by e zero now'>,\n",
              " <tf.Tensor: shape=(), dtype=string, numpy=b'lay white by s three again'>]"
            ]
          },
          "metadata": {},
          "execution_count": 110
        }
      ]
    },
    {
      "cell_type": "code",
      "source": [
        "decoded = tf.keras.backend.ctc_decode(yhat, input_length=[75,75], greedy=True)[0][0].numpy()"
      ],
      "metadata": {
        "id": "e1NEaKEOnPWj"
      },
      "execution_count": 111,
      "outputs": []
    },
    {
      "cell_type": "code",
      "source": [
        "print('~'*100, 'PREDICTIONS')\n",
        "[tf.strings.reduce_join([num_to_char(word) for word in sentence]) for sentence in decoded]"
      ],
      "metadata": {
        "colab": {
          "base_uri": "https://localhost:8080/"
        },
        "id": "JT2KyeDwnTWK",
        "outputId": "43a477af-da7a-4fa6-8361-99b6b292bc4a"
      },
      "execution_count": 112,
      "outputs": [
        {
          "output_type": "stream",
          "name": "stdout",
          "text": [
            "~~~~~~~~~~~~~~~~~~~~~~~~~~~~~~~~~~~~~~~~~~~~~~~~~~~~~~~~~~~~~~~~~~~~~~~~~~~~~~~~~~~~~~~~~~~~~~~~~~~~ PREDICTIONS\n"
          ]
        },
        {
          "output_type": "execute_result",
          "data": {
            "text/plain": [
              "[<tf.Tensor: shape=(), dtype=string, numpy=b'lay blue by e zero now'>,\n",
              " <tf.Tensor: shape=(), dtype=string, numpy=b'lay white by s three again'>]"
            ]
          },
          "metadata": {},
          "execution_count": 112
        }
      ]
    },
    {
      "cell_type": "markdown",
      "source": [
        "#### 6. Test on Video"
      ],
      "metadata": {
        "id": "q6KCCm58nWKQ"
      }
    },
    {
      "cell_type": "code",
      "source": [
        "sample = load_data(tf.convert_to_tensor('./data/s1/bras9a.mpg'))"
      ],
      "metadata": {
        "id": "EZ5s5_7vnaIA"
      },
      "execution_count": 114,
      "outputs": []
    },
    {
      "cell_type": "code",
      "source": [
        "print('~'*100, 'REAL TEXT')\n",
        "[tf.strings.reduce_join([num_to_char(word) for word in sentence]) for sentence in [sample[1]]]"
      ],
      "metadata": {
        "colab": {
          "base_uri": "https://localhost:8080/"
        },
        "id": "tIoorJQ1noJ-",
        "outputId": "023c13e8-b852-491c-b376-6fc9f3213ba1"
      },
      "execution_count": 115,
      "outputs": [
        {
          "output_type": "stream",
          "name": "stdout",
          "text": [
            "~~~~~~~~~~~~~~~~~~~~~~~~~~~~~~~~~~~~~~~~~~~~~~~~~~~~~~~~~~~~~~~~~~~~~~~~~~~~~~~~~~~~~~~~~~~~~~~~~~~~ REAL TEXT\n"
          ]
        },
        {
          "output_type": "execute_result",
          "data": {
            "text/plain": [
              "[<tf.Tensor: shape=(), dtype=string, numpy=b'bin red at s nine again'>]"
            ]
          },
          "metadata": {},
          "execution_count": 115
        }
      ]
    },
    {
      "cell_type": "code",
      "source": [
        "yhat = model.predict(tf.expand_dims(sample[0], axis=0))"
      ],
      "metadata": {
        "colab": {
          "base_uri": "https://localhost:8080/"
        },
        "id": "Q0W4iYYHnqtu",
        "outputId": "ceca595f-9ee6-444f-b346-c17d92122620"
      },
      "execution_count": 116,
      "outputs": [
        {
          "output_type": "stream",
          "name": "stdout",
          "text": [
            "1/1 [==============================] - 1s 1s/step\n"
          ]
        }
      ]
    },
    {
      "cell_type": "code",
      "source": [
        "decoded = tf.keras.backend.ctc_decode(yhat, input_length=[75], greedy=True)[0][0].numpy()"
      ],
      "metadata": {
        "id": "WcclQJQnnsIs"
      },
      "execution_count": 117,
      "outputs": []
    },
    {
      "cell_type": "code",
      "source": [
        "print('~'*100, 'PREDICTIONS')\n",
        "[tf.strings.reduce_join([num_to_char(word) for word in sentence]) for sentence in decoded]"
      ],
      "metadata": {
        "colab": {
          "base_uri": "https://localhost:8080/"
        },
        "id": "8vie8nypntyQ",
        "outputId": "016a73fb-ae27-4404-872b-eff144d67346"
      },
      "execution_count": 118,
      "outputs": [
        {
          "output_type": "stream",
          "name": "stdout",
          "text": [
            "~~~~~~~~~~~~~~~~~~~~~~~~~~~~~~~~~~~~~~~~~~~~~~~~~~~~~~~~~~~~~~~~~~~~~~~~~~~~~~~~~~~~~~~~~~~~~~~~~~~~ PREDICTIONS\n"
          ]
        },
        {
          "output_type": "execute_result",
          "data": {
            "text/plain": [
              "[<tf.Tensor: shape=(), dtype=string, numpy=b'bin red at s nine again'>]"
            ]
          },
          "metadata": {},
          "execution_count": 118
        }
      ]
    }
  ],
  "metadata": {
    "kernelspec": {
      "display_name": "Python 3",
      "name": "python3"
    },
    "language_info": {
      "codemirror_mode": {
        "name": "ipython",
        "version": 3
      },
      "file_extension": ".py",
      "mimetype": "text/x-python",
      "name": "python",
      "nbconvert_exporter": "python",
      "pygments_lexer": "ipython3",
      "version": "3.10.11"
    },
    "colab": {
      "provenance": [],
      "gpuType": "T4"
    },
    "accelerator": "GPU"
  },
  "nbformat": 4,
  "nbformat_minor": 0
}